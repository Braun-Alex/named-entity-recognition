{
  "cells": [
    {
      "cell_type": "code",
      "execution_count": null,
      "id": "initial_id",
      "metadata": {
        "ExecuteTime": {
          "end_time": "2024-04-03T07:59:19.754937Z",
          "start_time": "2024-04-03T07:57:33.914675Z"
        },
        "id": "initial_id",
        "outputId": "faeaf69d-bf4f-4e9d-eb01-176f85a33130"
      },
      "outputs": [
        {
          "name": "stdout",
          "output_type": "stream",
          "text": [
            "Requirement already satisfied: numpy in /home/alex_braun/anaconda3/lib/python3.9/site-packages (1.26.4)\n",
            "Requirement already satisfied: scikit-learn in /home/alex_braun/anaconda3/lib/python3.9/site-packages (1.0.2)\n",
            "Requirement already satisfied: tensorflow in /home/alex_braun/anaconda3/lib/python3.9/site-packages (2.15.0)\n",
            "Requirement already satisfied: scipy>=1.1.0 in /home/alex_braun/anaconda3/lib/python3.9/site-packages (from scikit-learn) (1.11.3)\n",
            "Requirement already satisfied: joblib>=0.11 in /home/alex_braun/anaconda3/lib/python3.9/site-packages (from scikit-learn) (1.3.2)\n",
            "Requirement already satisfied: threadpoolctl>=2.0.0 in /home/alex_braun/anaconda3/lib/python3.9/site-packages (from scikit-learn) (2.2.0)\n",
            "Requirement already satisfied: absl-py>=1.0.0 in /home/alex_braun/anaconda3/lib/python3.9/site-packages (from tensorflow) (2.1.0)\n",
            "Requirement already satisfied: astunparse>=1.6.0 in /home/alex_braun/anaconda3/lib/python3.9/site-packages (from tensorflow) (1.6.3)\n",
            "Requirement already satisfied: flatbuffers>=23.5.26 in /home/alex_braun/anaconda3/lib/python3.9/site-packages (from tensorflow) (23.5.26)\n",
            "Requirement already satisfied: gast!=0.5.0,!=0.5.1,!=0.5.2,>=0.2.1 in /home/alex_braun/anaconda3/lib/python3.9/site-packages (from tensorflow) (0.4.0)\n",
            "Requirement already satisfied: google-pasta>=0.1.1 in /home/alex_braun/anaconda3/lib/python3.9/site-packages (from tensorflow) (0.2.0)\n",
            "Requirement already satisfied: h5py>=2.9.0 in /home/alex_braun/anaconda3/lib/python3.9/site-packages (from tensorflow) (3.7.0)\n",
            "Requirement already satisfied: libclang>=13.0.0 in /home/alex_braun/anaconda3/lib/python3.9/site-packages (from tensorflow) (16.0.6)\n",
            "Requirement already satisfied: ml-dtypes~=0.2.0 in /home/alex_braun/anaconda3/lib/python3.9/site-packages (from tensorflow) (0.2.0)\n",
            "Requirement already satisfied: opt-einsum>=2.3.2 in /home/alex_braun/anaconda3/lib/python3.9/site-packages (from tensorflow) (3.3.0)\n",
            "Requirement already satisfied: packaging in /home/alex_braun/anaconda3/lib/python3.9/site-packages (from tensorflow) (21.3)\n",
            "Requirement already satisfied: protobuf!=4.21.0,!=4.21.1,!=4.21.2,!=4.21.3,!=4.21.4,!=4.21.5,<5.0.0dev,>=3.20.3 in /home/alex_braun/anaconda3/lib/python3.9/site-packages (from tensorflow) (4.25.3)\n",
            "Requirement already satisfied: setuptools in /home/alex_braun/anaconda3/lib/python3.9/site-packages (from tensorflow) (63.4.1)\n",
            "Requirement already satisfied: six>=1.12.0 in /home/alex_braun/anaconda3/lib/python3.9/site-packages (from tensorflow) (1.16.0)\n",
            "Requirement already satisfied: termcolor>=1.1.0 in /home/alex_braun/anaconda3/lib/python3.9/site-packages (from tensorflow) (2.4.0)\n",
            "Requirement already satisfied: typing-extensions>=3.6.6 in /home/alex_braun/anaconda3/lib/python3.9/site-packages (from tensorflow) (4.10.0)\n",
            "Requirement already satisfied: wrapt<1.15,>=1.11.0 in /home/alex_braun/anaconda3/lib/python3.9/site-packages (from tensorflow) (1.14.1)\n",
            "Requirement already satisfied: tensorflow-io-gcs-filesystem>=0.23.1 in /home/alex_braun/anaconda3/lib/python3.9/site-packages (from tensorflow) (0.36.0)\n",
            "Requirement already satisfied: grpcio<2.0,>=1.24.3 in /home/alex_braun/anaconda3/lib/python3.9/site-packages (from tensorflow) (1.62.0)\n",
            "Requirement already satisfied: tensorboard<2.16,>=2.15 in /home/alex_braun/anaconda3/lib/python3.9/site-packages (from tensorflow) (2.15.2)\n",
            "Requirement already satisfied: tensorflow-estimator<2.16,>=2.15.0 in /home/alex_braun/anaconda3/lib/python3.9/site-packages (from tensorflow) (2.15.0)\n",
            "Requirement already satisfied: keras<2.16,>=2.15.0 in /home/alex_braun/anaconda3/lib/python3.9/site-packages (from tensorflow) (2.15.0)\n",
            "Requirement already satisfied: wheel<1.0,>=0.23.0 in /home/alex_braun/anaconda3/lib/python3.9/site-packages (from astunparse>=1.6.0->tensorflow) (0.37.1)\n",
            "Requirement already satisfied: google-auth<3,>=1.6.3 in /home/alex_braun/anaconda3/lib/python3.9/site-packages (from tensorboard<2.16,>=2.15->tensorflow) (2.28.1)\n",
            "Requirement already satisfied: google-auth-oauthlib<2,>=0.5 in /home/alex_braun/anaconda3/lib/python3.9/site-packages (from tensorboard<2.16,>=2.15->tensorflow) (1.0.0)\n",
            "Requirement already satisfied: markdown>=2.6.8 in /home/alex_braun/anaconda3/lib/python3.9/site-packages (from tensorboard<2.16,>=2.15->tensorflow) (3.3.4)\n",
            "Requirement already satisfied: requests<3,>=2.21.0 in /home/alex_braun/anaconda3/lib/python3.9/site-packages (from tensorboard<2.16,>=2.15->tensorflow) (2.31.0)\n",
            "Requirement already satisfied: tensorboard-data-server<0.8.0,>=0.7.0 in /home/alex_braun/anaconda3/lib/python3.9/site-packages (from tensorboard<2.16,>=2.15->tensorflow) (0.7.2)\n",
            "Requirement already satisfied: werkzeug>=1.0.1 in /home/alex_braun/anaconda3/lib/python3.9/site-packages (from tensorboard<2.16,>=2.15->tensorflow) (2.0.3)\n",
            "Requirement already satisfied: pyparsing!=3.0.5,>=2.0.2 in /home/alex_braun/anaconda3/lib/python3.9/site-packages (from packaging->tensorflow) (3.0.9)\n",
            "Requirement already satisfied: cachetools<6.0,>=2.0.0 in /home/alex_braun/anaconda3/lib/python3.9/site-packages (from google-auth<3,>=1.6.3->tensorboard<2.16,>=2.15->tensorflow) (5.3.2)\n",
            "Requirement already satisfied: pyasn1-modules>=0.2.1 in /home/alex_braun/anaconda3/lib/python3.9/site-packages (from google-auth<3,>=1.6.3->tensorboard<2.16,>=2.15->tensorflow) (0.2.8)\n",
            "Requirement already satisfied: rsa<5,>=3.1.4 in /home/alex_braun/anaconda3/lib/python3.9/site-packages (from google-auth<3,>=1.6.3->tensorboard<2.16,>=2.15->tensorflow) (4.9)\n",
            "Requirement already satisfied: requests-oauthlib>=0.7.0 in /home/alex_braun/anaconda3/lib/python3.9/site-packages (from google-auth-oauthlib<2,>=0.5->tensorboard<2.16,>=2.15->tensorflow) (1.3.1)\n",
            "Requirement already satisfied: charset-normalizer<4,>=2 in /home/alex_braun/anaconda3/lib/python3.9/site-packages (from requests<3,>=2.21.0->tensorboard<2.16,>=2.15->tensorflow) (2.0.4)\n",
            "Requirement already satisfied: idna<4,>=2.5 in /home/alex_braun/anaconda3/lib/python3.9/site-packages (from requests<3,>=2.21.0->tensorboard<2.16,>=2.15->tensorflow) (3.3)\n",
            "Requirement already satisfied: urllib3<3,>=1.21.1 in /home/alex_braun/anaconda3/lib/python3.9/site-packages (from requests<3,>=2.21.0->tensorboard<2.16,>=2.15->tensorflow) (1.26.11)\n",
            "Requirement already satisfied: certifi>=2017.4.17 in /home/alex_braun/anaconda3/lib/python3.9/site-packages (from requests<3,>=2.21.0->tensorboard<2.16,>=2.15->tensorflow) (2022.9.14)\n",
            "Requirement already satisfied: pyasn1<0.5.0,>=0.4.6 in /home/alex_braun/anaconda3/lib/python3.9/site-packages (from pyasn1-modules>=0.2.1->google-auth<3,>=1.6.3->tensorboard<2.16,>=2.15->tensorflow) (0.4.8)\n",
            "Requirement already satisfied: oauthlib>=3.0.0 in /home/alex_braun/anaconda3/lib/python3.9/site-packages (from requests-oauthlib>=0.7.0->google-auth-oauthlib<2,>=0.5->tensorboard<2.16,>=2.15->tensorflow) (3.2.2)\n"
          ]
        }
      ],
      "source": [
        "!pip install numpy scikit-learn tensorflow"
      ]
    },
    {
      "cell_type": "code",
      "execution_count": null,
      "id": "31657880dcff5207",
      "metadata": {
        "ExecuteTime": {
          "end_time": "2024-04-03T07:59:35.061723Z",
          "start_time": "2024-04-03T07:59:35.050434Z"
        },
        "id": "31657880dcff5207"
      },
      "outputs": [],
      "source": [
        "def transform_dataset(page_dataset, for_inference):\n",
        "    labeled_text_dataset = []\n",
        "    for page in page_dataset:\n",
        "        page_words = page[\"representativeData\"][\"page_data_words\"]\n",
        "\n",
        "        geo_dictionary = {}\n",
        "        if not for_inference:\n",
        "            page_answers = page.get(\"answers\")\n",
        "            for page_answer in page_answers[0][\"answer\"]:\n",
        "                geo_label = page_answer[\"id\"]\n",
        "                for geo_part in page_answer[\"data\"]:\n",
        "                    for index in range(geo_part[\"start\"], geo_part[\"end\"]):\n",
        "                        geo_dictionary[index] = geo_label\n",
        "\n",
        "        labeled_text = []\n",
        "        for word_index, word in enumerate(page_words):\n",
        "            word_label = \"0\" if for_inference else geo_dictionary.get(word_index, \"O\")\n",
        "            labeled_text.append((word, word_label))\n",
        "\n",
        "        if not for_inference:\n",
        "            labeled_text_dataset.append(labeled_text)\n",
        "        else:\n",
        "            labeled_text_dataset.append((page[\"taskId\"], labeled_text))\n",
        "\n",
        "    return labeled_text_dataset"
      ]
    },
    {
      "cell_type": "code",
      "execution_count": null,
      "id": "cb7663d231d4b68c",
      "metadata": {
        "ExecuteTime": {
          "end_time": "2024-04-03T07:59:35.791794Z",
          "start_time": "2024-04-03T07:59:35.785361Z"
        },
        "id": "cb7663d231d4b68c"
      },
      "outputs": [],
      "source": [
        "import json\n",
        "\n",
        "def get_labeled_dataset(dataset_path, for_inference=False):\n",
        "    with open(dataset_path) as json_dataset:\n",
        "        dataset = json.load(json_dataset)\n",
        "\n",
        "    labeled_dataset = transform_dataset(dataset[\"data\"][\"results\"], for_inference)\n",
        "    return labeled_dataset"
      ]
    },
    {
      "cell_type": "code",
      "execution_count": null,
      "id": "d7cbd9ffebc2c688",
      "metadata": {
        "ExecuteTime": {
          "end_time": "2024-04-03T07:59:41.821943Z",
          "start_time": "2024-04-03T07:59:41.803947Z"
        },
        "id": "d7cbd9ffebc2c688"
      },
      "outputs": [],
      "source": [
        "def get_validation_result(X_validation, y_pred):\n",
        "    validation_result = []\n",
        "\n",
        "    for ((task_id, _), predictions) in zip(X_validation, y_pred):\n",
        "        answers = {}\n",
        "        current_label = None\n",
        "        start_index = None\n",
        "\n",
        "        for current_index, label in enumerate(predictions):\n",
        "            if label == current_label:\n",
        "                continue\n",
        "            else:\n",
        "                if current_label is not None and current_label != \"O\":\n",
        "                    if current_label not in answers:\n",
        "                        answers[current_label] = []\n",
        "                    answers[current_label].append({\"start\": start_index, \"end\": current_index})\n",
        "\n",
        "                if label != \"0\":\n",
        "                    current_label = label\n",
        "                    start_index = current_index\n",
        "                else:\n",
        "                    current_label = None\n",
        "\n",
        "        if current_label is not None and current_label != \"O\":\n",
        "            if current_label not in answers:\n",
        "                answers[current_label] = []\n",
        "            answers[current_label].append({\"start\": start_index, \"end\": len(predictions)})\n",
        "\n",
        "        validation_answers = []\n",
        "        for label, segments in answers.items():\n",
        "            validation_answers.append({\"id\": label, \"data\": segments})\n",
        "\n",
        "        validation_result.append({\n",
        "            \"taskId\": task_id,\n",
        "            \"answer\": validation_answers\n",
        "        })\n",
        "\n",
        "    return validation_result"
      ]
    },
    {
      "cell_type": "code",
      "execution_count": null,
      "id": "96ffa052",
      "metadata": {
        "id": "96ffa052",
        "outputId": "aeff18f8-129d-40f4-b434-94b6e5686f0e"
      },
      "outputs": [
        {
          "name": "stderr",
          "output_type": "stream",
          "text": [
            "2024-04-12 16:44:23.838704: E external/local_xla/xla/stream_executor/cuda/cuda_dnn.cc:9261] Unable to register cuDNN factory: Attempting to register factory for plugin cuDNN when one has already been registered\n",
            "2024-04-12 16:44:23.838818: E external/local_xla/xla/stream_executor/cuda/cuda_fft.cc:607] Unable to register cuFFT factory: Attempting to register factory for plugin cuFFT when one has already been registered\n",
            "2024-04-12 16:44:23.892771: E external/local_xla/xla/stream_executor/cuda/cuda_blas.cc:1515] Unable to register cuBLAS factory: Attempting to register factory for plugin cuBLAS when one has already been registered\n",
            "2024-04-12 16:44:24.072372: I tensorflow/core/platform/cpu_feature_guard.cc:182] This TensorFlow binary is optimized to use available CPU instructions in performance-critical operations.\n",
            "To enable the following instructions: AVX2 FMA, in other operations, rebuild TensorFlow with the appropriate compiler flags.\n",
            "2024-04-12 16:44:25.729036: W tensorflow/compiler/tf2tensorrt/utils/py_utils.cc:38] TF-TRT Warning: Could not find TensorRT\n"
          ]
        }
      ],
      "source": [
        "import tensorflow as tf\n",
        "\n",
        "def focal_loss(alpha=0.25, gamma=2.):\n",
        "    def focal_loss_parametrized(y_true, y_pred):\n",
        "        e = 1.e-9\n",
        "        y_true = tf.convert_to_tensor(y_true, tf.float32)\n",
        "        y_pred = tf.convert_to_tensor(y_pred, tf.float32)\n",
        "\n",
        "        model_output = tf.add(y_pred, e)\n",
        "        ce = tf.multiply(y_true, -tf.math.log(model_output))\n",
        "        w = tf.multiply(y_true, tf.pow(tf.subtract(1., model_output), gamma))\n",
        "        fl = tf.multiply(alpha, tf.multiply(w, ce))\n",
        "        reduced_fl = tf.reduce_max(fl, axis=1)\n",
        "        return tf.reduce_mean(reduced_fl)\n",
        "\n",
        "    return focal_loss_parametrized"
      ]
    },
    {
      "cell_type": "code",
      "source": [
        "from google.colab import drive\n",
        "drive.mount('/content/drive')\n",
        "\n",
        "train_dataset = get_labeled_dataset(\"/content/drive/My Drive/Colab Notebooks/datasets/train_geo_extractor.json\")\n",
        "test_dataset = get_labeled_dataset(\"/content/drive/My Drive/Colab Notebooks/datasets/test_geo_extractor.json\")"
      ],
      "metadata": {
        "colab": {
          "base_uri": "https://localhost:8080/"
        },
        "id": "1Dvx7T2ROePD",
        "outputId": "8f6cdb73-1751-4c8c-916e-3e51336242e3"
      },
      "id": "1Dvx7T2ROePD",
      "execution_count": null,
      "outputs": [
        {
          "output_type": "stream",
          "name": "stdout",
          "text": [
            "Drive already mounted at /content/drive; to attempt to forcibly remount, call drive.mount(\"/content/drive\", force_remount=True).\n"
          ]
        }
      ]
    },
    {
      "cell_type": "code",
      "source": [
        "print(len(train_dataset))\n",
        "print(len(test_dataset))"
      ],
      "metadata": {
        "colab": {
          "base_uri": "https://localhost:8080/"
        },
        "id": "djbUFgCBYj15",
        "outputId": "05df1e4b-3009-4a7a-c7bf-34d65c266115"
      },
      "id": "djbUFgCBYj15",
      "execution_count": null,
      "outputs": [
        {
          "output_type": "stream",
          "name": "stdout",
          "text": [
            "2788\n",
            "930\n"
          ]
        }
      ]
    },
    {
      "cell_type": "code",
      "source": [
        "train_dataset = train_dataset[0:200]\n",
        "test_dataset = test_dataset[0:50]\n",
        "\n",
        "print(len(train_dataset))\n",
        "print(len(test_dataset))"
      ],
      "metadata": {
        "colab": {
          "base_uri": "https://localhost:8080/"
        },
        "id": "-tJU3faJYpps",
        "outputId": "e205f31d-0e18-47d8-94a8-3a102434a318"
      },
      "id": "-tJU3faJYpps",
      "execution_count": null,
      "outputs": [
        {
          "output_type": "stream",
          "name": "stdout",
          "text": [
            "200\n",
            "50\n"
          ]
        }
      ]
    },
    {
      "cell_type": "code",
      "execution_count": null,
      "id": "3ebb486e",
      "metadata": {
        "id": "3ebb486e",
        "colab": {
          "base_uri": "https://localhost:8080/",
          "height": 263
        },
        "outputId": "83e598a6-11e7-45a5-a4b4-2a1666d4b3cc"
      },
      "outputs": [
        {
          "output_type": "error",
          "ename": "FileNotFoundError",
          "evalue": "[Errno 2] No such file or directory: 'datasets/train_geo_extractor.json'",
          "traceback": [
            "\u001b[0;31m---------------------------------------------------------------------------\u001b[0m",
            "\u001b[0;31mFileNotFoundError\u001b[0m                         Traceback (most recent call last)",
            "\u001b[0;32m<ipython-input-4-87bb4358cbd0>\u001b[0m in \u001b[0;36m<cell line: 1>\u001b[0;34m()\u001b[0m\n\u001b[0;32m----> 1\u001b[0;31m \u001b[0mtrain_dataset\u001b[0m \u001b[0;34m=\u001b[0m \u001b[0mget_labeled_dataset\u001b[0m\u001b[0;34m(\u001b[0m\u001b[0;34m\"datasets/train_geo_extractor.json\"\u001b[0m\u001b[0;34m)\u001b[0m\u001b[0;34m\u001b[0m\u001b[0;34m\u001b[0m\u001b[0m\n\u001b[0m",
            "\u001b[0;32m<ipython-input-2-526af6e20f0f>\u001b[0m in \u001b[0;36mget_labeled_dataset\u001b[0;34m(dataset_path, for_inference)\u001b[0m\n\u001b[1;32m      2\u001b[0m \u001b[0;34m\u001b[0m\u001b[0m\n\u001b[1;32m      3\u001b[0m \u001b[0;32mdef\u001b[0m \u001b[0mget_labeled_dataset\u001b[0m\u001b[0;34m(\u001b[0m\u001b[0mdataset_path\u001b[0m\u001b[0;34m,\u001b[0m \u001b[0mfor_inference\u001b[0m\u001b[0;34m=\u001b[0m\u001b[0;32mFalse\u001b[0m\u001b[0;34m)\u001b[0m\u001b[0;34m:\u001b[0m\u001b[0;34m\u001b[0m\u001b[0;34m\u001b[0m\u001b[0m\n\u001b[0;32m----> 4\u001b[0;31m     \u001b[0;32mwith\u001b[0m \u001b[0mopen\u001b[0m\u001b[0;34m(\u001b[0m\u001b[0mdataset_path\u001b[0m\u001b[0;34m)\u001b[0m \u001b[0;32mas\u001b[0m \u001b[0mjson_dataset\u001b[0m\u001b[0;34m:\u001b[0m\u001b[0;34m\u001b[0m\u001b[0;34m\u001b[0m\u001b[0m\n\u001b[0m\u001b[1;32m      5\u001b[0m         \u001b[0mdataset\u001b[0m \u001b[0;34m=\u001b[0m \u001b[0mjson\u001b[0m\u001b[0;34m.\u001b[0m\u001b[0mload\u001b[0m\u001b[0;34m(\u001b[0m\u001b[0mjson_dataset\u001b[0m\u001b[0;34m)\u001b[0m\u001b[0;34m\u001b[0m\u001b[0;34m\u001b[0m\u001b[0m\n\u001b[1;32m      6\u001b[0m \u001b[0;34m\u001b[0m\u001b[0m\n",
            "\u001b[0;31mFileNotFoundError\u001b[0m: [Errno 2] No such file or directory: 'datasets/train_geo_extractor.json'"
          ]
        }
      ],
      "source": [
        "train_dataset = get_labeled_dataset(\"datasets/train_geo_extractor.json\")"
      ]
    },
    {
      "cell_type": "code",
      "execution_count": null,
      "id": "48399587",
      "metadata": {
        "id": "48399587"
      },
      "outputs": [],
      "source": [
        "max_text_length = max([len(text) for text in train_dataset])\n",
        "\n",
        "words = [word for text in train_dataset for word, _ in text]\n",
        "words.append(\"UNKNOWN\")\n",
        "words.append(\"ENDPAD\")\n",
        "words = list(set(words))\n",
        "\n",
        "labels = list(set([label for text in train_dataset for _, label in text]))"
      ]
    },
    {
      "cell_type": "code",
      "execution_count": null,
      "id": "c68c9b03",
      "metadata": {
        "id": "c68c9b03"
      },
      "outputs": [],
      "source": [
        "word2index = {word: index for index, word in enumerate(words)}\n",
        "label2index = {label: index for index, label in enumerate(labels)}"
      ]
    },
    {
      "cell_type": "code",
      "execution_count": null,
      "id": "3cb9f171",
      "metadata": {
        "id": "3cb9f171"
      },
      "outputs": [],
      "source": [
        "from tensorflow.keras.preprocessing.sequence import pad_sequences\n",
        "\n",
        "X_train = [[word2index[word] for word, _ in text] for text in train_dataset]\n",
        "X_train = pad_sequences(maxlen=max_text_length, sequences=X_train, padding=\"post\", value=len(words) - 1)\n",
        "\n",
        "y_train = [[label2index[label] for _, label in text] for text in train_dataset]\n",
        "y_train = pad_sequences(maxlen=max_text_length, sequences=y_train, padding=\"post\", value=label2index[\"O\"])"
      ]
    },
    {
      "cell_type": "code",
      "execution_count": null,
      "id": "c1cd8c1e",
      "metadata": {
        "id": "c1cd8c1e"
      },
      "outputs": [],
      "source": [
        "from tensorflow.keras.utils import to_categorical\n",
        "\n",
        "y_train = [to_categorical(index, num_classes=len(labels)) for index in y_train]"
      ]
    },
    {
      "cell_type": "code",
      "execution_count": null,
      "id": "96894246",
      "metadata": {
        "id": "96894246",
        "outputId": "cb4f4636-8507-4210-db48-20e70cbdba09"
      },
      "outputs": [
        {
          "name": "stdout",
          "output_type": "stream",
          "text": [
            "Epoch 1/5\n",
            "175/175 [==============================] - 59s 312ms/step - loss: 0.0921 - accuracy: 0.9750\n",
            "Epoch 2/5\n",
            "175/175 [==============================] - 53s 303ms/step - loss: 0.0383 - accuracy: 0.9978\n",
            "Epoch 3/5\n",
            "175/175 [==============================] - 49s 282ms/step - loss: 0.0193 - accuracy: 0.9988\n",
            "Epoch 4/5\n",
            "175/175 [==============================] - 49s 282ms/step - loss: 0.0116 - accuracy: 0.9993\n",
            "Epoch 5/5\n",
            "175/175 [==============================] - 49s 282ms/step - loss: 0.0076 - accuracy: 0.9995\n",
            "INFO:tensorflow:Assets written to: saved_model/a438be36-e0ab-4993-81c8-b17bace74911/assets\n"
          ]
        },
        {
          "name": "stderr",
          "output_type": "stream",
          "text": [
            "INFO:tensorflow:Assets written to: saved_model/a438be36-e0ab-4993-81c8-b17bace74911/assets\n"
          ]
        },
        {
          "name": "stdout",
          "output_type": "stream",
          "text": [
            "Model a438be36-e0ab-4993-81c8-b17bace74911 has successfully been saved!\n"
          ]
        }
      ],
      "source": [
        "import os\n",
        "from uuid import uuid4\n",
        "import numpy as np\n",
        "from tensorflow.keras.models import Model\n",
        "from tensorflow.keras.layers import Input, TimeDistributed, BatchNormalization\n",
        "from tensorflow.keras.layers import Embedding, Dropout, Dense\n",
        "from tensorflow.keras.layers import Bidirectional, LSTM\n",
        "\n",
        "model_input = Input(shape=(max_text_length, ))\n",
        "embedding_output = Embedding(input_dim=len(words), output_dim=max_text_length,\n",
        "                             input_length=max_text_length)(model_input)\n",
        "dropout_output = Dropout(0.1)(embedding_output)\n",
        "\n",
        "lstm_output = Bidirectional(LSTM(units=300, return_sequences=True))(dropout_output)\n",
        "\n",
        "model_output = TimeDistributed(Dense(len(labels), activation=\"softmax\"))(lstm_output)\n",
        "\n",
        "model = Model(model_input, model_output)\n",
        "model.compile(optimizer=\"adam\", loss=focal_loss(), metrics=[\"accuracy\"])\n",
        "\n",
        "model.fit(X_train, np.array(y_train), batch_size=16, epochs=5, use_multiprocessing=True, workers=os.cpu_count())\n",
        "\n",
        "random_model_name = str(uuid4())\n",
        "model.save(f\"saved_model/{random_model_name}\")\n",
        "print(f\"Model {random_model_name} has successfully been saved!\")"
      ]
    },
    {
      "cell_type": "code",
      "execution_count": null,
      "id": "10a45e25",
      "metadata": {
        "id": "10a45e25"
      },
      "outputs": [],
      "source": [
        "!pip install numpy scikit-learn gensim tf2crf tensorflow"
      ]
    },
    {
      "cell_type": "code",
      "execution_count": null,
      "id": "7abb153a",
      "metadata": {
        "id": "7abb153a"
      },
      "outputs": [],
      "source": [
        "import os\n",
        "from gensim.models import FastText\n",
        "\n",
        "sentences = [[word for word, _ in text] for text in train_dataset]\n",
        "\n",
        "model = FastText(sentences, vector_size=100, window=3, min_count=1, workers=os.cpu_count(), sg=1)"
      ]
    },
    {
      "cell_type": "code",
      "execution_count": null,
      "id": "52ffa22f",
      "metadata": {
        "id": "52ffa22f"
      },
      "outputs": [],
      "source": [
        "import numpy as np\n",
        "\n",
        "embedding_matrix = np.zeros((len(word2index), 100))\n",
        "\n",
        "for word, index in word2index.items():\n",
        "    embedding_vector = model.wv[word]\n",
        "    embedding_matrix[index] = embedding_vector"
      ]
    },
    {
      "cell_type": "code",
      "execution_count": null,
      "id": "7988da67",
      "metadata": {
        "id": "7988da67"
      },
      "outputs": [],
      "source": [
        "from tensorflow.keras.layers import Embedding\n",
        "\n",
        "embedding_layer = Embedding(input_dim=len(word2index),\n",
        "                           output_dim=100,\n",
        "                           weights=[embedding_matrix],\n",
        "                           input_length=max_text_length,\n",
        "                           trainable=False)"
      ]
    },
    {
      "cell_type": "code",
      "execution_count": null,
      "id": "ed4e1026",
      "metadata": {
        "id": "ed4e1026"
      },
      "outputs": [],
      "source": [
        "import os\n",
        "from uuid import uuid4\n",
        "import numpy as np\n",
        "from tf2crf import CRF, ModelWithCRFLoss\n",
        "from tensorflow.keras.models import Model\n",
        "from tensorflow.keras.layers import Input, TimeDistributed\n",
        "from tensorflow.keras.layers import Embedding, Dropout, Dense\n",
        "from tensorflow.keras.layers import Bidirectional, LSTM, Attention\n",
        "\n",
        "model_input = Input(shape=(max_text_length, ))\n",
        "model = Embedding(input_dim=len(words), output_dim=max_text_length, input_length=max_text_length)(model_input)\n",
        "model = Dropout(0.1)(model)\n",
        "\n",
        "lstm_output = Bidirectional(LSTM(units=100, return_sequences=True))(model)\n",
        "\n",
        "crf = CRF(dtype=\"float32\")\n",
        "model_output = crf(lstm_output)\n",
        "\n",
        "hybrid_model = Model(model_input, model_output)\n",
        "model = ModelWithCRFLoss(hybrid_model)\n",
        "model.compile(optimizer=\"adam\")\n",
        "\n",
        "model.fit(X_train, np.array(y_train), batch_size=8, epochs=5, use_multiprocessing=True, workers=os.cpu_count())\n",
        "\n",
        "random_model_name = str(uuid4())\n",
        "model.save(f\"saved_model/{random_model_name}\")\n",
        "print(f\"Model {random_model_name} has successfully been saved!\")"
      ]
    },
    {
      "cell_type": "code",
      "execution_count": null,
      "id": "707c021f",
      "metadata": {
        "id": "707c021f"
      },
      "outputs": [],
      "source": [
        "test_dataset = get_labeled_dataset(\"datasets/test_geo_extractor.json\")"
      ]
    },
    {
      "cell_type": "code",
      "execution_count": null,
      "id": "fdc24f64",
      "metadata": {
        "id": "fdc24f64",
        "outputId": "bf0259ec-b999-463a-8789-860c27989380"
      },
      "outputs": [
        {
          "name": "stdout",
          "output_type": "stream",
          "text": [
            "Enter the model name: a438be36-e0ab-4993-81c8-b17bace74911\n"
          ]
        }
      ],
      "source": [
        "import os\n",
        "from tensorflow.keras import models\n",
        "\n",
        "model_name = input(\"Enter the model name: \")\n",
        "model_path = \"saved_model/\" + model_name\n",
        "\n",
        "if not os.path.exists(model_path):\n",
        "    print(f\"The model {model_name} does not exist!\")\n",
        "\n",
        "recognizer = models.load_model(model_path, custom_objects={\"focal_loss_parametrized\": focal_loss})"
      ]
    },
    {
      "cell_type": "code",
      "execution_count": null,
      "id": "8459387d",
      "metadata": {
        "id": "8459387d"
      },
      "outputs": [],
      "source": [
        "from tensorflow.keras.preprocessing.sequence import pad_sequences\n",
        "\n",
        "X_test = [[word2index.get(word, word2index[\"UNKNOWN\"]) for word, _ in text] for text in test_dataset]\n",
        "X_test = pad_sequences(maxlen=max_text_length, sequences=X_test, padding=\"post\", value=len(word2index) - 1)"
      ]
    },
    {
      "cell_type": "code",
      "execution_count": null,
      "id": "81a1c8d2",
      "metadata": {
        "id": "81a1c8d2",
        "outputId": "64d50949-aebc-4a83-ad2c-ae6d3bd9999a"
      },
      "outputs": [
        {
          "name": "stdout",
          "output_type": "stream",
          "text": [
            "30/30 [==============================] - 6s 156ms/step\n"
          ]
        }
      ],
      "source": [
        "predictions = recognizer.predict(X_test, use_multiprocessing=True, workers=os.cpu_count())"
      ]
    },
    {
      "cell_type": "code",
      "execution_count": null,
      "id": "d7e043a3",
      "metadata": {
        "id": "d7e043a3"
      },
      "outputs": [],
      "source": [
        "import numpy as np\n",
        "\n",
        "y_pad_pred_test = [[labels[np.argmax(prediction)] for prediction in text_prediction]\n",
        "                   for text_prediction in predictions]"
      ]
    },
    {
      "cell_type": "code",
      "execution_count": null,
      "id": "37735b70",
      "metadata": {
        "id": "37735b70"
      },
      "outputs": [],
      "source": [
        "y_pred_test = []\n",
        "\n",
        "for i, text in enumerate(test_dataset):\n",
        "    text_predictions = []\n",
        "    for j, (word, _) in enumerate(text):\n",
        "        if j < len(y_pad_pred_test[i]):\n",
        "            text_predictions.append((word, y_pad_pred_test[i][j]))\n",
        "\n",
        "    y_pred_test.append(text_predictions)"
      ]
    },
    {
      "cell_type": "code",
      "execution_count": null,
      "id": "17cad377",
      "metadata": {
        "id": "17cad377",
        "outputId": "1bac2a91-3f9e-4a91-8356-017ced84df7b"
      },
      "outputs": [
        {
          "name": "stdout",
          "output_type": "stream",
          "text": [
            "                   precision    recall  f1-score   support\n",
            "\n",
            "                O       0.98      1.00      0.99     62822\n",
            "     central_city       0.31      0.60      0.41       184\n",
            "      geo_address       0.91      0.58      0.71      1040\n",
            "     geo_building       0.85      0.64      0.73       453\n",
            "         geo_city       0.89      0.63      0.73      1433\n",
            "     geo_district       0.89      0.70      0.79       387\n",
            "geo_microdistrict       0.67      0.49      0.57       382\n",
            "       geo_region       0.99      0.98      0.99      1733\n",
            "geo_region_oblast       0.91      0.64      0.75       297\n",
            "       geo_street       0.75      0.72      0.74      1059\n",
            "\n",
            "         accuracy                           0.97     69790\n",
            "        macro avg       0.82      0.70      0.74     69790\n",
            "     weighted avg       0.97      0.97      0.97     69790\n",
            "\n",
            "Matthews Correlation Coefficient: 0.8242336994803532\n"
          ]
        }
      ],
      "source": [
        "from sklearn.metrics import classification_report, matthews_corrcoef\n",
        "\n",
        "y_test_flat = [label for text in test_dataset for _, label in text]\n",
        "y_pred_flat = [label for text in y_pred_test for _, label in text]\n",
        "\n",
        "print(classification_report(y_test_flat, y_pred_flat))\n",
        "print(f\"Matthews Correlation Coefficient: {matthews_corrcoef(y_test_flat, y_pred_flat)}\")"
      ]
    },
    {
      "cell_type": "code",
      "execution_count": null,
      "id": "adf8f764",
      "metadata": {
        "id": "adf8f764"
      },
      "outputs": [],
      "source": [
        "validation_dataset = get_labeled_dataset(\"datasets/val_no_answer_geo_extractor.json\", for_inference=True)"
      ]
    },
    {
      "cell_type": "code",
      "execution_count": null,
      "id": "b0121830",
      "metadata": {
        "id": "b0121830"
      },
      "outputs": [],
      "source": [
        "X_validation = [[word2index.get(word, word2index[\"UNKNOWN\"]) for word, _ in text]\n",
        "                for task_id, text in validation_dataset]\n",
        "X_validation = pad_sequences(maxlen=max_text_length, sequences=X_validation, padding=\"post\",\n",
        "                             value=len(word2index) - 1)"
      ]
    },
    {
      "cell_type": "code",
      "execution_count": null,
      "id": "4b510862",
      "metadata": {
        "id": "4b510862",
        "outputId": "6230b8d8-8d52-4127-efce-78496cb8bad5"
      },
      "outputs": [
        {
          "name": "stdout",
          "output_type": "stream",
          "text": [
            "94/94 [==============================] - 15s 164ms/step\n"
          ]
        }
      ],
      "source": [
        "y_pred_validation = recognizer.predict(X_validation)\n",
        "\n",
        "X_validation = [(task_id, text) for task_id, text in validation_dataset]"
      ]
    },
    {
      "cell_type": "code",
      "execution_count": null,
      "id": "f92f9c53",
      "metadata": {
        "id": "f92f9c53"
      },
      "outputs": [],
      "source": [
        "y_pad_pred_validation = [[labels[np.argmax(prediction)] for prediction in text_prediction]\n",
        "              for text_prediction in y_pred_validation]"
      ]
    },
    {
      "cell_type": "code",
      "execution_count": null,
      "id": "abc56ecc",
      "metadata": {
        "id": "abc56ecc"
      },
      "outputs": [],
      "source": [
        "y_pred_validation = []\n",
        "\n",
        "for i, text in enumerate(validation_dataset):\n",
        "    text_predictions = []\n",
        "    for j, (word, _) in enumerate(text[1]):\n",
        "        if j < len(y_pad_pred_validation[i]):\n",
        "            text_predictions.append((word, y_pad_pred_validation[i][j]))\n",
        "\n",
        "    y_pred_validation.append(text_predictions)"
      ]
    },
    {
      "cell_type": "code",
      "execution_count": null,
      "id": "8851b61d",
      "metadata": {
        "id": "8851b61d",
        "outputId": "169b465b-d346-457c-c067-b42ef0757a72"
      },
      "outputs": [
        {
          "name": "stdout",
          "output_type": "stream",
          "text": [
            "Validation result has been saved!\n"
          ]
        }
      ],
      "source": [
        "import json\n",
        "\n",
        "y_pred_validation = [[label for _, label in text] for text in y_pred_validation]\n",
        "\n",
        "validation_result = get_validation_result(X_validation, y_pred_validation)\n",
        "\n",
        "with open(\"lstm_validation_result.json\", \"w\", encoding=\"utf-8\") as file:\n",
        "    json.dump(validation_result, file, ensure_ascii=False, indent=4)\n",
        "\n",
        "print(\"Validation result has been saved!\")"
      ]
    },
    {
      "cell_type": "code",
      "execution_count": null,
      "id": "c1fdf202",
      "metadata": {
        "id": "c1fdf202",
        "outputId": "80b8ced9-7007-48b7-fa7f-8454eba8e50a",
        "colab": {
          "base_uri": "https://localhost:8080/"
        }
      },
      "outputs": [
        {
          "output_type": "stream",
          "name": "stdout",
          "text": [
            "Requirement already satisfied: numpy in /usr/local/lib/python3.10/dist-packages (1.25.2)\n",
            "Requirement already satisfied: scikit-learn in /usr/local/lib/python3.10/dist-packages (1.2.2)\n",
            "Requirement already satisfied: torch in /usr/local/lib/python3.10/dist-packages (2.2.1+cu121)\n",
            "Requirement already satisfied: datasets in /usr/local/lib/python3.10/dist-packages (2.18.0)\n",
            "Requirement already satisfied: transformers==4.30 in /usr/local/lib/python3.10/dist-packages (4.30.0)\n",
            "Requirement already satisfied: filelock in /usr/local/lib/python3.10/dist-packages (from transformers==4.30) (3.13.4)\n",
            "Requirement already satisfied: huggingface-hub<1.0,>=0.14.1 in /usr/local/lib/python3.10/dist-packages (from transformers==4.30) (0.20.3)\n",
            "Requirement already satisfied: packaging>=20.0 in /usr/local/lib/python3.10/dist-packages (from transformers==4.30) (24.0)\n",
            "Requirement already satisfied: pyyaml>=5.1 in /usr/local/lib/python3.10/dist-packages (from transformers==4.30) (6.0.1)\n",
            "Requirement already satisfied: regex!=2019.12.17 in /usr/local/lib/python3.10/dist-packages (from transformers==4.30) (2023.12.25)\n",
            "Requirement already satisfied: requests in /usr/local/lib/python3.10/dist-packages (from transformers==4.30) (2.31.0)\n",
            "Requirement already satisfied: tokenizers!=0.11.3,<0.14,>=0.11.1 in /usr/local/lib/python3.10/dist-packages (from transformers==4.30) (0.13.3)\n",
            "Requirement already satisfied: safetensors>=0.3.1 in /usr/local/lib/python3.10/dist-packages (from transformers==4.30) (0.4.3)\n",
            "Requirement already satisfied: tqdm>=4.27 in /usr/local/lib/python3.10/dist-packages (from transformers==4.30) (4.66.2)\n",
            "Requirement already satisfied: scipy>=1.3.2 in /usr/local/lib/python3.10/dist-packages (from scikit-learn) (1.11.4)\n",
            "Requirement already satisfied: joblib>=1.1.1 in /usr/local/lib/python3.10/dist-packages (from scikit-learn) (1.4.0)\n",
            "Requirement already satisfied: threadpoolctl>=2.0.0 in /usr/local/lib/python3.10/dist-packages (from scikit-learn) (3.4.0)\n",
            "Requirement already satisfied: typing-extensions>=4.8.0 in /usr/local/lib/python3.10/dist-packages (from torch) (4.11.0)\n",
            "Requirement already satisfied: sympy in /usr/local/lib/python3.10/dist-packages (from torch) (1.12)\n",
            "Requirement already satisfied: networkx in /usr/local/lib/python3.10/dist-packages (from torch) (3.3)\n",
            "Requirement already satisfied: jinja2 in /usr/local/lib/python3.10/dist-packages (from torch) (3.1.3)\n",
            "Requirement already satisfied: fsspec in /usr/local/lib/python3.10/dist-packages (from torch) (2023.6.0)\n",
            "Requirement already satisfied: nvidia-cuda-nvrtc-cu12==12.1.105 in /usr/local/lib/python3.10/dist-packages (from torch) (12.1.105)\n",
            "Requirement already satisfied: nvidia-cuda-runtime-cu12==12.1.105 in /usr/local/lib/python3.10/dist-packages (from torch) (12.1.105)\n",
            "Requirement already satisfied: nvidia-cuda-cupti-cu12==12.1.105 in /usr/local/lib/python3.10/dist-packages (from torch) (12.1.105)\n",
            "Requirement already satisfied: nvidia-cudnn-cu12==8.9.2.26 in /usr/local/lib/python3.10/dist-packages (from torch) (8.9.2.26)\n",
            "Requirement already satisfied: nvidia-cublas-cu12==12.1.3.1 in /usr/local/lib/python3.10/dist-packages (from torch) (12.1.3.1)\n",
            "Requirement already satisfied: nvidia-cufft-cu12==11.0.2.54 in /usr/local/lib/python3.10/dist-packages (from torch) (11.0.2.54)\n",
            "Requirement already satisfied: nvidia-curand-cu12==10.3.2.106 in /usr/local/lib/python3.10/dist-packages (from torch) (10.3.2.106)\n",
            "Requirement already satisfied: nvidia-cusolver-cu12==11.4.5.107 in /usr/local/lib/python3.10/dist-packages (from torch) (11.4.5.107)\n",
            "Requirement already satisfied: nvidia-cusparse-cu12==12.1.0.106 in /usr/local/lib/python3.10/dist-packages (from torch) (12.1.0.106)\n",
            "Requirement already satisfied: nvidia-nccl-cu12==2.19.3 in /usr/local/lib/python3.10/dist-packages (from torch) (2.19.3)\n",
            "Requirement already satisfied: nvidia-nvtx-cu12==12.1.105 in /usr/local/lib/python3.10/dist-packages (from torch) (12.1.105)\n",
            "Requirement already satisfied: triton==2.2.0 in /usr/local/lib/python3.10/dist-packages (from torch) (2.2.0)\n",
            "Requirement already satisfied: nvidia-nvjitlink-cu12 in /usr/local/lib/python3.10/dist-packages (from nvidia-cusolver-cu12==11.4.5.107->torch) (12.4.127)\n",
            "Requirement already satisfied: pyarrow>=12.0.0 in /usr/local/lib/python3.10/dist-packages (from datasets) (14.0.2)\n",
            "Requirement already satisfied: pyarrow-hotfix in /usr/local/lib/python3.10/dist-packages (from datasets) (0.6)\n",
            "Requirement already satisfied: dill<0.3.9,>=0.3.0 in /usr/local/lib/python3.10/dist-packages (from datasets) (0.3.8)\n",
            "Requirement already satisfied: pandas in /usr/local/lib/python3.10/dist-packages (from datasets) (2.0.3)\n",
            "Requirement already satisfied: xxhash in /usr/local/lib/python3.10/dist-packages (from datasets) (3.4.1)\n",
            "Requirement already satisfied: multiprocess in /usr/local/lib/python3.10/dist-packages (from datasets) (0.70.16)\n",
            "Requirement already satisfied: aiohttp in /usr/local/lib/python3.10/dist-packages (from datasets) (3.9.5)\n",
            "Requirement already satisfied: aiosignal>=1.1.2 in /usr/local/lib/python3.10/dist-packages (from aiohttp->datasets) (1.3.1)\n",
            "Requirement already satisfied: attrs>=17.3.0 in /usr/local/lib/python3.10/dist-packages (from aiohttp->datasets) (23.2.0)\n",
            "Requirement already satisfied: frozenlist>=1.1.1 in /usr/local/lib/python3.10/dist-packages (from aiohttp->datasets) (1.4.1)\n",
            "Requirement already satisfied: multidict<7.0,>=4.5 in /usr/local/lib/python3.10/dist-packages (from aiohttp->datasets) (6.0.5)\n",
            "Requirement already satisfied: yarl<2.0,>=1.0 in /usr/local/lib/python3.10/dist-packages (from aiohttp->datasets) (1.9.4)\n",
            "Requirement already satisfied: async-timeout<5.0,>=4.0 in /usr/local/lib/python3.10/dist-packages (from aiohttp->datasets) (4.0.3)\n",
            "Requirement already satisfied: charset-normalizer<4,>=2 in /usr/local/lib/python3.10/dist-packages (from requests->transformers==4.30) (3.3.2)\n",
            "Requirement already satisfied: idna<4,>=2.5 in /usr/local/lib/python3.10/dist-packages (from requests->transformers==4.30) (3.7)\n",
            "Requirement already satisfied: urllib3<3,>=1.21.1 in /usr/local/lib/python3.10/dist-packages (from requests->transformers==4.30) (2.0.7)\n",
            "Requirement already satisfied: certifi>=2017.4.17 in /usr/local/lib/python3.10/dist-packages (from requests->transformers==4.30) (2024.2.2)\n",
            "Requirement already satisfied: MarkupSafe>=2.0 in /usr/local/lib/python3.10/dist-packages (from jinja2->torch) (2.1.5)\n",
            "Requirement already satisfied: python-dateutil>=2.8.2 in /usr/local/lib/python3.10/dist-packages (from pandas->datasets) (2.8.2)\n",
            "Requirement already satisfied: pytz>=2020.1 in /usr/local/lib/python3.10/dist-packages (from pandas->datasets) (2023.4)\n",
            "Requirement already satisfied: tzdata>=2022.1 in /usr/local/lib/python3.10/dist-packages (from pandas->datasets) (2024.1)\n",
            "Requirement already satisfied: mpmath>=0.19 in /usr/local/lib/python3.10/dist-packages (from sympy->torch) (1.3.0)\n",
            "Requirement already satisfied: six>=1.5 in /usr/local/lib/python3.10/dist-packages (from python-dateutil>=2.8.2->pandas->datasets) (1.16.0)\n"
          ]
        }
      ],
      "source": [
        "!pip install numpy scikit-learn torch datasets transformers==4.30"
      ]
    },
    {
      "cell_type": "code",
      "source": [
        "!pip install accelerate -U"
      ],
      "metadata": {
        "colab": {
          "base_uri": "https://localhost:8080/"
        },
        "id": "j2nIuuhPVJ0i",
        "outputId": "35e5c4d9-2067-434e-deff-1d808af11b56"
      },
      "id": "j2nIuuhPVJ0i",
      "execution_count": null,
      "outputs": [
        {
          "output_type": "stream",
          "name": "stdout",
          "text": [
            "Requirement already satisfied: accelerate in /usr/local/lib/python3.10/dist-packages (0.29.3)\n",
            "Requirement already satisfied: numpy>=1.17 in /usr/local/lib/python3.10/dist-packages (from accelerate) (1.25.2)\n",
            "Requirement already satisfied: packaging>=20.0 in /usr/local/lib/python3.10/dist-packages (from accelerate) (24.0)\n",
            "Requirement already satisfied: psutil in /usr/local/lib/python3.10/dist-packages (from accelerate) (5.9.5)\n",
            "Requirement already satisfied: pyyaml in /usr/local/lib/python3.10/dist-packages (from accelerate) (6.0.1)\n",
            "Requirement already satisfied: torch>=1.10.0 in /usr/local/lib/python3.10/dist-packages (from accelerate) (2.2.1+cu121)\n",
            "Requirement already satisfied: huggingface-hub in /usr/local/lib/python3.10/dist-packages (from accelerate) (0.20.3)\n",
            "Requirement already satisfied: safetensors>=0.3.1 in /usr/local/lib/python3.10/dist-packages (from accelerate) (0.4.3)\n",
            "Requirement already satisfied: filelock in /usr/local/lib/python3.10/dist-packages (from torch>=1.10.0->accelerate) (3.13.4)\n",
            "Requirement already satisfied: typing-extensions>=4.8.0 in /usr/local/lib/python3.10/dist-packages (from torch>=1.10.0->accelerate) (4.11.0)\n",
            "Requirement already satisfied: sympy in /usr/local/lib/python3.10/dist-packages (from torch>=1.10.0->accelerate) (1.12)\n",
            "Requirement already satisfied: networkx in /usr/local/lib/python3.10/dist-packages (from torch>=1.10.0->accelerate) (3.3)\n",
            "Requirement already satisfied: jinja2 in /usr/local/lib/python3.10/dist-packages (from torch>=1.10.0->accelerate) (3.1.3)\n",
            "Requirement already satisfied: fsspec in /usr/local/lib/python3.10/dist-packages (from torch>=1.10.0->accelerate) (2023.6.0)\n",
            "Requirement already satisfied: nvidia-cuda-nvrtc-cu12==12.1.105 in /usr/local/lib/python3.10/dist-packages (from torch>=1.10.0->accelerate) (12.1.105)\n",
            "Requirement already satisfied: nvidia-cuda-runtime-cu12==12.1.105 in /usr/local/lib/python3.10/dist-packages (from torch>=1.10.0->accelerate) (12.1.105)\n",
            "Requirement already satisfied: nvidia-cuda-cupti-cu12==12.1.105 in /usr/local/lib/python3.10/dist-packages (from torch>=1.10.0->accelerate) (12.1.105)\n",
            "Requirement already satisfied: nvidia-cudnn-cu12==8.9.2.26 in /usr/local/lib/python3.10/dist-packages (from torch>=1.10.0->accelerate) (8.9.2.26)\n",
            "Requirement already satisfied: nvidia-cublas-cu12==12.1.3.1 in /usr/local/lib/python3.10/dist-packages (from torch>=1.10.0->accelerate) (12.1.3.1)\n",
            "Requirement already satisfied: nvidia-cufft-cu12==11.0.2.54 in /usr/local/lib/python3.10/dist-packages (from torch>=1.10.0->accelerate) (11.0.2.54)\n",
            "Requirement already satisfied: nvidia-curand-cu12==10.3.2.106 in /usr/local/lib/python3.10/dist-packages (from torch>=1.10.0->accelerate) (10.3.2.106)\n",
            "Requirement already satisfied: nvidia-cusolver-cu12==11.4.5.107 in /usr/local/lib/python3.10/dist-packages (from torch>=1.10.0->accelerate) (11.4.5.107)\n",
            "Requirement already satisfied: nvidia-cusparse-cu12==12.1.0.106 in /usr/local/lib/python3.10/dist-packages (from torch>=1.10.0->accelerate) (12.1.0.106)\n",
            "Requirement already satisfied: nvidia-nccl-cu12==2.19.3 in /usr/local/lib/python3.10/dist-packages (from torch>=1.10.0->accelerate) (2.19.3)\n",
            "Requirement already satisfied: nvidia-nvtx-cu12==12.1.105 in /usr/local/lib/python3.10/dist-packages (from torch>=1.10.0->accelerate) (12.1.105)\n",
            "Requirement already satisfied: triton==2.2.0 in /usr/local/lib/python3.10/dist-packages (from torch>=1.10.0->accelerate) (2.2.0)\n",
            "Requirement already satisfied: nvidia-nvjitlink-cu12 in /usr/local/lib/python3.10/dist-packages (from nvidia-cusolver-cu12==11.4.5.107->torch>=1.10.0->accelerate) (12.4.127)\n",
            "Requirement already satisfied: requests in /usr/local/lib/python3.10/dist-packages (from huggingface-hub->accelerate) (2.31.0)\n",
            "Requirement already satisfied: tqdm>=4.42.1 in /usr/local/lib/python3.10/dist-packages (from huggingface-hub->accelerate) (4.66.2)\n",
            "Requirement already satisfied: MarkupSafe>=2.0 in /usr/local/lib/python3.10/dist-packages (from jinja2->torch>=1.10.0->accelerate) (2.1.5)\n",
            "Requirement already satisfied: charset-normalizer<4,>=2 in /usr/local/lib/python3.10/dist-packages (from requests->huggingface-hub->accelerate) (3.3.2)\n",
            "Requirement already satisfied: idna<4,>=2.5 in /usr/local/lib/python3.10/dist-packages (from requests->huggingface-hub->accelerate) (3.7)\n",
            "Requirement already satisfied: urllib3<3,>=1.21.1 in /usr/local/lib/python3.10/dist-packages (from requests->huggingface-hub->accelerate) (2.0.7)\n",
            "Requirement already satisfied: certifi>=2017.4.17 in /usr/local/lib/python3.10/dist-packages (from requests->huggingface-hub->accelerate) (2024.2.2)\n",
            "Requirement already satisfied: mpmath>=0.19 in /usr/local/lib/python3.10/dist-packages (from sympy->torch>=1.10.0->accelerate) (1.3.0)\n"
          ]
        }
      ]
    },
    {
      "cell_type": "code",
      "execution_count": null,
      "id": "f474ac9d",
      "metadata": {
        "id": "f474ac9d",
        "outputId": "ee41077d-b07f-4ae6-e172-31a60594f691",
        "colab": {
          "base_uri": "https://localhost:8080/"
        }
      },
      "outputs": [
        {
          "output_type": "stream",
          "name": "stdout",
          "text": [
            "True\n",
            "1\n",
            "0\n"
          ]
        }
      ],
      "source": [
        "import torch\n",
        "\n",
        "print(torch.cuda.is_available())\n",
        "print(torch.cuda.device_count())\n",
        "print(torch.cuda.current_device())"
      ]
    },
    {
      "cell_type": "code",
      "execution_count": null,
      "id": "12985d2a1bf00cd8",
      "metadata": {
        "ExecuteTime": {
          "end_time": "2024-04-03T07:59:58.477374Z",
          "start_time": "2024-04-03T07:59:52.416242Z"
        },
        "id": "12985d2a1bf00cd8",
        "outputId": "d14c5aa2-aacc-4185-c4d0-527c97e6e8cb",
        "colab": {
          "base_uri": "https://localhost:8080/"
        }
      },
      "outputs": [
        {
          "output_type": "stream",
          "name": "stderr",
          "text": [
            "Some weights of XLMRobertaForTokenClassification were not initialized from the model checkpoint at xlm-roberta-large-finetuned-conll03-english and are newly initialized because the shapes did not match:\n",
            "- classifier.bias: found shape torch.Size([8]) in the checkpoint and torch.Size([10]) in the model instantiated\n",
            "- classifier.weight: found shape torch.Size([8, 1024]) in the checkpoint and torch.Size([10, 1024]) in the model instantiated\n",
            "You should probably TRAIN this model on a down-stream task to be able to use it for predictions and inference.\n"
          ]
        }
      ],
      "source": [
        "from transformers import AutoModelForTokenClassification, AutoTokenizer\n",
        "\n",
        "model_name = \"xlm-roberta-large-finetuned-conll03-english\"\n",
        "model = AutoModelForTokenClassification.from_pretrained(model_name, num_labels=10, ignore_mismatched_sizes=True)\n",
        "tokenizer = AutoTokenizer.from_pretrained(model_name)"
      ]
    },
    {
      "cell_type": "code",
      "execution_count": null,
      "id": "4473fed9",
      "metadata": {
        "id": "4473fed9"
      },
      "outputs": [],
      "source": [
        "label_list = [\"O\", \"central_city\", \"geo_address\", \"geo_building\", \"geo_city\",\n",
        "              \"geo_district\", \"geo_microdistrict\", \"geo_region\",\n",
        "              \"geo_region_oblast\", \"geo_street\"]\n",
        "\n",
        "label_dictionary = {label: i for i, label in enumerate(label_list)}"
      ]
    },
    {
      "cell_type": "code",
      "execution_count": null,
      "id": "f0a57888",
      "metadata": {
        "id": "f0a57888"
      },
      "outputs": [],
      "source": [
        "def tokenize_and_align_labels(dataset):\n",
        "    texts = [[word for word, label in text] for text in dataset]\n",
        "    tokenized_inputs = tokenizer(texts, padding=True, truncation=True,\n",
        "                                 is_split_into_words=True, return_tensors=\"pt\")\n",
        "\n",
        "    encoded_labels = []\n",
        "    for i, text in enumerate(dataset):\n",
        "        word_ids = tokenized_inputs.word_ids(batch_index=i)\n",
        "        label_ids = []\n",
        "        previous_word_idx = None\n",
        "        for word_idx in word_ids:\n",
        "            if word_idx is None:\n",
        "                label_ids.append(label_dictionary[\"O\"])\n",
        "            elif word_idx != previous_word_idx:\n",
        "                label_ids.append(label_dictionary[text[word_idx][1]])\n",
        "            else:\n",
        "                label_ids.append(label_dictionary[\"O\"])\n",
        "            previous_word_idx = word_idx\n",
        "        encoded_labels.append(label_ids)\n",
        "\n",
        "    tokenized_inputs[\"labels\"] = encoded_labels\n",
        "    return tokenized_inputs"
      ]
    },
    {
      "cell_type": "code",
      "execution_count": null,
      "id": "46d0d727",
      "metadata": {
        "id": "46d0d727",
        "outputId": "2bce954a-7e15-4174-ea9b-8e061d223630",
        "colab": {
          "base_uri": "https://localhost:8080/"
        }
      },
      "outputs": [
        {
          "output_type": "stream",
          "name": "stdout",
          "text": [
            "Dataset({\n",
            "    features: ['input_ids', 'attention_mask', 'labels'],\n",
            "    num_rows: 2788\n",
            "})\n",
            "Dataset({\n",
            "    features: ['input_ids', 'attention_mask', 'labels'],\n",
            "    num_rows: 930\n",
            "})\n"
          ]
        }
      ],
      "source": [
        "from datasets import Dataset\n",
        "\n",
        "tokenized_train_dataset = tokenize_and_align_labels(train_dataset)\n",
        "tokenized_test_dataset = tokenize_and_align_labels(test_dataset)\n",
        "\n",
        "transformed_train_dataset = Dataset.from_dict(tokenized_train_dataset)\n",
        "transformed_test_dataset = Dataset.from_dict(tokenized_test_dataset)\n",
        "\n",
        "print(transformed_train_dataset)\n",
        "print(transformed_test_dataset)"
      ]
    },
    {
      "cell_type": "code",
      "source": [
        "!pip install seqeval"
      ],
      "metadata": {
        "colab": {
          "base_uri": "https://localhost:8080/"
        },
        "id": "2hTnBVtXaZAo",
        "outputId": "1a9bbc2a-c333-42eb-e215-675ce8033527"
      },
      "id": "2hTnBVtXaZAo",
      "execution_count": null,
      "outputs": [
        {
          "output_type": "stream",
          "name": "stdout",
          "text": [
            "Requirement already satisfied: seqeval in /usr/local/lib/python3.10/dist-packages (1.2.2)\n",
            "Requirement already satisfied: numpy>=1.14.0 in /usr/local/lib/python3.10/dist-packages (from seqeval) (1.25.2)\n",
            "Requirement already satisfied: scikit-learn>=0.21.3 in /usr/local/lib/python3.10/dist-packages (from seqeval) (1.2.2)\n",
            "Requirement already satisfied: scipy>=1.3.2 in /usr/local/lib/python3.10/dist-packages (from scikit-learn>=0.21.3->seqeval) (1.11.4)\n",
            "Requirement already satisfied: joblib>=1.1.1 in /usr/local/lib/python3.10/dist-packages (from scikit-learn>=0.21.3->seqeval) (1.4.0)\n",
            "Requirement already satisfied: threadpoolctl>=2.0.0 in /usr/local/lib/python3.10/dist-packages (from scikit-learn>=0.21.3->seqeval) (3.4.0)\n"
          ]
        }
      ]
    },
    {
      "cell_type": "code",
      "execution_count": null,
      "id": "22d63438",
      "metadata": {
        "id": "22d63438",
        "outputId": "090cb3df-6b32-4277-de55-9c9864b2d224",
        "colab": {
          "base_uri": "https://localhost:8080/"
        }
      },
      "outputs": [
        {
          "output_type": "stream",
          "name": "stderr",
          "text": [
            "/usr/local/lib/python3.10/dist-packages/datasets/load.py:756: FutureWarning: The repository for seqeval contains custom code which must be executed to correctly load the metric. You can inspect the repository content at https://raw.githubusercontent.com/huggingface/datasets/2.18.0/metrics/seqeval/seqeval.py\n",
            "You can avoid this message in future by passing the argument `trust_remote_code=True`.\n",
            "Passing `trust_remote_code=True` will be mandatory to load this metric from the next major release of `datasets`.\n",
            "  warnings.warn(\n"
          ]
        }
      ],
      "source": [
        "import numpy as np\n",
        "from datasets import load_metric\n",
        "from transformers import DataCollatorForTokenClassification\n",
        "\n",
        "data_collator = DataCollatorForTokenClassification(tokenizer)\n",
        "\n",
        "metric = load_metric(\"seqeval\")\n",
        "\n",
        "def compute_metrics(p):\n",
        "    predictions, labels = p\n",
        "    predictions = np.argmax(predictions, axis=2)\n",
        "\n",
        "    true_predictions = [\n",
        "        [label_list[p] for (p, l) in zip(prediction, label)]\n",
        "        for prediction, label in zip(predictions, labels)\n",
        "    ]\n",
        "    true_labels = [\n",
        "        [label_list[l] for (p, l) in zip(prediction, label)]\n",
        "        for prediction, label in zip(predictions, labels)\n",
        "    ]\n",
        "\n",
        "    results = metric.compute(predictions=true_predictions, references=true_labels, zero_division=0)\n",
        "    return {\n",
        "        \"precision\": results[\"overall_precision\"],\n",
        "        \"recall\": results[\"overall_recall\"],\n",
        "        \"f1\": results[\"overall_f1\"],\n",
        "        \"accuracy\": results[\"overall_accuracy\"],\n",
        "    }"
      ]
    },
    {
      "cell_type": "code",
      "execution_count": null,
      "id": "0717cd89",
      "metadata": {
        "id": "0717cd89",
        "outputId": "2f076395-12d1-4d20-8dfe-6165e82342e6",
        "colab": {
          "base_uri": "https://localhost:8080/",
          "height": 571
        }
      },
      "outputs": [
        {
          "output_type": "stream",
          "name": "stderr",
          "text": [
            "/usr/local/lib/python3.10/dist-packages/transformers/optimization.py:411: FutureWarning: This implementation of AdamW is deprecated and will be removed in a future version. Use the PyTorch implementation torch.optim.AdamW instead, or set `no_deprecation_warning=True` to disable this warning\n",
            "  warnings.warn(\n"
          ]
        },
        {
          "output_type": "display_data",
          "data": {
            "text/plain": [
              "<IPython.core.display.HTML object>"
            ],
            "text/html": [
              "\n",
              "    <div>\n",
              "      \n",
              "      <progress value='525' max='525' style='width:300px; height:20px; vertical-align: middle;'></progress>\n",
              "      [525/525 11:32, Epoch 3/3]\n",
              "    </div>\n",
              "    <table border=\"1\" class=\"dataframe\">\n",
              "  <thead>\n",
              " <tr style=\"text-align: left;\">\n",
              "      <th>Epoch</th>\n",
              "      <th>Training Loss</th>\n",
              "      <th>Validation Loss</th>\n",
              "      <th>Precision</th>\n",
              "      <th>Recall</th>\n",
              "      <th>F1</th>\n",
              "      <th>Accuracy</th>\n",
              "    </tr>\n",
              "  </thead>\n",
              "  <tbody>\n",
              "    <tr>\n",
              "      <td>1</td>\n",
              "      <td>No log</td>\n",
              "      <td>0.008091</td>\n",
              "      <td>0.866376</td>\n",
              "      <td>0.912324</td>\n",
              "      <td>0.888756</td>\n",
              "      <td>0.997625</td>\n",
              "    </tr>\n",
              "    <tr>\n",
              "      <td>2</td>\n",
              "      <td>No log</td>\n",
              "      <td>0.007571</td>\n",
              "      <td>0.872519</td>\n",
              "      <td>0.909565</td>\n",
              "      <td>0.890657</td>\n",
              "      <td>0.997665</td>\n",
              "    </tr>\n",
              "    <tr>\n",
              "      <td>3</td>\n",
              "      <td>0.009600</td>\n",
              "      <td>0.007560</td>\n",
              "      <td>0.875770</td>\n",
              "      <td>0.915236</td>\n",
              "      <td>0.895068</td>\n",
              "      <td>0.997776</td>\n",
              "    </tr>\n",
              "  </tbody>\n",
              "</table><p>"
            ]
          },
          "metadata": {}
        },
        {
          "output_type": "stream",
          "name": "stderr",
          "text": [
            "/usr/local/lib/python3.10/dist-packages/seqeval/metrics/sequence_labeling.py:171: UserWarning: geo_region seems not to be NE tag.\n",
            "  warnings.warn('{} seems not to be NE tag.'.format(chunk))\n",
            "/usr/local/lib/python3.10/dist-packages/seqeval/metrics/sequence_labeling.py:171: UserWarning: geo_region_oblast seems not to be NE tag.\n",
            "  warnings.warn('{} seems not to be NE tag.'.format(chunk))\n",
            "/usr/local/lib/python3.10/dist-packages/seqeval/metrics/sequence_labeling.py:171: UserWarning: geo_street seems not to be NE tag.\n",
            "  warnings.warn('{} seems not to be NE tag.'.format(chunk))\n",
            "/usr/local/lib/python3.10/dist-packages/seqeval/metrics/sequence_labeling.py:171: UserWarning: geo_city seems not to be NE tag.\n",
            "  warnings.warn('{} seems not to be NE tag.'.format(chunk))\n",
            "/usr/local/lib/python3.10/dist-packages/seqeval/metrics/sequence_labeling.py:171: UserWarning: central_city seems not to be NE tag.\n",
            "  warnings.warn('{} seems not to be NE tag.'.format(chunk))\n",
            "/usr/local/lib/python3.10/dist-packages/seqeval/metrics/sequence_labeling.py:171: UserWarning: geo_district seems not to be NE tag.\n",
            "  warnings.warn('{} seems not to be NE tag.'.format(chunk))\n",
            "/usr/local/lib/python3.10/dist-packages/seqeval/metrics/sequence_labeling.py:171: UserWarning: geo_address seems not to be NE tag.\n",
            "  warnings.warn('{} seems not to be NE tag.'.format(chunk))\n",
            "/usr/local/lib/python3.10/dist-packages/seqeval/metrics/sequence_labeling.py:171: UserWarning: geo_building seems not to be NE tag.\n",
            "  warnings.warn('{} seems not to be NE tag.'.format(chunk))\n",
            "/usr/local/lib/python3.10/dist-packages/seqeval/metrics/sequence_labeling.py:171: UserWarning: geo_microdistrict seems not to be NE tag.\n",
            "  warnings.warn('{} seems not to be NE tag.'.format(chunk))\n"
          ]
        },
        {
          "output_type": "execute_result",
          "data": {
            "text/plain": [
              "TrainOutput(global_step=525, training_loss=0.009391136424882072, metrics={'train_runtime': 693.4421, 'train_samples_per_second': 12.062, 'train_steps_per_second': 0.757, 'total_flos': 7767915974664192.0, 'train_loss': 0.009391136424882072, 'epoch': 3.0})"
            ]
          },
          "metadata": {},
          "execution_count": 115
        }
      ],
      "source": [
        "from transformers import TrainingArguments, Trainer\n",
        "\n",
        "training_args = TrainingArguments(\n",
        "    \"ner\",\n",
        "    evaluation_strategy=\"epoch\",\n",
        "    learning_rate=1e-5,\n",
        "    per_device_train_batch_size=16,\n",
        "    per_device_eval_batch_size=16,\n",
        "    num_train_epochs=3,\n",
        "    weight_decay=0.01,\n",
        "    save_strategy='no',\n",
        "    report_to='none'\n",
        ")\n",
        "\n",
        "trainer = Trainer(\n",
        "    model=model,\n",
        "    args=training_args,\n",
        "    train_dataset=transformed_train_dataset,\n",
        "    eval_dataset=transformed_test_dataset,\n",
        "    data_collator=data_collator,\n",
        "    tokenizer=tokenizer,\n",
        "    compute_metrics=compute_metrics\n",
        ")\n",
        "\n",
        "trainer.train()"
      ]
    },
    {
      "cell_type": "code",
      "execution_count": null,
      "id": "1f383ec3",
      "metadata": {
        "id": "1f383ec3",
        "colab": {
          "base_uri": "https://localhost:8080/",
          "height": 17
        },
        "outputId": "6375c2d8-159f-41e9-9a82-48b7663541b6"
      },
      "outputs": [
        {
          "output_type": "display_data",
          "data": {
            "text/plain": [
              "<IPython.core.display.HTML object>"
            ],
            "text/html": []
          },
          "metadata": {}
        }
      ],
      "source": [
        "predictions = trainer.predict(transformed_test_dataset)"
      ]
    },
    {
      "cell_type": "code",
      "execution_count": null,
      "id": "e177a0b7",
      "metadata": {
        "id": "e177a0b7"
      },
      "outputs": [],
      "source": [
        "import numpy as np\n",
        "\n",
        "predictions_logits = predictions.predictions\n",
        "true_labels = predictions.label_ids\n",
        "\n",
        "predicted_labels = np.argmax(predictions_logits, axis=2)\n",
        "\n",
        "true_labels = [[label for label in sentence] for sentence in true_labels]"
      ]
    },
    {
      "cell_type": "code",
      "source": [
        "predicted_labels = [\n",
        "    [p for (p, label) in zip(prediction, labels)]\n",
        "    for prediction, labels in zip(predicted_labels, true_labels)\n",
        "]"
      ],
      "metadata": {
        "id": "s8BdyNRHxrNo"
      },
      "id": "s8BdyNRHxrNo",
      "execution_count": null,
      "outputs": []
    },
    {
      "cell_type": "code",
      "execution_count": null,
      "id": "a9e4b150",
      "metadata": {
        "id": "a9e4b150"
      },
      "outputs": [],
      "source": [
        "id_to_label = {id: label for label, id in label_dictionary.items()}\n",
        "\n",
        "def labels_to_names(labels, id_to_label):\n",
        "    return [[id_to_label[label] for label in sentence] for sentence in labels]\n",
        "\n",
        "predicted_label_names = labels_to_names(predicted_labels, id_to_label)\n",
        "true_label_names = labels_to_names(true_labels, id_to_label)"
      ]
    },
    {
      "cell_type": "code",
      "source": [
        "from collections import Counter\n",
        "\n",
        "def tokens_to_words(dataset, predictions, label_list):\n",
        "    texts = [\" \".join([word for word, label in text]) for text in dataset]\n",
        "    tokenized_inputs = tokenizer(texts, padding=True, truncation=True,\n",
        "                                 is_split_into_words=False, return_tensors=\"pt\")\n",
        "    word_ids = tokenized_inputs.word_ids()\n",
        "    current_word_predictions = []\n",
        "    word_predictions = []\n",
        "\n",
        "    for word_idx, prediction_idx in zip(word_ids, predictions):\n",
        "        if word_idx is not None:\n",
        "            if word_idx != len(word_predictions):\n",
        "                if current_word_predictions:\n",
        "                    most_common_label = Counter(current_word_predictions).most_common(1)[0][0]\n",
        "                    word_predictions.append(most_common_label)\n",
        "                    current_word_predictions = []\n",
        "                else:\n",
        "                    word_predictions.append(label_list[prediction_idx])\n",
        "            current_word_predictions.append(label_list[prediction_idx])\n",
        "\n",
        "    if current_word_predictions:\n",
        "        most_common_label = Counter(current_word_predictions).most_common(1)[0][0]\n",
        "        word_predictions.append(most_common_label)\n",
        "\n",
        "    return word_predictions"
      ],
      "metadata": {
        "id": "iPoCbX3wxNnr"
      },
      "id": "iPoCbX3wxNnr",
      "execution_count": null,
      "outputs": []
    },
    {
      "cell_type": "code",
      "source": [
        "import itertools\n",
        "\n",
        "predicted_labels = list(itertools.chain(*predicted_labels))\n",
        "true_labels = list(itertools.chain(*true_labels))\n",
        "\n",
        "pr_labels = tokens_to_words(test_dataset, predicted_labels, label_list)\n",
        "tr_labels = tokens_to_words(test_dataset, true_labels, label_list)"
      ],
      "metadata": {
        "id": "PB3SdMyvyRa-"
      },
      "id": "PB3SdMyvyRa-",
      "execution_count": null,
      "outputs": []
    },
    {
      "cell_type": "code",
      "execution_count": null,
      "id": "ddf8ad28",
      "metadata": {
        "id": "ddf8ad28",
        "colab": {
          "base_uri": "https://localhost:8080/"
        },
        "outputId": "efde3df4-0fef-47cb-8173-7ff33a6a1476"
      },
      "outputs": [
        {
          "output_type": "stream",
          "name": "stdout",
          "text": [
            "                   precision    recall  f1-score   support\n",
            "\n",
            "                O       1.00      1.00      1.00    469195\n",
            "     central_city       0.51      0.74      0.60       184\n",
            "      geo_address       0.90      0.96      0.93      1037\n",
            "     geo_building       0.80      0.90      0.85       453\n",
            "         geo_city       0.90      0.93      0.91      1433\n",
            "     geo_district       0.84      0.81      0.83       387\n",
            "geo_microdistrict       0.63      0.74      0.68       382\n",
            "       geo_region       0.99      0.99      0.99      1733\n",
            "geo_region_oblast       0.90      0.93      0.91       297\n",
            "       geo_street       0.91      0.91      0.91      1059\n",
            "\n",
            "         accuracy                           1.00    476160\n",
            "        macro avg       0.84      0.89      0.86    476160\n",
            "     weighted avg       1.00      1.00      1.00    476160\n",
            "\n",
            "Matthews Correlation Coefficient: 0.9253394423404717\n"
          ]
        }
      ],
      "source": [
        "from sklearn.metrics import classification_report, matthews_corrcoef\n",
        "import itertools\n",
        "\n",
        "true_labels_flatten = list(itertools.chain(*true_label_names))\n",
        "predicted_labels_flatten = list(itertools.chain(*predicted_label_names))\n",
        "\n",
        "print(classification_report(true_labels_flatten, predicted_labels_flatten))\n",
        "print(f\"Matthews Correlation Coefficient: {matthews_corrcoef(true_labels_flatten, predicted_labels_flatten)}\")"
      ]
    },
    {
      "cell_type": "code",
      "execution_count": null,
      "id": "627e1b35",
      "metadata": {
        "id": "627e1b35",
        "outputId": "a578af77-1158-4638-a53f-4b9cceea9255"
      },
      "outputs": [
        {
          "name": "stdout",
          "output_type": "stream",
          "text": [
            "Requirement already satisfied: numpy in /home/alex_braun/anaconda3/lib/python3.9/site-packages (1.26.4)\n",
            "Requirement already satisfied: pandas in /home/alex_braun/anaconda3/lib/python3.9/site-packages (1.4.4)\n",
            "Requirement already satisfied: tqdm in /home/alex_braun/anaconda3/lib/python3.9/site-packages (4.64.1)\n",
            "Requirement already satisfied: scikit-learn in /home/alex_braun/anaconda3/lib/python3.9/site-packages (1.0.2)\n",
            "Requirement already satisfied: tensorflow in /home/alex_braun/anaconda3/lib/python3.9/site-packages (2.15.0)\n",
            "Requirement already satisfied: transformers in /home/alex_braun/anaconda3/lib/python3.9/site-packages (4.38.2)\n",
            "Requirement already satisfied: python-dateutil>=2.8.1 in /home/alex_braun/anaconda3/lib/python3.9/site-packages (from pandas) (2.8.2)\n",
            "Requirement already satisfied: pytz>=2020.1 in /home/alex_braun/anaconda3/lib/python3.9/site-packages (from pandas) (2024.1)\n",
            "Requirement already satisfied: scipy>=1.1.0 in /home/alex_braun/anaconda3/lib/python3.9/site-packages (from scikit-learn) (1.11.3)\n",
            "Requirement already satisfied: joblib>=0.11 in /home/alex_braun/anaconda3/lib/python3.9/site-packages (from scikit-learn) (1.3.2)\n",
            "Requirement already satisfied: threadpoolctl>=2.0.0 in /home/alex_braun/anaconda3/lib/python3.9/site-packages (from scikit-learn) (2.2.0)\n",
            "Requirement already satisfied: absl-py>=1.0.0 in /home/alex_braun/anaconda3/lib/python3.9/site-packages (from tensorflow) (2.1.0)\n",
            "Requirement already satisfied: astunparse>=1.6.0 in /home/alex_braun/anaconda3/lib/python3.9/site-packages (from tensorflow) (1.6.3)\n",
            "Requirement already satisfied: flatbuffers>=23.5.26 in /home/alex_braun/anaconda3/lib/python3.9/site-packages (from tensorflow) (23.5.26)\n",
            "Requirement already satisfied: gast!=0.5.0,!=0.5.1,!=0.5.2,>=0.2.1 in /home/alex_braun/anaconda3/lib/python3.9/site-packages (from tensorflow) (0.4.0)\n",
            "Requirement already satisfied: google-pasta>=0.1.1 in /home/alex_braun/anaconda3/lib/python3.9/site-packages (from tensorflow) (0.2.0)\n",
            "Requirement already satisfied: h5py>=2.9.0 in /home/alex_braun/anaconda3/lib/python3.9/site-packages (from tensorflow) (3.7.0)\n",
            "Requirement already satisfied: libclang>=13.0.0 in /home/alex_braun/anaconda3/lib/python3.9/site-packages (from tensorflow) (16.0.6)\n",
            "Requirement already satisfied: ml-dtypes~=0.2.0 in /home/alex_braun/anaconda3/lib/python3.9/site-packages (from tensorflow) (0.2.0)\n",
            "Requirement already satisfied: opt-einsum>=2.3.2 in /home/alex_braun/anaconda3/lib/python3.9/site-packages (from tensorflow) (3.3.0)\n",
            "Requirement already satisfied: packaging in /home/alex_braun/anaconda3/lib/python3.9/site-packages (from tensorflow) (21.3)\n",
            "Requirement already satisfied: protobuf!=4.21.0,!=4.21.1,!=4.21.2,!=4.21.3,!=4.21.4,!=4.21.5,<5.0.0dev,>=3.20.3 in /home/alex_braun/anaconda3/lib/python3.9/site-packages (from tensorflow) (4.25.3)\n",
            "Requirement already satisfied: setuptools in /home/alex_braun/anaconda3/lib/python3.9/site-packages (from tensorflow) (63.4.1)\n",
            "Requirement already satisfied: six>=1.12.0 in /home/alex_braun/anaconda3/lib/python3.9/site-packages (from tensorflow) (1.16.0)\n",
            "Requirement already satisfied: termcolor>=1.1.0 in /home/alex_braun/anaconda3/lib/python3.9/site-packages (from tensorflow) (2.4.0)\n",
            "Requirement already satisfied: typing-extensions>=3.6.6 in /home/alex_braun/anaconda3/lib/python3.9/site-packages (from tensorflow) (4.10.0)\n",
            "Requirement already satisfied: wrapt<1.15,>=1.11.0 in /home/alex_braun/anaconda3/lib/python3.9/site-packages (from tensorflow) (1.14.1)\n",
            "Requirement already satisfied: tensorflow-io-gcs-filesystem>=0.23.1 in /home/alex_braun/anaconda3/lib/python3.9/site-packages (from tensorflow) (0.36.0)\n",
            "Requirement already satisfied: grpcio<2.0,>=1.24.3 in /home/alex_braun/anaconda3/lib/python3.9/site-packages (from tensorflow) (1.62.0)\n",
            "Requirement already satisfied: tensorboard<2.16,>=2.15 in /home/alex_braun/anaconda3/lib/python3.9/site-packages (from tensorflow) (2.15.2)\n",
            "Requirement already satisfied: tensorflow-estimator<2.16,>=2.15.0 in /home/alex_braun/anaconda3/lib/python3.9/site-packages (from tensorflow) (2.15.0)\n",
            "Requirement already satisfied: keras<2.16,>=2.15.0 in /home/alex_braun/anaconda3/lib/python3.9/site-packages (from tensorflow) (2.15.0)\n",
            "Requirement already satisfied: filelock in /home/alex_braun/anaconda3/lib/python3.9/site-packages (from transformers) (3.6.0)\n",
            "Requirement already satisfied: huggingface-hub<1.0,>=0.19.3 in /home/alex_braun/anaconda3/lib/python3.9/site-packages (from transformers) (0.21.4)\n",
            "Requirement already satisfied: pyyaml>=5.1 in /home/alex_braun/anaconda3/lib/python3.9/site-packages (from transformers) (6.0)\n",
            "Requirement already satisfied: regex!=2019.12.17 in /home/alex_braun/anaconda3/lib/python3.9/site-packages (from transformers) (2022.7.9)\n",
            "Requirement already satisfied: requests in /home/alex_braun/anaconda3/lib/python3.9/site-packages (from transformers) (2.31.0)\n",
            "Requirement already satisfied: tokenizers<0.19,>=0.14 in /home/alex_braun/anaconda3/lib/python3.9/site-packages (from transformers) (0.15.2)\n",
            "Requirement already satisfied: safetensors>=0.4.1 in /home/alex_braun/anaconda3/lib/python3.9/site-packages (from transformers) (0.4.2)\n",
            "Requirement already satisfied: wheel<1.0,>=0.23.0 in /home/alex_braun/anaconda3/lib/python3.9/site-packages (from astunparse>=1.6.0->tensorflow) (0.37.1)\n",
            "Requirement already satisfied: fsspec>=2023.5.0 in /home/alex_braun/anaconda3/lib/python3.9/site-packages (from huggingface-hub<1.0,>=0.19.3->transformers) (2024.2.0)\n",
            "Requirement already satisfied: pyparsing!=3.0.5,>=2.0.2 in /home/alex_braun/anaconda3/lib/python3.9/site-packages (from packaging->tensorflow) (3.0.9)\n",
            "Requirement already satisfied: google-auth<3,>=1.6.3 in /home/alex_braun/anaconda3/lib/python3.9/site-packages (from tensorboard<2.16,>=2.15->tensorflow) (2.28.1)\n",
            "Requirement already satisfied: google-auth-oauthlib<2,>=0.5 in /home/alex_braun/anaconda3/lib/python3.9/site-packages (from tensorboard<2.16,>=2.15->tensorflow) (1.0.0)\n",
            "Requirement already satisfied: markdown>=2.6.8 in /home/alex_braun/anaconda3/lib/python3.9/site-packages (from tensorboard<2.16,>=2.15->tensorflow) (3.3.4)\n",
            "Requirement already satisfied: tensorboard-data-server<0.8.0,>=0.7.0 in /home/alex_braun/anaconda3/lib/python3.9/site-packages (from tensorboard<2.16,>=2.15->tensorflow) (0.7.2)\n",
            "Requirement already satisfied: werkzeug>=1.0.1 in /home/alex_braun/anaconda3/lib/python3.9/site-packages (from tensorboard<2.16,>=2.15->tensorflow) (2.0.3)\n",
            "Requirement already satisfied: charset-normalizer<4,>=2 in /home/alex_braun/anaconda3/lib/python3.9/site-packages (from requests->transformers) (2.0.4)\n",
            "Requirement already satisfied: idna<4,>=2.5 in /home/alex_braun/anaconda3/lib/python3.9/site-packages (from requests->transformers) (3.3)\n",
            "Requirement already satisfied: urllib3<3,>=1.21.1 in /home/alex_braun/anaconda3/lib/python3.9/site-packages (from requests->transformers) (1.26.11)\n",
            "Requirement already satisfied: certifi>=2017.4.17 in /home/alex_braun/anaconda3/lib/python3.9/site-packages (from requests->transformers) (2022.9.14)\n",
            "Requirement already satisfied: cachetools<6.0,>=2.0.0 in /home/alex_braun/anaconda3/lib/python3.9/site-packages (from google-auth<3,>=1.6.3->tensorboard<2.16,>=2.15->tensorflow) (5.3.2)\n",
            "Requirement already satisfied: pyasn1-modules>=0.2.1 in /home/alex_braun/anaconda3/lib/python3.9/site-packages (from google-auth<3,>=1.6.3->tensorboard<2.16,>=2.15->tensorflow) (0.2.8)\n",
            "Requirement already satisfied: rsa<5,>=3.1.4 in /home/alex_braun/anaconda3/lib/python3.9/site-packages (from google-auth<3,>=1.6.3->tensorboard<2.16,>=2.15->tensorflow) (4.9)\n",
            "Requirement already satisfied: requests-oauthlib>=0.7.0 in /home/alex_braun/anaconda3/lib/python3.9/site-packages (from google-auth-oauthlib<2,>=0.5->tensorboard<2.16,>=2.15->tensorflow) (1.3.1)\n",
            "Requirement already satisfied: pyasn1<0.5.0,>=0.4.6 in /home/alex_braun/anaconda3/lib/python3.9/site-packages (from pyasn1-modules>=0.2.1->google-auth<3,>=1.6.3->tensorboard<2.16,>=2.15->tensorflow) (0.4.8)\n",
            "Requirement already satisfied: oauthlib>=3.0.0 in /home/alex_braun/anaconda3/lib/python3.9/site-packages (from requests-oauthlib>=0.7.0->google-auth-oauthlib<2,>=0.5->tensorboard<2.16,>=2.15->tensorflow) (3.2.2)\n"
          ]
        }
      ],
      "source": [
        "!pip install numpy pandas tqdm scikit-learn tensorflow transformers"
      ]
    },
    {
      "cell_type": "code",
      "execution_count": null,
      "id": "6e629147",
      "metadata": {
        "id": "6e629147"
      },
      "outputs": [],
      "source": [
        "train_dataset = get_labeled_dataset(\"datasets/train_geo_extractor.json\")"
      ]
    },
    {
      "cell_type": "code",
      "execution_count": null,
      "id": "90cf6984",
      "metadata": {
        "id": "90cf6984"
      },
      "outputs": [],
      "source": [
        "from sklearn import preprocessing\n",
        "\n",
        "sentences = []\n",
        "labels = []\n",
        "\n",
        "label_list = [\"O\", \"central_city\", \"geo_address\", \"geo_building\", \"geo_city\",\n",
        "              \"geo_district\", \"geo_microdistrict\", \"geo_region\",\n",
        "              \"geo_region_oblast\", \"geo_street\"]\n",
        "\n",
        "label_dictionary = {label: i for i, label in enumerate(label_list)}\n",
        "\n",
        "for text in train_dataset:\n",
        "    sentences.append([word for word, _ in text])\n",
        "    labels.append([label for _, label in text])\n",
        "\n",
        "encoded_labels = []\n",
        "\n",
        "for labels_for_sentence in labels:\n",
        "    encoded_labels.append([label_dictionary.get(label) for label in labels_for_sentence])"
      ]
    },
    {
      "cell_type": "code",
      "execution_count": null,
      "id": "2f4404be",
      "metadata": {
        "id": "2f4404be"
      },
      "outputs": [],
      "source": [
        "import numpy as np\n",
        "from tqdm import tqdm\n",
        "from transformers import BertTokenizerFast\n",
        "\n",
        "tokenizer = BertTokenizerFast.from_pretrained(\"bert-base-uncased\")\n",
        "\n",
        "max_sentence_length = max([len(text) for text in train_dataset])\n",
        "\n",
        "def tokenize(data, max_len):\n",
        "    input_ids = list()\n",
        "    attention_mask = list()\n",
        "\n",
        "    for index in tqdm(range(len(data))):\n",
        "        encoded_data = tokenizer.encode_plus(data[index],\n",
        "                                            add_special_tokens=True,\n",
        "                                            max_length=max_len,\n",
        "                                            is_split_into_words=True,\n",
        "                                            return_attention_mask=True,\n",
        "                                            padding=\"max_length\",\n",
        "                                            truncation=True,\n",
        "                                            return_tensors=\"np\")\n",
        "\n",
        "        input_ids.append(encoded_data[\"input_ids\"])\n",
        "        attention_mask.append(encoded_data[\"attention_mask\"])\n",
        "\n",
        "    return np.vstack(input_ids), np.vstack(attention_mask)"
      ]
    },
    {
      "cell_type": "code",
      "execution_count": null,
      "id": "280a110c",
      "metadata": {
        "id": "280a110c",
        "outputId": "1c8aa127-7420-45b7-8222-efa8cc8adc6e"
      },
      "outputs": [
        {
          "name": "stderr",
          "output_type": "stream",
          "text": [
            "100%|██████████████████████████████████████████████████████████████████████████████████████████████████████████████████████████████████████████████████████████████████| 2509/2509 [00:03<00:00, 828.57it/s]\n",
            "100%|████████████████████████████████████████████████████████████████████████████████████████████████████████████████████████████████████████████████████████████████████| 279/279 [00:00<00:00, 796.66it/s]\n"
          ]
        }
      ],
      "source": [
        "from sklearn.model_selection import train_test_split\n",
        "\n",
        "X_train, X_test, y_train, y_test = train_test_split(sentences, encoded_labels, test_size=0.1, random_state=42)\n",
        "\n",
        "input_ids, attention_mask = tokenize(X_train, max_len=max_sentence_length)\n",
        "val_input_ids, val_attention_mask = tokenize(X_test, max_len=max_sentence_length)"
      ]
    },
    {
      "cell_type": "code",
      "execution_count": null,
      "id": "0fbc194e",
      "metadata": {
        "id": "0fbc194e"
      },
      "outputs": [],
      "source": [
        "def pad_labels(input_labels, max_len):\n",
        "    padded_labels = list()\n",
        "\n",
        "    for index in range(len(input_labels)):\n",
        "        padded_labels.append(np.array(input_labels[index] + [0] * (max_len - len(input_labels[index]))))\n",
        "\n",
        "    return padded_labels"
      ]
    },
    {
      "cell_type": "code",
      "execution_count": null,
      "id": "f798e402",
      "metadata": {
        "id": "f798e402"
      },
      "outputs": [],
      "source": [
        "train_labels = pad_labels(y_train, max_sentence_length)\n",
        "test_labels = pad_labels(y_test, max_sentence_length)"
      ]
    },
    {
      "cell_type": "code",
      "execution_count": null,
      "id": "68e386ee",
      "metadata": {
        "id": "68e386ee",
        "outputId": "853e37e3-fe25-475c-cbb5-0cd7a67938d5"
      },
      "outputs": [
        {
          "name": "stderr",
          "output_type": "stream",
          "text": [
            "2024-04-12 16:22:58.227231: E external/local_xla/xla/stream_executor/cuda/cuda_dnn.cc:9261] Unable to register cuDNN factory: Attempting to register factory for plugin cuDNN when one has already been registered\n",
            "2024-04-12 16:22:58.227347: E external/local_xla/xla/stream_executor/cuda/cuda_fft.cc:607] Unable to register cuFFT factory: Attempting to register factory for plugin cuFFT when one has already been registered\n",
            "2024-04-12 16:22:58.331483: E external/local_xla/xla/stream_executor/cuda/cuda_blas.cc:1515] Unable to register cuBLAS factory: Attempting to register factory for plugin cuBLAS when one has already been registered\n",
            "2024-04-12 16:22:58.532493: I tensorflow/core/platform/cpu_feature_guard.cc:182] This TensorFlow binary is optimized to use available CPU instructions in performance-critical operations.\n",
            "To enable the following instructions: AVX2 FMA, in other operations, rebuild TensorFlow with the appropriate compiler flags.\n",
            "2024-04-12 16:23:00.158683: W tensorflow/compiler/tf2tensorrt/utils/py_utils.cc:38] TF-TRT Warning: Could not find TensorRT\n"
          ]
        }
      ],
      "source": [
        "from tensorflow.keras.utils import to_categorical\n",
        "\n",
        "train_labels = [to_categorical(index, num_classes=len(label_list)) for index in train_labels]\n",
        "test_labels = [to_categorical(index, num_classes=len(label_list)) for index in test_labels]"
      ]
    },
    {
      "cell_type": "code",
      "execution_count": null,
      "id": "b7d58a49",
      "metadata": {
        "id": "b7d58a49"
      },
      "outputs": [],
      "source": [
        "from tensorflow.keras import Model\n",
        "from tensorflow.keras.layers import Input, Dropout, Dense\n",
        "from tensorflow.keras.losses import SparseCategoricalCrossentropy\n",
        "from tensorflow.keras.optimizers import Adam\n",
        "from tensorflow.keras.metrics import Accuracy\n",
        "\n",
        "def instantiate_model(bert_model, max_len):\n",
        "    input_ids = Input(shape=(max_len, ), dtype=\"int32\")\n",
        "    attention_mask = Input(shape=(max_len, ), dtype=\"int32\")\n",
        "    bert_layer = bert_model(input_ids, attention_mask=attention_mask, return_dict=True)\n",
        "\n",
        "    embedding_layer = Dropout(0.3)(bert_layer[\"last_hidden_state\"])\n",
        "    output_layer = Dense(len(label_list), activation=\"softmax\")(embedding_layer)\n",
        "\n",
        "    model = Model(inputs=[input_ids, attention_mask], outputs=[output_layer])\n",
        "\n",
        "    model.compile(optimizer=Adam(learning_rate=0.00001), loss=SparseCategoricalCrossentropy(), metrics=[Accuracy()])\n",
        "\n",
        "    return model"
      ]
    },
    {
      "cell_type": "code",
      "execution_count": null,
      "id": "fccfff91",
      "metadata": {
        "id": "fccfff91",
        "outputId": "13a5dfaa-e7f4-4714-f7a7-c6adbed575ab"
      },
      "outputs": [
        {
          "name": "stderr",
          "output_type": "stream",
          "text": [
            "2024-04-12 16:23:12.269866: I external/local_xla/xla/stream_executor/cuda/cuda_executor.cc:901] successful NUMA node read from SysFS had negative value (-1), but there must be at least one NUMA node, so returning NUMA node zero. See more at https://github.com/torvalds/linux/blob/v6.0/Documentation/ABI/testing/sysfs-bus-pci#L344-L355\n",
            "2024-04-12 16:23:12.281327: I external/local_xla/xla/stream_executor/cuda/cuda_executor.cc:901] successful NUMA node read from SysFS had negative value (-1), but there must be at least one NUMA node, so returning NUMA node zero. See more at https://github.com/torvalds/linux/blob/v6.0/Documentation/ABI/testing/sysfs-bus-pci#L344-L355\n",
            "2024-04-12 16:23:12.282080: I external/local_xla/xla/stream_executor/cuda/cuda_executor.cc:901] successful NUMA node read from SysFS had negative value (-1), but there must be at least one NUMA node, so returning NUMA node zero. See more at https://github.com/torvalds/linux/blob/v6.0/Documentation/ABI/testing/sysfs-bus-pci#L344-L355\n",
            "2024-04-12 16:23:12.284228: I external/local_xla/xla/stream_executor/cuda/cuda_executor.cc:901] successful NUMA node read from SysFS had negative value (-1), but there must be at least one NUMA node, so returning NUMA node zero. See more at https://github.com/torvalds/linux/blob/v6.0/Documentation/ABI/testing/sysfs-bus-pci#L344-L355\n",
            "2024-04-12 16:23:12.284612: I external/local_xla/xla/stream_executor/cuda/cuda_executor.cc:901] successful NUMA node read from SysFS had negative value (-1), but there must be at least one NUMA node, so returning NUMA node zero. See more at https://github.com/torvalds/linux/blob/v6.0/Documentation/ABI/testing/sysfs-bus-pci#L344-L355\n",
            "2024-04-12 16:23:12.284937: I external/local_xla/xla/stream_executor/cuda/cuda_executor.cc:901] successful NUMA node read from SysFS had negative value (-1), but there must be at least one NUMA node, so returning NUMA node zero. See more at https://github.com/torvalds/linux/blob/v6.0/Documentation/ABI/testing/sysfs-bus-pci#L344-L355\n",
            "2024-04-12 16:23:12.416425: I external/local_xla/xla/stream_executor/cuda/cuda_executor.cc:901] successful NUMA node read from SysFS had negative value (-1), but there must be at least one NUMA node, so returning NUMA node zero. See more at https://github.com/torvalds/linux/blob/v6.0/Documentation/ABI/testing/sysfs-bus-pci#L344-L355\n",
            "2024-04-12 16:23:12.416783: I external/local_xla/xla/stream_executor/cuda/cuda_executor.cc:901] successful NUMA node read from SysFS had negative value (-1), but there must be at least one NUMA node, so returning NUMA node zero. See more at https://github.com/torvalds/linux/blob/v6.0/Documentation/ABI/testing/sysfs-bus-pci#L344-L355\n",
            "2024-04-12 16:23:12.417107: I external/local_xla/xla/stream_executor/cuda/cuda_executor.cc:901] successful NUMA node read from SysFS had negative value (-1), but there must be at least one NUMA node, so returning NUMA node zero. See more at https://github.com/torvalds/linux/blob/v6.0/Documentation/ABI/testing/sysfs-bus-pci#L344-L355\n",
            "2024-04-12 16:23:12.417385: I tensorflow/core/common_runtime/gpu/gpu_device.cc:1929] Created device /job:localhost/replica:0/task:0/device:GPU:0 with 2798 MB memory:  -> device: 0, name: NVIDIA GeForce GTX 1650, pci bus id: 0000:01:00.0, compute capability: 7.5\n",
            "2024-04-12 16:23:14.070362: W external/local_tsl/tsl/framework/cpu_allocator_impl.cc:83] Allocation of 93763584 exceeds 10% of free system memory.\n",
            "Some weights of the PyTorch model were not used when initializing the TF 2.0 model TFBertModel: ['cls.predictions.transform.dense.weight', 'cls.predictions.bias', 'cls.predictions.transform.LayerNorm.bias', 'cls.predictions.transform.dense.bias', 'cls.seq_relationship.bias', 'cls.predictions.transform.LayerNorm.weight', 'cls.seq_relationship.weight']\n",
            "- This IS expected if you are initializing TFBertModel from a PyTorch model trained on another task or with another architecture (e.g. initializing a TFBertForSequenceClassification model from a BertForPreTraining model).\n",
            "- This IS NOT expected if you are initializing TFBertModel from a PyTorch model that you expect to be exactly identical (e.g. initializing a TFBertForSequenceClassification model from a BertForSequenceClassification model).\n",
            "All the weights of TFBertModel were initialized from the PyTorch model.\n",
            "If your task is similar to the task the model of the checkpoint was trained on, you can already use TFBertModel for predictions without further training.\n"
          ]
        }
      ],
      "source": [
        "from transformers import TFBertModel\n",
        "\n",
        "bert_model = TFBertModel.from_pretrained(\"bert-base-uncased\")\n",
        "model = instantiate_model(bert_model, max_sentence_length)"
      ]
    },
    {
      "cell_type": "code",
      "execution_count": null,
      "id": "c783dabd",
      "metadata": {
        "id": "c783dabd",
        "outputId": "d45e706b-4d5a-4e5d-b2ba-c513b8352bb1"
      },
      "outputs": [
        {
          "name": "stderr",
          "output_type": "stream",
          "text": [
            "2024-04-12 16:23:31.690298: W external/local_tsl/tsl/framework/cpu_allocator_impl.cc:83] Allocation of 18104944 exceeds 10% of free system memory.\n",
            "2024-04-12 16:23:31.733990: W external/local_tsl/tsl/framework/cpu_allocator_impl.cc:83] Allocation of 18104944 exceeds 10% of free system memory.\n"
          ]
        },
        {
          "name": "stdout",
          "output_type": "stream",
          "text": [
            "Epoch 1/25\n"
          ]
        },
        {
          "name": "stderr",
          "output_type": "stream",
          "text": [
            "2024-04-12 16:23:31.987557: W external/local_tsl/tsl/framework/cpu_allocator_impl.cc:83] Allocation of 90524720 exceeds 10% of free system memory.\n",
            "2024-04-12 16:23:32.108140: W external/local_tsl/tsl/framework/cpu_allocator_impl.cc:83] Allocation of 18104944 exceeds 10% of free system memory.\n"
          ]
        },
        {
          "name": "stdout",
          "output_type": "stream",
          "text": [
            "WARNING:tensorflow:Gradients do not exist for variables ['tf_bert_model/bert/pooler/dense/kernel:0', 'tf_bert_model/bert/pooler/dense/bias:0'] when minimizing the loss. If you're using `model.compile()`, did you forget to provide a `loss` argument?\n",
            "WARNING:tensorflow:Gradients do not exist for variables ['tf_bert_model/bert/pooler/dense/kernel:0', 'tf_bert_model/bert/pooler/dense/bias:0'] when minimizing the loss. If you're using `model.compile()`, did you forget to provide a `loss` argument?\n",
            "WARNING:tensorflow:Gradients do not exist for variables ['tf_bert_model/bert/pooler/dense/kernel:0', 'tf_bert_model/bert/pooler/dense/bias:0'] when minimizing the loss. If you're using `model.compile()`, did you forget to provide a `loss` argument?\n",
            "WARNING:tensorflow:Gradients do not exist for variables ['tf_bert_model/bert/pooler/dense/kernel:0', 'tf_bert_model/bert/pooler/dense/bias:0'] when minimizing the loss. If you're using `model.compile()`, did you forget to provide a `loss` argument?\n"
          ]
        },
        {
          "name": "stderr",
          "output_type": "stream",
          "text": [
            "2024-04-12 16:23:55.225094: I external/local_tsl/tsl/platform/default/subprocess.cc:304] Start cannot spawn child process: No such file or directory\n",
            "2024-04-12 16:24:06.739342: W external/local_tsl/tsl/framework/bfc_allocator.cc:485] Allocator (GPU_0_bfc) ran out of memory trying to allocate 1.16GiB (rounded to 1249695744)requested by op model/tf_bert_model/bert/encoder/layer_._0/attention/self/MatMul\n",
            "If the cause is memory fragmentation maybe the environment variable 'TF_GPU_ALLOCATOR=cuda_malloc_async' will improve the situation. \n",
            "Current allocation summary follows.\n",
            "Current allocation summary follows.\n",
            "2024-04-12 16:24:06.739421: I external/local_tsl/tsl/framework/bfc_allocator.cc:1039] BFCAllocator dump for GPU_0_bfc\n",
            "2024-04-12 16:24:06.739450: I external/local_tsl/tsl/framework/bfc_allocator.cc:1046] Bin (256): \tTotal Chunks: 69, Chunks in use: 68. 17.2KiB allocated for chunks. 17.0KiB in use in bin. 420B client-requested in use in bin.\n",
            "2024-04-12 16:24:06.739469: I external/local_tsl/tsl/framework/bfc_allocator.cc:1046] Bin (512): \tTotal Chunks: 0, Chunks in use: 0. 0B allocated for chunks. 0B in use in bin. 0B client-requested in use in bin.\n",
            "2024-04-12 16:24:06.739489: I external/local_tsl/tsl/framework/bfc_allocator.cc:1046] Bin (1024): \tTotal Chunks: 3, Chunks in use: 2. 4.0KiB allocated for chunks. 2.2KiB in use in bin. 1.8KiB client-requested in use in bin.\n",
            "2024-04-12 16:24:06.739509: I external/local_tsl/tsl/framework/bfc_allocator.cc:1046] Bin (2048): \tTotal Chunks: 333, Chunks in use: 333. 999.8KiB allocated for chunks. 999.8KiB in use in bin. 999.5KiB client-requested in use in bin.\n",
            "2024-04-12 16:24:06.739528: I external/local_tsl/tsl/framework/bfc_allocator.cc:1046] Bin (4096): \tTotal Chunks: 4, Chunks in use: 4. 22.2KiB allocated for chunks. 22.2KiB in use in bin. 21.0KiB client-requested in use in bin.\n",
            "2024-04-12 16:24:06.739547: I external/local_tsl/tsl/framework/bfc_allocator.cc:1046] Bin (8192): \tTotal Chunks: 36, Chunks in use: 36. 432.0KiB allocated for chunks. 432.0KiB in use in bin. 432.0KiB client-requested in use in bin.\n",
            "2024-04-12 16:24:06.739566: I external/local_tsl/tsl/framework/bfc_allocator.cc:1046] Bin (16384): \tTotal Chunks: 3, Chunks in use: 3. 90.0KiB allocated for chunks. 90.0KiB in use in bin. 90.0KiB client-requested in use in bin.\n",
            "2024-04-12 16:24:06.739582: I external/local_tsl/tsl/framework/bfc_allocator.cc:1046] Bin (32768): \tTotal Chunks: 0, Chunks in use: 0. 0B allocated for chunks. 0B in use in bin. 0B client-requested in use in bin.\n",
            "2024-04-12 16:24:06.739601: I external/local_tsl/tsl/framework/bfc_allocator.cc:1046] Bin (65536): \tTotal Chunks: 6, Chunks in use: 4. 668.0KiB allocated for chunks. 451.0KiB in use in bin. 451.0KiB client-requested in use in bin.\n",
            "2024-04-12 16:24:06.739620: I external/local_tsl/tsl/framework/bfc_allocator.cc:1046] Bin (131072): \tTotal Chunks: 1, Chunks in use: 1. 132.8KiB allocated for chunks. 132.8KiB in use in bin. 112.8KiB client-requested in use in bin.\n",
            "2024-04-12 16:24:06.739636: I external/local_tsl/tsl/framework/bfc_allocator.cc:1046] Bin (262144): \tTotal Chunks: 0, Chunks in use: 0. 0B allocated for chunks. 0B in use in bin. 0B client-requested in use in bin.\n",
            "2024-04-12 16:24:06.739651: I external/local_tsl/tsl/framework/bfc_allocator.cc:1046] Bin (524288): \tTotal Chunks: 0, Chunks in use: 0. 0B allocated for chunks. 0B in use in bin. 0B client-requested in use in bin.\n",
            "2024-04-12 16:24:06.739669: I external/local_tsl/tsl/framework/bfc_allocator.cc:1046] Bin (1048576): \tTotal Chunks: 2, Chunks in use: 2. 2.89MiB allocated for chunks. 2.89MiB in use in bin. 2.60MiB client-requested in use in bin.\n",
            "2024-04-12 16:24:06.739688: I external/local_tsl/tsl/framework/bfc_allocator.cc:1046] Bin (2097152): \tTotal Chunks: 149, Chunks in use: 149. 335.95MiB allocated for chunks. 335.95MiB in use in bin. 333.70MiB client-requested in use in bin.\n",
            "2024-04-12 16:24:06.739706: I external/local_tsl/tsl/framework/bfc_allocator.cc:1046] Bin (4194304): \tTotal Chunks: 1, Chunks in use: 1. 4.21MiB allocated for chunks. 4.21MiB in use in bin. 2.25MiB client-requested in use in bin.\n",
            "2024-04-12 16:24:06.739725: I external/local_tsl/tsl/framework/bfc_allocator.cc:1046] Bin (8388608): \tTotal Chunks: 72, Chunks in use: 72. 650.25MiB allocated for chunks. 650.25MiB in use in bin. 648.00MiB client-requested in use in bin.\n",
            "2024-04-12 16:24:06.739748: I external/local_tsl/tsl/framework/bfc_allocator.cc:1046] Bin (16777216): \tTotal Chunks: 3, Chunks in use: 3. 55.67MiB allocated for chunks. 55.67MiB in use in bin. 55.67MiB client-requested in use in bin.\n",
            "2024-04-12 16:24:06.739765: I external/local_tsl/tsl/framework/bfc_allocator.cc:1046] Bin (33554432): \tTotal Chunks: 0, Chunks in use: 0. 0B allocated for chunks. 0B in use in bin. 0B client-requested in use in bin.\n",
            "2024-04-12 16:24:06.739783: I external/local_tsl/tsl/framework/bfc_allocator.cc:1046] Bin (67108864): \tTotal Chunks: 11, Chunks in use: 10. 948.95MiB allocated for chunks. 864.39MiB in use in bin. 861.97MiB client-requested in use in bin.\n",
            "2024-04-12 16:24:06.739800: I external/local_tsl/tsl/framework/bfc_allocator.cc:1046] Bin (134217728): \tTotal Chunks: 0, Chunks in use: 0. 0B allocated for chunks. 0B in use in bin. 0B client-requested in use in bin.\n",
            "2024-04-12 16:24:06.739817: I external/local_tsl/tsl/framework/bfc_allocator.cc:1046] Bin (268435456): \tTotal Chunks: 1, Chunks in use: 0. 798.45MiB allocated for chunks. 0B in use in bin. 0B client-requested in use in bin.\n",
            "2024-04-12 16:24:06.739834: I external/local_tsl/tsl/framework/bfc_allocator.cc:1062] Bin for 1.16GiB was 256.00MiB, Chunk State: \n",
            "2024-04-12 16:24:06.739857: I external/local_tsl/tsl/framework/bfc_allocator.cc:1068]   Size: 798.45MiB | Requested Size: 0B | in_use: 0 | bin_num: 20, prev:   Size: 84.56MiB | Requested Size: 84.56MiB | in_use: 1 | bin_num: -1\n",
            "2024-04-12 16:24:06.739871: I external/local_tsl/tsl/framework/bfc_allocator.cc:1075] Next region of size 2934636544\n",
            "2024-04-12 16:24:06.739888: I external/local_tsl/tsl/framework/bfc_allocator.cc:1095] InUse at 7f6848000000 of size 256 next 1\n",
            "2024-04-12 16:24:06.739902: I external/local_tsl/tsl/framework/bfc_allocator.cc:1095] InUse at 7f6848000100 of size 1280 next 2\n",
            "2024-04-12 16:24:06.739917: I external/local_tsl/tsl/framework/bfc_allocator.cc:1095] InUse at 7f6848000600 of size 256 next 3\n",
            "2024-04-12 16:24:06.739930: I external/local_tsl/tsl/framework/bfc_allocator.cc:1095] InUse at 7f6848000700 of size 256 next 4\n",
            "2024-04-12 16:24:06.739944: I external/local_tsl/tsl/framework/bfc_allocator.cc:1095] InUse at 7f6848000800 of size 256 next 6\n",
            "2024-04-12 16:24:06.739959: I external/local_tsl/tsl/framework/bfc_allocator.cc:1095] InUse at 7f6848000900 of size 3072 next 7\n",
            "2024-04-12 16:24:06.739973: I external/local_tsl/tsl/framework/bfc_allocator.cc:1095] InUse at 7f6848001500 of size 256 next 5\n",
            "2024-04-12 16:24:06.739987: I external/local_tsl/tsl/framework/bfc_allocator.cc:1095] InUse at 7f6848001600 of size 3072 next 14\n",
            "2024-04-12 16:24:06.740001: I external/local_tsl/tsl/framework/bfc_allocator.cc:1095] InUse at 7f6848002200 of size 3072 next 15\n",
            "2024-04-12 16:24:06.740014: I external/local_tsl/tsl/framework/bfc_allocator.cc:1095] InUse at 7f6848002e00 of size 3072 next 10\n",
            "2024-04-12 16:24:06.740028: I external/local_tsl/tsl/framework/bfc_allocator.cc:1095] InUse at 7f6848003a00 of size 3072 next 212\n",
            "2024-04-12 16:24:06.740042: I external/local_tsl/tsl/framework/bfc_allocator.cc:1095] InUse at 7f6848004600 of size 3072 next 11\n",
            "2024-04-12 16:24:06.740056: I external/local_tsl/tsl/framework/bfc_allocator.cc:1095] InUse at 7f6848005200 of size 3145728 next 12\n",
            "2024-04-12 16:24:06.740070: I external/local_tsl/tsl/framework/bfc_allocator.cc:1095] InUse at 7f6848305200 of size 3072 next 16\n",
            "2024-04-12 16:24:06.740084: I external/local_tsl/tsl/framework/bfc_allocator.cc:1095] InUse at 7f6848305e00 of size 3072 next 19\n",
            "2024-04-12 16:24:06.740098: I external/local_tsl/tsl/framework/bfc_allocator.cc:1095] InUse at 7f6848306a00 of size 12288 next 213\n",
            "2024-04-12 16:24:06.740112: I external/local_tsl/tsl/framework/bfc_allocator.cc:1095] InUse at 7f6848309a00 of size 3072 next 30\n",
            "2024-04-12 16:24:06.740126: I external/local_tsl/tsl/framework/bfc_allocator.cc:1095] InUse at 7f684830a600 of size 3072 next 28\n",
            "2024-04-12 16:24:06.740143: I external/local_tsl/tsl/framework/bfc_allocator.cc:1095] InUse at 7f684830b200 of size 3072 next 31\n",
            "2024-04-12 16:24:06.740157: I external/local_tsl/tsl/framework/bfc_allocator.cc:1095] InUse at 7f684830be00 of size 3072 next 26\n",
            "2024-04-12 16:24:06.740171: I external/local_tsl/tsl/framework/bfc_allocator.cc:1095] InUse at 7f684830ca00 of size 3072 next 27\n",
            "2024-04-12 16:24:06.740185: I external/local_tsl/tsl/framework/bfc_allocator.cc:1095] InUse at 7f684830d600 of size 3072 next 33\n",
            "2024-04-12 16:24:06.740198: I external/local_tsl/tsl/framework/bfc_allocator.cc:1095] InUse at 7f684830e200 of size 3072 next 34\n",
            "2024-04-12 16:24:06.740212: I external/local_tsl/tsl/framework/bfc_allocator.cc:1095] InUse at 7f684830ee00 of size 3072 next 36\n",
            "2024-04-12 16:24:06.740226: I external/local_tsl/tsl/framework/bfc_allocator.cc:1095] InUse at 7f684830fa00 of size 3072 next 38\n",
            "2024-04-12 16:24:06.740240: I external/local_tsl/tsl/framework/bfc_allocator.cc:1095] InUse at 7f6848310600 of size 12288 next 25\n",
            "2024-04-12 16:24:06.740253: I external/local_tsl/tsl/framework/bfc_allocator.cc:1095] InUse at 7f6848313600 of size 3072 next 42\n",
            "2024-04-12 16:24:06.740267: I external/local_tsl/tsl/framework/bfc_allocator.cc:1095] InUse at 7f6848314200 of size 3072 next 43\n",
            "2024-04-12 16:24:06.740281: I external/local_tsl/tsl/framework/bfc_allocator.cc:1095] InUse at 7f6848314e00 of size 3072 next 44\n",
            "2024-04-12 16:24:06.740295: I external/local_tsl/tsl/framework/bfc_allocator.cc:1095] InUse at 7f6848315a00 of size 3072 next 47\n",
            "2024-04-12 16:24:06.740309: I external/local_tsl/tsl/framework/bfc_allocator.cc:1095] InUse at 7f6848316600 of size 3072 next 49\n",
            "2024-04-12 16:24:06.740322: I external/local_tsl/tsl/framework/bfc_allocator.cc:1095] InUse at 7f6848317200 of size 3072 next 50\n",
            "2024-04-12 16:24:06.740336: I external/local_tsl/tsl/framework/bfc_allocator.cc:1095] InUse at 7f6848317e00 of size 3072 next 51\n",
            "2024-04-12 16:24:06.740350: I external/local_tsl/tsl/framework/bfc_allocator.cc:1095] InUse at 7f6848318a00 of size 3072 next 53\n",
            "2024-04-12 16:24:06.740363: I external/local_tsl/tsl/framework/bfc_allocator.cc:1095] InUse at 7f6848319600 of size 3072 next 55\n",
            "2024-04-12 16:24:06.740377: I external/local_tsl/tsl/framework/bfc_allocator.cc:1095] InUse at 7f684831a200 of size 12288 next 57\n",
            "2024-04-12 16:24:06.740391: I external/local_tsl/tsl/framework/bfc_allocator.cc:1095] InUse at 7f684831d200 of size 3072 next 58\n",
            "2024-04-12 16:24:06.740405: I external/local_tsl/tsl/framework/bfc_allocator.cc:1095] InUse at 7f684831de00 of size 3072 next 59\n",
            "2024-04-12 16:24:06.740419: I external/local_tsl/tsl/framework/bfc_allocator.cc:1095] InUse at 7f684831ea00 of size 3072 next 60\n",
            "2024-04-12 16:24:06.740432: I external/local_tsl/tsl/framework/bfc_allocator.cc:1095] InUse at 7f684831f600 of size 3072 next 63\n",
            "2024-04-12 16:24:06.740446: I external/local_tsl/tsl/framework/bfc_allocator.cc:1095] InUse at 7f6848320200 of size 3072 next 65\n",
            "2024-04-12 16:24:06.740460: I external/local_tsl/tsl/framework/bfc_allocator.cc:1095] InUse at 7f6848320e00 of size 3072 next 66\n",
            "2024-04-12 16:24:06.740473: I external/local_tsl/tsl/framework/bfc_allocator.cc:1095] InUse at 7f6848321a00 of size 3072 next 67\n",
            "2024-04-12 16:24:06.740487: I external/local_tsl/tsl/framework/bfc_allocator.cc:1095] InUse at 7f6848322600 of size 3072 next 69\n",
            "2024-04-12 16:24:06.740501: I external/local_tsl/tsl/framework/bfc_allocator.cc:1095] InUse at 7f6848323200 of size 3072 next 71\n",
            "2024-04-12 16:24:06.740515: I external/local_tsl/tsl/framework/bfc_allocator.cc:1095] InUse at 7f6848323e00 of size 12288 next 73\n",
            "2024-04-12 16:24:06.740529: I external/local_tsl/tsl/framework/bfc_allocator.cc:1095] InUse at 7f6848326e00 of size 3072 next 74\n",
            "2024-04-12 16:24:06.740543: I external/local_tsl/tsl/framework/bfc_allocator.cc:1095] InUse at 7f6848327a00 of size 3072 next 75\n",
            "2024-04-12 16:24:06.740557: I external/local_tsl/tsl/framework/bfc_allocator.cc:1095] InUse at 7f6848328600 of size 3072 next 76\n",
            "2024-04-12 16:24:06.740571: I external/local_tsl/tsl/framework/bfc_allocator.cc:1095] InUse at 7f6848329200 of size 3072 next 79\n",
            "2024-04-12 16:24:06.740585: I external/local_tsl/tsl/framework/bfc_allocator.cc:1095] InUse at 7f6848329e00 of size 3072 next 81\n",
            "2024-04-12 16:24:06.740598: I external/local_tsl/tsl/framework/bfc_allocator.cc:1095] InUse at 7f684832aa00 of size 3072 next 82\n",
            "2024-04-12 16:24:06.740611: I external/local_tsl/tsl/framework/bfc_allocator.cc:1095] InUse at 7f684832b600 of size 3072 next 83\n",
            "2024-04-12 16:24:06.740624: I external/local_tsl/tsl/framework/bfc_allocator.cc:1095] InUse at 7f684832c200 of size 3072 next 85\n",
            "2024-04-12 16:24:06.740638: I external/local_tsl/tsl/framework/bfc_allocator.cc:1095] InUse at 7f684832ce00 of size 3072 next 87\n",
            "2024-04-12 16:24:06.740651: I external/local_tsl/tsl/framework/bfc_allocator.cc:1095] InUse at 7f684832da00 of size 12288 next 89\n",
            "2024-04-12 16:24:06.740664: I external/local_tsl/tsl/framework/bfc_allocator.cc:1095] InUse at 7f6848330a00 of size 3072 next 90\n",
            "2024-04-12 16:24:06.740677: I external/local_tsl/tsl/framework/bfc_allocator.cc:1095] InUse at 7f6848331600 of size 3072 next 91\n",
            "2024-04-12 16:24:06.740690: I external/local_tsl/tsl/framework/bfc_allocator.cc:1095] InUse at 7f6848332200 of size 3072 next 92\n",
            "2024-04-12 16:24:06.740703: I external/local_tsl/tsl/framework/bfc_allocator.cc:1095] InUse at 7f6848332e00 of size 3072 next 95\n",
            "2024-04-12 16:24:06.740717: I external/local_tsl/tsl/framework/bfc_allocator.cc:1095] InUse at 7f6848333a00 of size 3072 next 97\n",
            "2024-04-12 16:24:06.740730: I external/local_tsl/tsl/framework/bfc_allocator.cc:1095] InUse at 7f6848334600 of size 3072 next 98\n",
            "2024-04-12 16:24:06.740743: I external/local_tsl/tsl/framework/bfc_allocator.cc:1095] InUse at 7f6848335200 of size 3072 next 99\n",
            "2024-04-12 16:24:06.740756: I external/local_tsl/tsl/framework/bfc_allocator.cc:1095] InUse at 7f6848335e00 of size 3072 next 101\n",
            "2024-04-12 16:24:06.740770: I external/local_tsl/tsl/framework/bfc_allocator.cc:1095] InUse at 7f6848336a00 of size 3072 next 103\n",
            "2024-04-12 16:24:06.740783: I external/local_tsl/tsl/framework/bfc_allocator.cc:1095] InUse at 7f6848337600 of size 12288 next 9\n",
            "2024-04-12 16:24:06.740796: I external/local_tsl/tsl/framework/bfc_allocator.cc:1095] InUse at 7f684833a600 of size 3072 next 109\n",
            "2024-04-12 16:24:06.740809: I external/local_tsl/tsl/framework/bfc_allocator.cc:1095] InUse at 7f684833b200 of size 3072 next 107\n",
            "2024-04-12 16:24:06.740822: I external/local_tsl/tsl/framework/bfc_allocator.cc:1095] InUse at 7f684833be00 of size 3072 next 108\n",
            "2024-04-12 16:24:06.740836: I external/local_tsl/tsl/framework/bfc_allocator.cc:1095] InUse at 7f684833ca00 of size 3072 next 110\n",
            "2024-04-12 16:24:06.740849: I external/local_tsl/tsl/framework/bfc_allocator.cc:1095] InUse at 7f684833d600 of size 3072 next 112\n",
            "2024-04-12 16:24:06.740862: I external/local_tsl/tsl/framework/bfc_allocator.cc:1095] InUse at 7f684833e200 of size 3072 next 113\n",
            "2024-04-12 16:24:06.740875: I external/local_tsl/tsl/framework/bfc_allocator.cc:1095] InUse at 7f684833ee00 of size 3072 next 114\n",
            "2024-04-12 16:24:06.740888: I external/local_tsl/tsl/framework/bfc_allocator.cc:1095] InUse at 7f684833fa00 of size 3072 next 116\n",
            "2024-04-12 16:24:06.740902: I external/local_tsl/tsl/framework/bfc_allocator.cc:1095] InUse at 7f6848340600 of size 3072 next 118\n",
            "2024-04-12 16:24:06.740915: I external/local_tsl/tsl/framework/bfc_allocator.cc:1095] InUse at 7f6848341200 of size 12288 next 105\n",
            "2024-04-12 16:24:06.740928: I external/local_tsl/tsl/framework/bfc_allocator.cc:1095] InUse at 7f6848344200 of size 3072 next 121\n",
            "2024-04-12 16:24:06.740941: I external/local_tsl/tsl/framework/bfc_allocator.cc:1095] InUse at 7f6848344e00 of size 3072 next 122\n",
            "2024-04-12 16:24:06.740955: I external/local_tsl/tsl/framework/bfc_allocator.cc:1095] InUse at 7f6848345a00 of size 3072 next 123\n",
            "2024-04-12 16:24:06.740968: I external/local_tsl/tsl/framework/bfc_allocator.cc:1095] InUse at 7f6848346600 of size 3072 next 111\n",
            "2024-04-12 16:24:06.740981: I external/local_tsl/tsl/framework/bfc_allocator.cc:1095] InUse at 7f6848347200 of size 3072 next 131\n",
            "2024-04-12 16:24:06.740995: I external/local_tsl/tsl/framework/bfc_allocator.cc:1095] InUse at 7f6848347e00 of size 3072 next 133\n",
            "2024-04-12 16:24:06.741006: I external/local_tsl/tsl/framework/bfc_allocator.cc:1095] InUse at 7f6848348a00 of size 3072 next 135\n",
            "2024-04-12 16:24:06.741017: I external/local_tsl/tsl/framework/bfc_allocator.cc:1095] InUse at 7f6848349600 of size 3072 next 132\n",
            "2024-04-12 16:24:06.741029: I external/local_tsl/tsl/framework/bfc_allocator.cc:1095] InUse at 7f684834a200 of size 3072 next 134\n",
            "2024-04-12 16:24:06.741040: I external/local_tsl/tsl/framework/bfc_allocator.cc:1095] InUse at 7f684834ae00 of size 12288 next 136\n",
            "2024-04-12 16:24:06.741051: I external/local_tsl/tsl/framework/bfc_allocator.cc:1095] InUse at 7f684834de00 of size 3072 next 137\n",
            "2024-04-12 16:24:06.741063: I external/local_tsl/tsl/framework/bfc_allocator.cc:1095] InUse at 7f684834ea00 of size 3072 next 138\n",
            "2024-04-12 16:24:06.741074: I external/local_tsl/tsl/framework/bfc_allocator.cc:1095] InUse at 7f684834f600 of size 3072 next 139\n",
            "2024-04-12 16:24:06.741085: I external/local_tsl/tsl/framework/bfc_allocator.cc:1095] InUse at 7f6848350200 of size 3072 next 130\n",
            "2024-04-12 16:24:06.741097: I external/local_tsl/tsl/framework/bfc_allocator.cc:1095] InUse at 7f6848350e00 of size 3072 next 144\n",
            "2024-04-12 16:24:06.741108: I external/local_tsl/tsl/framework/bfc_allocator.cc:1095] InUse at 7f6848351a00 of size 3072 next 145\n",
            "2024-04-12 16:24:06.741120: I external/local_tsl/tsl/framework/bfc_allocator.cc:1095] InUse at 7f6848352600 of size 3072 next 146\n",
            "2024-04-12 16:24:06.741131: I external/local_tsl/tsl/framework/bfc_allocator.cc:1095] InUse at 7f6848353200 of size 3072 next 148\n",
            "2024-04-12 16:24:06.741142: I external/local_tsl/tsl/framework/bfc_allocator.cc:1095] InUse at 7f6848353e00 of size 3072 next 150\n",
            "2024-04-12 16:24:06.741154: I external/local_tsl/tsl/framework/bfc_allocator.cc:1095] InUse at 7f6848354a00 of size 12288 next 126\n",
            "2024-04-12 16:24:06.741165: I external/local_tsl/tsl/framework/bfc_allocator.cc:1095] InUse at 7f6848357a00 of size 3072 next 153\n",
            "2024-04-12 16:24:06.741177: I external/local_tsl/tsl/framework/bfc_allocator.cc:1095] InUse at 7f6848358600 of size 3072 next 154\n",
            "2024-04-12 16:24:06.741188: I external/local_tsl/tsl/framework/bfc_allocator.cc:1095] InUse at 7f6848359200 of size 3072 next 155\n",
            "2024-04-12 16:24:06.741199: I external/local_tsl/tsl/framework/bfc_allocator.cc:1095] InUse at 7f6848359e00 of size 3072 next 143\n",
            "2024-04-12 16:24:06.741242: I external/local_tsl/tsl/framework/bfc_allocator.cc:1095] InUse at 7f684835aa00 of size 3072 next 163\n",
            "2024-04-12 16:24:06.741255: I external/local_tsl/tsl/framework/bfc_allocator.cc:1095] InUse at 7f684835b600 of size 3072 next 165\n",
            "2024-04-12 16:24:06.741267: I external/local_tsl/tsl/framework/bfc_allocator.cc:1095] InUse at 7f684835c200 of size 3072 next 167\n",
            "2024-04-12 16:24:06.741278: I external/local_tsl/tsl/framework/bfc_allocator.cc:1095] InUse at 7f684835ce00 of size 3072 next 164\n",
            "2024-04-12 16:24:06.741289: I external/local_tsl/tsl/framework/bfc_allocator.cc:1095] InUse at 7f684835da00 of size 3072 next 166\n",
            "2024-04-12 16:24:06.741301: I external/local_tsl/tsl/framework/bfc_allocator.cc:1095] InUse at 7f684835e600 of size 12288 next 162\n",
            "2024-04-12 16:24:06.741313: I external/local_tsl/tsl/framework/bfc_allocator.cc:1095] InUse at 7f6848361600 of size 3072 next 173\n",
            "2024-04-12 16:24:06.741325: I external/local_tsl/tsl/framework/bfc_allocator.cc:1095] InUse at 7f6848362200 of size 3072 next 170\n",
            "2024-04-12 16:24:06.741336: I external/local_tsl/tsl/framework/bfc_allocator.cc:1095] InUse at 7f6848362e00 of size 3072 next 171\n",
            "2024-04-12 16:24:06.741348: I external/local_tsl/tsl/framework/bfc_allocator.cc:1095] InUse at 7f6848363a00 of size 3072 next 169\n",
            "2024-04-12 16:24:06.741359: I external/local_tsl/tsl/framework/bfc_allocator.cc:1095] InUse at 7f6848364600 of size 3072 next 176\n",
            "2024-04-12 16:24:06.741371: I external/local_tsl/tsl/framework/bfc_allocator.cc:1095] InUse at 7f6848365200 of size 3072 next 177\n",
            "2024-04-12 16:24:06.741382: I external/local_tsl/tsl/framework/bfc_allocator.cc:1095] InUse at 7f6848365e00 of size 3072 next 172\n",
            "2024-04-12 16:24:06.741394: I external/local_tsl/tsl/framework/bfc_allocator.cc:1095] InUse at 7f6848366a00 of size 3072 next 180\n",
            "2024-04-12 16:24:06.741405: I external/local_tsl/tsl/framework/bfc_allocator.cc:1095] InUse at 7f6848367600 of size 3072 next 182\n",
            "2024-04-12 16:24:06.741417: I external/local_tsl/tsl/framework/bfc_allocator.cc:1095] InUse at 7f6848368200 of size 12288 next 178\n",
            "2024-04-12 16:24:06.741428: I external/local_tsl/tsl/framework/bfc_allocator.cc:1095] InUse at 7f684836b200 of size 3072 next 185\n",
            "2024-04-12 16:24:06.741440: I external/local_tsl/tsl/framework/bfc_allocator.cc:1095] InUse at 7f684836be00 of size 3072 next 186\n",
            "2024-04-12 16:24:06.741452: I external/local_tsl/tsl/framework/bfc_allocator.cc:1095] InUse at 7f684836ca00 of size 3072 next 187\n",
            "2024-04-12 16:24:06.741463: I external/local_tsl/tsl/framework/bfc_allocator.cc:1095] InUse at 7f684836d600 of size 3072 next 158\n",
            "2024-04-12 16:24:06.741475: I external/local_tsl/tsl/framework/bfc_allocator.cc:1095] InUse at 7f684836e200 of size 3072 next 192\n",
            "2024-04-12 16:24:06.741487: I external/local_tsl/tsl/framework/bfc_allocator.cc:1095] InUse at 7f684836ee00 of size 3072 next 193\n",
            "2024-04-12 16:24:06.741498: I external/local_tsl/tsl/framework/bfc_allocator.cc:1095] InUse at 7f684836fa00 of size 3072 next 194\n",
            "2024-04-12 16:24:06.741510: I external/local_tsl/tsl/framework/bfc_allocator.cc:1095] InUse at 7f6848370600 of size 3072 next 196\n",
            "2024-04-12 16:24:06.741521: I external/local_tsl/tsl/framework/bfc_allocator.cc:1095] InUse at 7f6848371200 of size 3072 next 198\n",
            "2024-04-12 16:24:06.741533: I external/local_tsl/tsl/framework/bfc_allocator.cc:1095] InUse at 7f6848371e00 of size 12288 next 200\n",
            "2024-04-12 16:24:06.741544: I external/local_tsl/tsl/framework/bfc_allocator.cc:1095] InUse at 7f6848374e00 of size 3072 next 201\n",
            "2024-04-12 16:24:06.741556: I external/local_tsl/tsl/framework/bfc_allocator.cc:1095] InUse at 7f6848375a00 of size 3072 next 202\n",
            "2024-04-12 16:24:06.741567: I external/local_tsl/tsl/framework/bfc_allocator.cc:1095] InUse at 7f6848376600 of size 3072 next 203\n",
            "2024-04-12 16:24:06.741579: I external/local_tsl/tsl/framework/bfc_allocator.cc:1095] InUse at 7f6848377200 of size 3072 next 206\n",
            "2024-04-12 16:24:06.741591: I external/local_tsl/tsl/framework/bfc_allocator.cc:1095] InUse at 7f6848377e00 of size 256 next 208\n",
            "2024-04-12 16:24:06.741602: I external/local_tsl/tsl/framework/bfc_allocator.cc:1095] InUse at 7f6848377f00 of size 256 next 214\n",
            "2024-04-12 16:24:06.741616: I external/local_tsl/tsl/framework/bfc_allocator.cc:1095] InUse at 7f6848378000 of size 256 next 216\n",
            "2024-04-12 16:24:06.741631: I external/local_tsl/tsl/framework/bfc_allocator.cc:1095] InUse at 7f6848378100 of size 256 next 217\n",
            "2024-04-12 16:24:06.741646: I external/local_tsl/tsl/framework/bfc_allocator.cc:1095] InUse at 7f6848378200 of size 256 next 215\n",
            "2024-04-12 16:24:06.741662: I external/local_tsl/tsl/framework/bfc_allocator.cc:1095] InUse at 7f6848378300 of size 256 next 218\n",
            "2024-04-12 16:24:06.741676: I external/local_tsl/tsl/framework/bfc_allocator.cc:1095] InUse at 7f6848378400 of size 256 next 221\n",
            "2024-04-12 16:24:06.741691: I external/local_tsl/tsl/framework/bfc_allocator.cc:1095] InUse at 7f6848378500 of size 256 next 222\n",
            "2024-04-12 16:24:06.741702: I external/local_tsl/tsl/framework/bfc_allocator.cc:1095] InUse at 7f6848378600 of size 256 next 223\n",
            "2024-04-12 16:24:06.741714: I external/local_tsl/tsl/framework/bfc_allocator.cc:1095] InUse at 7f6848378700 of size 256 next 227\n",
            "2024-04-12 16:24:06.741725: I external/local_tsl/tsl/framework/bfc_allocator.cc:1095] InUse at 7f6848378800 of size 256 next 228\n",
            "2024-04-12 16:24:06.741737: I external/local_tsl/tsl/framework/bfc_allocator.cc:1095] InUse at 7f6848378900 of size 256 next 229\n",
            "2024-04-12 16:24:06.741749: I external/local_tsl/tsl/framework/bfc_allocator.cc:1095] InUse at 7f6848378a00 of size 6144 next 232\n",
            "2024-04-12 16:24:06.741761: I external/local_tsl/tsl/framework/bfc_allocator.cc:1095] InUse at 7f684837a200 of size 6144 next 233\n",
            "2024-04-12 16:24:06.741773: I external/local_tsl/tsl/framework/bfc_allocator.cc:1095] InUse at 7f684837ba00 of size 3072 next 234\n",
            "2024-04-12 16:24:06.741784: I external/local_tsl/tsl/framework/bfc_allocator.cc:1095] InUse at 7f684837c600 of size 3072 next 235\n",
            "2024-04-12 16:24:06.741796: I external/local_tsl/tsl/framework/bfc_allocator.cc:1095] InUse at 7f684837d200 of size 3072 next 236\n",
            "2024-04-12 16:24:06.741807: I external/local_tsl/tsl/framework/bfc_allocator.cc:1095] InUse at 7f684837de00 of size 3072 next 237\n",
            "2024-04-12 16:24:06.741819: I external/local_tsl/tsl/framework/bfc_allocator.cc:1095] InUse at 7f684837ea00 of size 3072 next 239\n",
            "2024-04-12 16:24:06.741830: I external/local_tsl/tsl/framework/bfc_allocator.cc:1095] InUse at 7f684837f600 of size 3072 next 240\n",
            "2024-04-12 16:24:06.741842: I external/local_tsl/tsl/framework/bfc_allocator.cc:1095] InUse at 7f6848380200 of size 3072 next 243\n",
            "2024-04-12 16:24:06.741853: I external/local_tsl/tsl/framework/bfc_allocator.cc:1095] InUse at 7f6848380e00 of size 3072 next 244\n",
            "2024-04-12 16:24:06.741865: I external/local_tsl/tsl/framework/bfc_allocator.cc:1095] InUse at 7f6848381a00 of size 3072 next 246\n",
            "2024-04-12 16:24:06.741876: I external/local_tsl/tsl/framework/bfc_allocator.cc:1095] InUse at 7f6848382600 of size 3072 next 247\n",
            "2024-04-12 16:24:06.741888: I external/local_tsl/tsl/framework/bfc_allocator.cc:1095] InUse at 7f6848383200 of size 3072 next 250\n",
            "2024-04-12 16:24:06.741899: I external/local_tsl/tsl/framework/bfc_allocator.cc:1095] InUse at 7f6848383e00 of size 3072 next 251\n",
            "2024-04-12 16:24:06.741911: I external/local_tsl/tsl/framework/bfc_allocator.cc:1095] InUse at 7f6848384a00 of size 3072 next 252\n",
            "2024-04-12 16:24:06.741923: I external/local_tsl/tsl/framework/bfc_allocator.cc:1095] InUse at 7f6848385600 of size 3072 next 253\n",
            "2024-04-12 16:24:06.741934: I external/local_tsl/tsl/framework/bfc_allocator.cc:1095] InUse at 7f6848386200 of size 4352 next 219\n",
            "2024-04-12 16:24:06.741946: I external/local_tsl/tsl/framework/bfc_allocator.cc:1095] InUse at 7f6848387300 of size 30720 next 220\n",
            "2024-04-12 16:24:06.741958: I external/local_tsl/tsl/framework/bfc_allocator.cc:1095] InUse at 7f684838eb00 of size 3072 next 254\n",
            "2024-04-12 16:24:06.741970: I external/local_tsl/tsl/framework/bfc_allocator.cc:1095] InUse at 7f684838f700 of size 12288 next 257\n",
            "2024-04-12 16:24:06.741981: I external/local_tsl/tsl/framework/bfc_allocator.cc:1095] InUse at 7f6848392700 of size 12288 next 258\n",
            "2024-04-12 16:24:06.741993: I external/local_tsl/tsl/framework/bfc_allocator.cc:1095] InUse at 7f6848395700 of size 3072 next 261\n",
            "2024-04-12 16:24:06.742004: I external/local_tsl/tsl/framework/bfc_allocator.cc:1095] InUse at 7f6848396300 of size 3072 next 262\n",
            "2024-04-12 16:24:06.742016: I external/local_tsl/tsl/framework/bfc_allocator.cc:1095] InUse at 7f6848396f00 of size 3072 next 263\n",
            "2024-04-12 16:24:06.742027: I external/local_tsl/tsl/framework/bfc_allocator.cc:1095] InUse at 7f6848397b00 of size 3072 next 264\n",
            "2024-04-12 16:24:06.742039: I external/local_tsl/tsl/framework/bfc_allocator.cc:1095] InUse at 7f6848398700 of size 3072 next 265\n",
            "2024-04-12 16:24:06.742050: I external/local_tsl/tsl/framework/bfc_allocator.cc:1095] InUse at 7f6848399300 of size 3072 next 266\n",
            "2024-04-12 16:24:06.742063: I external/local_tsl/tsl/framework/bfc_allocator.cc:1095] InUse at 7f6848399f00 of size 3072 next 268\n",
            "2024-04-12 16:24:06.742074: I external/local_tsl/tsl/framework/bfc_allocator.cc:1095] InUse at 7f684839ab00 of size 3072 next 269\n",
            "2024-04-12 16:24:06.742083: I external/local_tsl/tsl/framework/bfc_allocator.cc:1095] InUse at 7f684839b700 of size 3072 next 272\n",
            "2024-04-12 16:24:06.742092: I external/local_tsl/tsl/framework/bfc_allocator.cc:1095] InUse at 7f684839c300 of size 3072 next 273\n",
            "2024-04-12 16:24:06.742101: I external/local_tsl/tsl/framework/bfc_allocator.cc:1095] InUse at 7f684839cf00 of size 3072 next 276\n",
            "2024-04-12 16:24:06.742110: I external/local_tsl/tsl/framework/bfc_allocator.cc:1095] InUse at 7f684839db00 of size 3072 next 277\n",
            "2024-04-12 16:24:06.742118: I external/local_tsl/tsl/framework/bfc_allocator.cc:1095] InUse at 7f684839e700 of size 3072 next 280\n",
            "2024-04-12 16:24:06.742127: I external/local_tsl/tsl/framework/bfc_allocator.cc:1095] InUse at 7f684839f300 of size 3072 next 281\n",
            "2024-04-12 16:24:06.742136: I external/local_tsl/tsl/framework/bfc_allocator.cc:1095] InUse at 7f684839ff00 of size 3072 next 282\n",
            "2024-04-12 16:24:06.742144: I external/local_tsl/tsl/framework/bfc_allocator.cc:1095] InUse at 7f68483a0b00 of size 3072 next 283\n",
            "2024-04-12 16:24:06.742153: I external/local_tsl/tsl/framework/bfc_allocator.cc:1095] InUse at 7f68483a1700 of size 3072 next 284\n",
            "2024-04-12 16:24:06.742162: I external/local_tsl/tsl/framework/bfc_allocator.cc:1095] InUse at 7f68483a2300 of size 3072 next 285\n",
            "2024-04-12 16:24:06.742170: I external/local_tsl/tsl/framework/bfc_allocator.cc:1095] InUse at 7f68483a2f00 of size 12288 next 288\n",
            "2024-04-12 16:24:06.742179: I external/local_tsl/tsl/framework/bfc_allocator.cc:1095] InUse at 7f68483a5f00 of size 12288 next 289\n",
            "2024-04-12 16:24:06.742188: I external/local_tsl/tsl/framework/bfc_allocator.cc:1095] InUse at 7f68483a8f00 of size 3072 next 292\n",
            "2024-04-12 16:24:06.742196: I external/local_tsl/tsl/framework/bfc_allocator.cc:1095] InUse at 7f68483a9b00 of size 3072 next 293\n",
            "2024-04-12 16:24:06.742205: I external/local_tsl/tsl/framework/bfc_allocator.cc:1095] InUse at 7f68483aa700 of size 3072 next 294\n",
            "2024-04-12 16:24:06.742213: I external/local_tsl/tsl/framework/bfc_allocator.cc:1095] InUse at 7f68483ab300 of size 3072 next 295\n",
            "2024-04-12 16:24:06.742222: I external/local_tsl/tsl/framework/bfc_allocator.cc:1095] InUse at 7f68483abf00 of size 3072 next 296\n",
            "2024-04-12 16:24:06.742231: I external/local_tsl/tsl/framework/bfc_allocator.cc:1095] InUse at 7f68483acb00 of size 3072 next 297\n",
            "2024-04-12 16:24:06.742239: I external/local_tsl/tsl/framework/bfc_allocator.cc:1095] InUse at 7f68483ad700 of size 3072 next 299\n",
            "2024-04-12 16:24:06.742248: I external/local_tsl/tsl/framework/bfc_allocator.cc:1095] InUse at 7f68483ae300 of size 3072 next 300\n",
            "2024-04-12 16:24:06.742256: I external/local_tsl/tsl/framework/bfc_allocator.cc:1095] InUse at 7f68483aef00 of size 3072 next 303\n",
            "2024-04-12 16:24:06.742265: I external/local_tsl/tsl/framework/bfc_allocator.cc:1095] InUse at 7f68483afb00 of size 3072 next 304\n",
            "2024-04-12 16:24:06.742274: I external/local_tsl/tsl/framework/bfc_allocator.cc:1095] InUse at 7f68483b0700 of size 3072 next 307\n",
            "2024-04-12 16:24:06.742282: I external/local_tsl/tsl/framework/bfc_allocator.cc:1095] InUse at 7f68483b1300 of size 3072 next 308\n",
            "2024-04-12 16:24:06.742291: I external/local_tsl/tsl/framework/bfc_allocator.cc:1095] InUse at 7f68483b1f00 of size 3072 next 311\n",
            "2024-04-12 16:24:06.742299: I external/local_tsl/tsl/framework/bfc_allocator.cc:1095] InUse at 7f68483b2b00 of size 3072 next 312\n",
            "2024-04-12 16:24:06.742308: I external/local_tsl/tsl/framework/bfc_allocator.cc:1095] InUse at 7f68483b3700 of size 3072 next 313\n",
            "2024-04-12 16:24:06.742319: I external/local_tsl/tsl/framework/bfc_allocator.cc:1095] InUse at 7f68483b4300 of size 3072 next 314\n",
            "2024-04-12 16:24:06.742328: I external/local_tsl/tsl/framework/bfc_allocator.cc:1095] InUse at 7f68483b4f00 of size 3072 next 315\n",
            "2024-04-12 16:24:06.742337: I external/local_tsl/tsl/framework/bfc_allocator.cc:1095] InUse at 7f68483b5b00 of size 3072 next 316\n",
            "2024-04-12 16:24:06.742345: I external/local_tsl/tsl/framework/bfc_allocator.cc:1095] InUse at 7f68483b6700 of size 12288 next 319\n",
            "2024-04-12 16:24:06.742354: I external/local_tsl/tsl/framework/bfc_allocator.cc:1095] InUse at 7f68483b9700 of size 12288 next 320\n",
            "2024-04-12 16:24:06.742363: I external/local_tsl/tsl/framework/bfc_allocator.cc:1095] InUse at 7f68483bc700 of size 3072 next 323\n",
            "2024-04-12 16:24:06.742371: I external/local_tsl/tsl/framework/bfc_allocator.cc:1095] InUse at 7f68483bd300 of size 3072 next 324\n",
            "2024-04-12 16:24:06.742381: I external/local_tsl/tsl/framework/bfc_allocator.cc:1095] InUse at 7f68483bdf00 of size 3072 next 325\n",
            "2024-04-12 16:24:06.742390: I external/local_tsl/tsl/framework/bfc_allocator.cc:1095] InUse at 7f68483beb00 of size 3072 next 326\n",
            "2024-04-12 16:24:06.742399: I external/local_tsl/tsl/framework/bfc_allocator.cc:1095] InUse at 7f68483bf700 of size 3072 next 327\n",
            "2024-04-12 16:24:06.742407: I external/local_tsl/tsl/framework/bfc_allocator.cc:1095] InUse at 7f68483c0300 of size 3072 next 328\n",
            "2024-04-12 16:24:06.742414: I external/local_tsl/tsl/framework/bfc_allocator.cc:1095] InUse at 7f68483c0f00 of size 3072 next 331\n",
            "2024-04-12 16:24:06.742420: I external/local_tsl/tsl/framework/bfc_allocator.cc:1095] InUse at 7f68483c1b00 of size 3072 next 332\n",
            "2024-04-12 16:24:06.742427: I external/local_tsl/tsl/framework/bfc_allocator.cc:1095] InUse at 7f68483c2700 of size 3072 next 335\n",
            "2024-04-12 16:24:06.742434: I external/local_tsl/tsl/framework/bfc_allocator.cc:1095] InUse at 7f68483c3300 of size 3072 next 336\n",
            "2024-04-12 16:24:06.742441: I external/local_tsl/tsl/framework/bfc_allocator.cc:1095] InUse at 7f68483c3f00 of size 3072 next 339\n",
            "2024-04-12 16:24:06.742448: I external/local_tsl/tsl/framework/bfc_allocator.cc:1095] InUse at 7f68483c4b00 of size 3072 next 340\n",
            "2024-04-12 16:24:06.742455: I external/local_tsl/tsl/framework/bfc_allocator.cc:1095] InUse at 7f68483c5700 of size 3072 next 343\n",
            "2024-04-12 16:24:06.742462: I external/local_tsl/tsl/framework/bfc_allocator.cc:1095] InUse at 7f68483c6300 of size 3072 next 344\n",
            "2024-04-12 16:24:06.742469: I external/local_tsl/tsl/framework/bfc_allocator.cc:1095] InUse at 7f68483c6f00 of size 3072 next 345\n",
            "2024-04-12 16:24:06.742475: I external/local_tsl/tsl/framework/bfc_allocator.cc:1095] InUse at 7f68483c7b00 of size 3072 next 346\n",
            "2024-04-12 16:24:06.742482: I external/local_tsl/tsl/framework/bfc_allocator.cc:1095] InUse at 7f68483c8700 of size 3072 next 347\n",
            "2024-04-12 16:24:06.742489: I external/local_tsl/tsl/framework/bfc_allocator.cc:1095] InUse at 7f68483c9300 of size 3072 next 348\n",
            "2024-04-12 16:24:06.742496: I external/local_tsl/tsl/framework/bfc_allocator.cc:1095] InUse at 7f68483c9f00 of size 12288 next 351\n",
            "2024-04-12 16:24:06.742503: I external/local_tsl/tsl/framework/bfc_allocator.cc:1095] InUse at 7f68483ccf00 of size 12288 next 352\n",
            "2024-04-12 16:24:06.742510: I external/local_tsl/tsl/framework/bfc_allocator.cc:1095] InUse at 7f68483cff00 of size 3072 next 355\n",
            "2024-04-12 16:24:06.742517: I external/local_tsl/tsl/framework/bfc_allocator.cc:1095] InUse at 7f68483d0b00 of size 3072 next 356\n",
            "2024-04-12 16:24:06.742524: I external/local_tsl/tsl/framework/bfc_allocator.cc:1095] InUse at 7f68483d1700 of size 3072 next 357\n",
            "2024-04-12 16:24:06.742530: I external/local_tsl/tsl/framework/bfc_allocator.cc:1095] InUse at 7f68483d2300 of size 3072 next 358\n",
            "2024-04-12 16:24:06.742537: I external/local_tsl/tsl/framework/bfc_allocator.cc:1095] InUse at 7f68483d2f00 of size 3072 next 359\n",
            "2024-04-12 16:24:06.742544: I external/local_tsl/tsl/framework/bfc_allocator.cc:1095] InUse at 7f68483d3b00 of size 3072 next 360\n",
            "2024-04-12 16:24:06.742553: I external/local_tsl/tsl/framework/bfc_allocator.cc:1095] InUse at 7f68483d4700 of size 3072 next 363\n",
            "2024-04-12 16:24:06.742560: I external/local_tsl/tsl/framework/bfc_allocator.cc:1095] InUse at 7f68483d5300 of size 3072 next 364\n",
            "2024-04-12 16:24:06.742567: I external/local_tsl/tsl/framework/bfc_allocator.cc:1095] InUse at 7f68483d5f00 of size 3072 next 367\n",
            "2024-04-12 16:24:06.742574: I external/local_tsl/tsl/framework/bfc_allocator.cc:1095] InUse at 7f68483d6b00 of size 3072 next 368\n",
            "2024-04-12 16:24:06.742581: I external/local_tsl/tsl/framework/bfc_allocator.cc:1095] InUse at 7f68483d7700 of size 3072 next 371\n",
            "2024-04-12 16:24:06.742587: I external/local_tsl/tsl/framework/bfc_allocator.cc:1095] InUse at 7f68483d8300 of size 3072 next 372\n",
            "2024-04-12 16:24:06.742594: I external/local_tsl/tsl/framework/bfc_allocator.cc:1095] InUse at 7f68483d8f00 of size 3072 next 375\n",
            "2024-04-12 16:24:06.742601: I external/local_tsl/tsl/framework/bfc_allocator.cc:1095] InUse at 7f68483d9b00 of size 3072 next 376\n",
            "2024-04-12 16:24:06.742608: I external/local_tsl/tsl/framework/bfc_allocator.cc:1095] InUse at 7f68483da700 of size 3072 next 377\n",
            "2024-04-12 16:24:06.742615: I external/local_tsl/tsl/framework/bfc_allocator.cc:1095] InUse at 7f68483db300 of size 3072 next 378\n",
            "2024-04-12 16:24:06.742622: I external/local_tsl/tsl/framework/bfc_allocator.cc:1095] InUse at 7f68483dbf00 of size 3072 next 379\n",
            "2024-04-12 16:24:06.742629: I external/local_tsl/tsl/framework/bfc_allocator.cc:1095] InUse at 7f68483dcb00 of size 3072 next 380\n",
            "2024-04-12 16:24:06.742635: I external/local_tsl/tsl/framework/bfc_allocator.cc:1095] InUse at 7f68483dd700 of size 12288 next 383\n",
            "2024-04-12 16:24:06.742642: I external/local_tsl/tsl/framework/bfc_allocator.cc:1095] InUse at 7f68483e0700 of size 12288 next 384\n",
            "2024-04-12 16:24:06.742649: I external/local_tsl/tsl/framework/bfc_allocator.cc:1095] InUse at 7f68483e3700 of size 3072 next 387\n",
            "2024-04-12 16:24:06.742656: I external/local_tsl/tsl/framework/bfc_allocator.cc:1095] InUse at 7f68483e4300 of size 3072 next 388\n",
            "2024-04-12 16:24:06.742663: I external/local_tsl/tsl/framework/bfc_allocator.cc:1095] InUse at 7f68483e4f00 of size 3072 next 389\n",
            "2024-04-12 16:24:06.742670: I external/local_tsl/tsl/framework/bfc_allocator.cc:1095] InUse at 7f68483e5b00 of size 3072 next 390\n",
            "2024-04-12 16:24:06.742677: I external/local_tsl/tsl/framework/bfc_allocator.cc:1095] InUse at 7f68483e6700 of size 3072 next 391\n",
            "2024-04-12 16:24:06.742683: I external/local_tsl/tsl/framework/bfc_allocator.cc:1095] InUse at 7f68483e7300 of size 3072 next 392\n",
            "2024-04-12 16:24:06.742690: I external/local_tsl/tsl/framework/bfc_allocator.cc:1095] InUse at 7f68483e7f00 of size 3072 next 395\n",
            "2024-04-12 16:24:06.742697: I external/local_tsl/tsl/framework/bfc_allocator.cc:1095] InUse at 7f68483e8b00 of size 3072 next 396\n",
            "2024-04-12 16:24:06.742704: I external/local_tsl/tsl/framework/bfc_allocator.cc:1095] InUse at 7f68483e9700 of size 3072 next 399\n",
            "2024-04-12 16:24:06.742711: I external/local_tsl/tsl/framework/bfc_allocator.cc:1095] InUse at 7f68483ea300 of size 3072 next 400\n",
            "2024-04-12 16:24:06.742718: I external/local_tsl/tsl/framework/bfc_allocator.cc:1095] InUse at 7f68483eaf00 of size 3072 next 403\n",
            "2024-04-12 16:24:06.742725: I external/local_tsl/tsl/framework/bfc_allocator.cc:1095] InUse at 7f68483ebb00 of size 3072 next 404\n",
            "2024-04-12 16:24:06.742731: I external/local_tsl/tsl/framework/bfc_allocator.cc:1095] InUse at 7f68483ec700 of size 3072 next 407\n",
            "2024-04-12 16:24:06.742738: I external/local_tsl/tsl/framework/bfc_allocator.cc:1095] InUse at 7f68483ed300 of size 3072 next 408\n",
            "2024-04-12 16:24:06.742745: I external/local_tsl/tsl/framework/bfc_allocator.cc:1095] InUse at 7f68483edf00 of size 3072 next 409\n",
            "2024-04-12 16:24:06.742752: I external/local_tsl/tsl/framework/bfc_allocator.cc:1095] InUse at 7f68483eeb00 of size 3072 next 410\n",
            "2024-04-12 16:24:06.742759: I external/local_tsl/tsl/framework/bfc_allocator.cc:1095] InUse at 7f68483ef700 of size 3072 next 411\n",
            "2024-04-12 16:24:06.742767: I external/local_tsl/tsl/framework/bfc_allocator.cc:1095] InUse at 7f68483f0300 of size 3072 next 412\n",
            "2024-04-12 16:24:06.742774: I external/local_tsl/tsl/framework/bfc_allocator.cc:1095] InUse at 7f68483f0f00 of size 12288 next 415\n",
            "2024-04-12 16:24:06.742781: I external/local_tsl/tsl/framework/bfc_allocator.cc:1095] InUse at 7f68483f3f00 of size 12288 next 416\n",
            "2024-04-12 16:24:06.742788: I external/local_tsl/tsl/framework/bfc_allocator.cc:1095] InUse at 7f68483f6f00 of size 3072 next 419\n",
            "2024-04-12 16:24:06.742795: I external/local_tsl/tsl/framework/bfc_allocator.cc:1095] InUse at 7f68483f7b00 of size 3072 next 420\n",
            "2024-04-12 16:24:06.742802: I external/local_tsl/tsl/framework/bfc_allocator.cc:1095] InUse at 7f68483f8700 of size 3072 next 421\n",
            "2024-04-12 16:24:06.742809: I external/local_tsl/tsl/framework/bfc_allocator.cc:1095] InUse at 7f68483f9300 of size 3072 next 422\n",
            "2024-04-12 16:24:06.742815: I external/local_tsl/tsl/framework/bfc_allocator.cc:1095] InUse at 7f68483f9f00 of size 3072 next 423\n",
            "2024-04-12 16:24:06.742822: I external/local_tsl/tsl/framework/bfc_allocator.cc:1095] InUse at 7f68483fab00 of size 3072 next 424\n",
            "2024-04-12 16:24:06.742829: I external/local_tsl/tsl/framework/bfc_allocator.cc:1095] InUse at 7f68483fb700 of size 3072 next 427\n",
            "2024-04-12 16:24:06.742836: I external/local_tsl/tsl/framework/bfc_allocator.cc:1095] InUse at 7f68483fc300 of size 3072 next 428\n",
            "2024-04-12 16:24:06.742843: I external/local_tsl/tsl/framework/bfc_allocator.cc:1095] InUse at 7f68483fcf00 of size 3072 next 431\n",
            "2024-04-12 16:24:06.742850: I external/local_tsl/tsl/framework/bfc_allocator.cc:1095] InUse at 7f68483fdb00 of size 3072 next 432\n",
            "2024-04-12 16:24:06.742857: I external/local_tsl/tsl/framework/bfc_allocator.cc:1095] InUse at 7f68483fe700 of size 3072 next 435\n",
            "2024-04-12 16:24:06.742863: I external/local_tsl/tsl/framework/bfc_allocator.cc:1095] InUse at 7f68483ff300 of size 3072 next 436\n",
            "2024-04-12 16:24:06.742870: I external/local_tsl/tsl/framework/bfc_allocator.cc:1095] InUse at 7f68483fff00 of size 3072 next 439\n",
            "2024-04-12 16:24:06.742877: I external/local_tsl/tsl/framework/bfc_allocator.cc:1095] InUse at 7f6848400b00 of size 3072 next 440\n",
            "2024-04-12 16:24:06.742884: I external/local_tsl/tsl/framework/bfc_allocator.cc:1095] InUse at 7f6848401700 of size 3072 next 441\n",
            "2024-04-12 16:24:06.742891: I external/local_tsl/tsl/framework/bfc_allocator.cc:1095] InUse at 7f6848402300 of size 3072 next 442\n",
            "2024-04-12 16:24:06.742898: I external/local_tsl/tsl/framework/bfc_allocator.cc:1095] InUse at 7f6848402f00 of size 3072 next 443\n",
            "2024-04-12 16:24:06.742905: I external/local_tsl/tsl/framework/bfc_allocator.cc:1095] InUse at 7f6848403b00 of size 3072 next 444\n",
            "2024-04-12 16:24:06.742911: I external/local_tsl/tsl/framework/bfc_allocator.cc:1095] InUse at 7f6848404700 of size 12288 next 447\n",
            "2024-04-12 16:24:06.742918: I external/local_tsl/tsl/framework/bfc_allocator.cc:1095] InUse at 7f6848407700 of size 12288 next 448\n",
            "2024-04-12 16:24:06.742925: I external/local_tsl/tsl/framework/bfc_allocator.cc:1095] InUse at 7f684840a700 of size 3072 next 451\n",
            "2024-04-12 16:24:06.742932: I external/local_tsl/tsl/framework/bfc_allocator.cc:1095] InUse at 7f684840b300 of size 3072 next 452\n",
            "2024-04-12 16:24:06.742939: I external/local_tsl/tsl/framework/bfc_allocator.cc:1095] InUse at 7f684840bf00 of size 3072 next 453\n",
            "2024-04-12 16:24:06.742946: I external/local_tsl/tsl/framework/bfc_allocator.cc:1095] InUse at 7f684840cb00 of size 3072 next 454\n",
            "2024-04-12 16:24:06.742953: I external/local_tsl/tsl/framework/bfc_allocator.cc:1095] InUse at 7f684840d700 of size 3072 next 455\n",
            "2024-04-12 16:24:06.742960: I external/local_tsl/tsl/framework/bfc_allocator.cc:1095] InUse at 7f684840e300 of size 3072 next 456\n",
            "2024-04-12 16:24:06.742966: I external/local_tsl/tsl/framework/bfc_allocator.cc:1095] InUse at 7f684840ef00 of size 3072 next 459\n",
            "2024-04-12 16:24:06.742973: I external/local_tsl/tsl/framework/bfc_allocator.cc:1095] InUse at 7f684840fb00 of size 3072 next 460\n",
            "2024-04-12 16:24:06.742982: I external/local_tsl/tsl/framework/bfc_allocator.cc:1095] InUse at 7f6848410700 of size 3072 next 463\n",
            "2024-04-12 16:24:06.742989: I external/local_tsl/tsl/framework/bfc_allocator.cc:1095] InUse at 7f6848411300 of size 3072 next 464\n",
            "2024-04-12 16:24:06.742995: I external/local_tsl/tsl/framework/bfc_allocator.cc:1095] InUse at 7f6848411f00 of size 3072 next 467\n",
            "2024-04-12 16:24:06.743002: I external/local_tsl/tsl/framework/bfc_allocator.cc:1095] InUse at 7f6848412b00 of size 3072 next 468\n",
            "2024-04-12 16:24:06.743009: I external/local_tsl/tsl/framework/bfc_allocator.cc:1095] InUse at 7f6848413700 of size 3072 next 471\n",
            "2024-04-12 16:24:06.743016: I external/local_tsl/tsl/framework/bfc_allocator.cc:1095] InUse at 7f6848414300 of size 3072 next 472\n",
            "2024-04-12 16:24:06.743023: I external/local_tsl/tsl/framework/bfc_allocator.cc:1095] InUse at 7f6848414f00 of size 3072 next 473\n",
            "2024-04-12 16:24:06.743030: I external/local_tsl/tsl/framework/bfc_allocator.cc:1095] InUse at 7f6848415b00 of size 3072 next 474\n",
            "2024-04-12 16:24:06.743037: I external/local_tsl/tsl/framework/bfc_allocator.cc:1095] InUse at 7f6848416700 of size 3072 next 475\n",
            "2024-04-12 16:24:06.743044: I external/local_tsl/tsl/framework/bfc_allocator.cc:1095] InUse at 7f6848417300 of size 3072 next 476\n",
            "2024-04-12 16:24:06.743050: I external/local_tsl/tsl/framework/bfc_allocator.cc:1095] InUse at 7f6848417f00 of size 12288 next 479\n",
            "2024-04-12 16:24:06.743057: I external/local_tsl/tsl/framework/bfc_allocator.cc:1095] InUse at 7f684841af00 of size 12288 next 480\n",
            "2024-04-12 16:24:06.743064: I external/local_tsl/tsl/framework/bfc_allocator.cc:1095] InUse at 7f684841df00 of size 3072 next 483\n",
            "2024-04-12 16:24:06.743071: I external/local_tsl/tsl/framework/bfc_allocator.cc:1095] InUse at 7f684841eb00 of size 3072 next 484\n",
            "2024-04-12 16:24:06.743078: I external/local_tsl/tsl/framework/bfc_allocator.cc:1095] InUse at 7f684841f700 of size 3072 next 485\n",
            "2024-04-12 16:24:06.743085: I external/local_tsl/tsl/framework/bfc_allocator.cc:1095] InUse at 7f6848420300 of size 3072 next 486\n",
            "2024-04-12 16:24:06.743092: I external/local_tsl/tsl/framework/bfc_allocator.cc:1095] InUse at 7f6848420f00 of size 3072 next 487\n",
            "2024-04-12 16:24:06.743099: I external/local_tsl/tsl/framework/bfc_allocator.cc:1095] InUse at 7f6848421b00 of size 3072 next 488\n",
            "2024-04-12 16:24:06.743105: I external/local_tsl/tsl/framework/bfc_allocator.cc:1095] InUse at 7f6848422700 of size 3072 next 491\n",
            "2024-04-12 16:24:06.743112: I external/local_tsl/tsl/framework/bfc_allocator.cc:1095] InUse at 7f6848423300 of size 3072 next 492\n",
            "2024-04-12 16:24:06.743119: I external/local_tsl/tsl/framework/bfc_allocator.cc:1095] InUse at 7f6848423f00 of size 3072 next 495\n",
            "2024-04-12 16:24:06.743126: I external/local_tsl/tsl/framework/bfc_allocator.cc:1095] InUse at 7f6848424b00 of size 3072 next 496\n",
            "2024-04-12 16:24:06.743133: I external/local_tsl/tsl/framework/bfc_allocator.cc:1095] InUse at 7f6848425700 of size 3072 next 499\n",
            "2024-04-12 16:24:06.743140: I external/local_tsl/tsl/framework/bfc_allocator.cc:1095] InUse at 7f6848426300 of size 3072 next 500\n",
            "2024-04-12 16:24:06.743147: I external/local_tsl/tsl/framework/bfc_allocator.cc:1095] InUse at 7f6848426f00 of size 3072 next 503\n",
            "2024-04-12 16:24:06.743153: I external/local_tsl/tsl/framework/bfc_allocator.cc:1095] InUse at 7f6848427b00 of size 3072 next 504\n",
            "2024-04-12 16:24:06.743160: I external/local_tsl/tsl/framework/bfc_allocator.cc:1095] InUse at 7f6848428700 of size 3072 next 505\n",
            "2024-04-12 16:24:06.743167: I external/local_tsl/tsl/framework/bfc_allocator.cc:1095] InUse at 7f6848429300 of size 3072 next 506\n",
            "2024-04-12 16:24:06.743174: I external/local_tsl/tsl/framework/bfc_allocator.cc:1095] InUse at 7f6848429f00 of size 3072 next 507\n",
            "2024-04-12 16:24:06.743181: I external/local_tsl/tsl/framework/bfc_allocator.cc:1095] InUse at 7f684842ab00 of size 3072 next 508\n",
            "2024-04-12 16:24:06.743188: I external/local_tsl/tsl/framework/bfc_allocator.cc:1095] InUse at 7f684842b700 of size 12288 next 511\n",
            "2024-04-12 16:24:06.743196: I external/local_tsl/tsl/framework/bfc_allocator.cc:1095] InUse at 7f684842e700 of size 12288 next 512\n",
            "2024-04-12 16:24:06.743203: I external/local_tsl/tsl/framework/bfc_allocator.cc:1095] InUse at 7f6848431700 of size 3072 next 515\n",
            "2024-04-12 16:24:06.743210: I external/local_tsl/tsl/framework/bfc_allocator.cc:1095] InUse at 7f6848432300 of size 3072 next 516\n",
            "2024-04-12 16:24:06.743217: I external/local_tsl/tsl/framework/bfc_allocator.cc:1095] InUse at 7f6848432f00 of size 3072 next 517\n",
            "2024-04-12 16:24:06.743224: I external/local_tsl/tsl/framework/bfc_allocator.cc:1095] InUse at 7f6848433b00 of size 3072 next 518\n",
            "2024-04-12 16:24:06.743231: I external/local_tsl/tsl/framework/bfc_allocator.cc:1095] InUse at 7f6848434700 of size 3072 next 519\n",
            "2024-04-12 16:24:06.743237: I external/local_tsl/tsl/framework/bfc_allocator.cc:1095] InUse at 7f6848435300 of size 3072 next 520\n",
            "2024-04-12 16:24:06.743244: I external/local_tsl/tsl/framework/bfc_allocator.cc:1095] InUse at 7f6848435f00 of size 3072 next 523\n",
            "2024-04-12 16:24:06.743251: I external/local_tsl/tsl/framework/bfc_allocator.cc:1095] InUse at 7f6848436b00 of size 3072 next 524\n",
            "2024-04-12 16:24:06.743258: I external/local_tsl/tsl/framework/bfc_allocator.cc:1095] InUse at 7f6848437700 of size 3072 next 527\n",
            "2024-04-12 16:24:06.743265: I external/local_tsl/tsl/framework/bfc_allocator.cc:1095] InUse at 7f6848438300 of size 3072 next 528\n",
            "2024-04-12 16:24:06.743272: I external/local_tsl/tsl/framework/bfc_allocator.cc:1095] InUse at 7f6848438f00 of size 3072 next 531\n",
            "2024-04-12 16:24:06.743279: I external/local_tsl/tsl/framework/bfc_allocator.cc:1095] InUse at 7f6848439b00 of size 3072 next 532\n",
            "2024-04-12 16:24:06.743285: I external/local_tsl/tsl/framework/bfc_allocator.cc:1095] InUse at 7f684843a700 of size 3072 next 535\n",
            "2024-04-12 16:24:06.743292: I external/local_tsl/tsl/framework/bfc_allocator.cc:1095] InUse at 7f684843b300 of size 3072 next 536\n",
            "2024-04-12 16:24:06.743299: I external/local_tsl/tsl/framework/bfc_allocator.cc:1095] InUse at 7f684843bf00 of size 3072 next 537\n",
            "2024-04-12 16:24:06.743306: I external/local_tsl/tsl/framework/bfc_allocator.cc:1095] InUse at 7f684843cb00 of size 3072 next 538\n",
            "2024-04-12 16:24:06.743313: I external/local_tsl/tsl/framework/bfc_allocator.cc:1095] InUse at 7f684843d700 of size 3072 next 539\n",
            "2024-04-12 16:24:06.743320: I external/local_tsl/tsl/framework/bfc_allocator.cc:1095] InUse at 7f684843e300 of size 3072 next 540\n",
            "2024-04-12 16:24:06.743327: I external/local_tsl/tsl/framework/bfc_allocator.cc:1095] InUse at 7f684843ef00 of size 12288 next 543\n",
            "2024-04-12 16:24:06.743334: I external/local_tsl/tsl/framework/bfc_allocator.cc:1095] InUse at 7f6848441f00 of size 12288 next 544\n",
            "2024-04-12 16:24:06.743340: I external/local_tsl/tsl/framework/bfc_allocator.cc:1095] InUse at 7f6848444f00 of size 3072 next 547\n",
            "2024-04-12 16:24:06.743347: I external/local_tsl/tsl/framework/bfc_allocator.cc:1095] InUse at 7f6848445b00 of size 3072 next 548\n",
            "2024-04-12 16:24:06.743354: I external/local_tsl/tsl/framework/bfc_allocator.cc:1095] InUse at 7f6848446700 of size 3072 next 549\n",
            "2024-04-12 16:24:06.743361: I external/local_tsl/tsl/framework/bfc_allocator.cc:1095] InUse at 7f6848447300 of size 3072 next 550\n",
            "2024-04-12 16:24:06.743368: I external/local_tsl/tsl/framework/bfc_allocator.cc:1095] InUse at 7f6848447f00 of size 3072 next 551\n",
            "2024-04-12 16:24:06.743375: I external/local_tsl/tsl/framework/bfc_allocator.cc:1095] InUse at 7f6848448b00 of size 3072 next 552\n",
            "2024-04-12 16:24:06.743382: I external/local_tsl/tsl/framework/bfc_allocator.cc:1095] InUse at 7f6848449700 of size 3072 next 555\n",
            "2024-04-12 16:24:06.743389: I external/local_tsl/tsl/framework/bfc_allocator.cc:1095] InUse at 7f684844a300 of size 3072 next 556\n",
            "2024-04-12 16:24:06.743395: I external/local_tsl/tsl/framework/bfc_allocator.cc:1095] InUse at 7f684844af00 of size 3072 next 559\n",
            "2024-04-12 16:24:06.743402: I external/local_tsl/tsl/framework/bfc_allocator.cc:1095] InUse at 7f684844bb00 of size 3072 next 560\n",
            "2024-04-12 16:24:06.743411: I external/local_tsl/tsl/framework/bfc_allocator.cc:1095] InUse at 7f684844c700 of size 3072 next 563\n",
            "2024-04-12 16:24:06.743418: I external/local_tsl/tsl/framework/bfc_allocator.cc:1095] InUse at 7f684844d300 of size 3072 next 564\n",
            "2024-04-12 16:24:06.743424: I external/local_tsl/tsl/framework/bfc_allocator.cc:1095] InUse at 7f684844df00 of size 3072 next 567\n",
            "2024-04-12 16:24:06.743431: I external/local_tsl/tsl/framework/bfc_allocator.cc:1095] InUse at 7f684844eb00 of size 3072 next 568\n",
            "2024-04-12 16:24:06.743438: I external/local_tsl/tsl/framework/bfc_allocator.cc:1095] InUse at 7f684844f700 of size 3072 next 569\n",
            "2024-04-12 16:24:06.743445: I external/local_tsl/tsl/framework/bfc_allocator.cc:1095] InUse at 7f6848450300 of size 3072 next 570\n",
            "2024-04-12 16:24:06.743452: I external/local_tsl/tsl/framework/bfc_allocator.cc:1095] InUse at 7f6848450f00 of size 3072 next 571\n",
            "2024-04-12 16:24:06.743459: I external/local_tsl/tsl/framework/bfc_allocator.cc:1095] InUse at 7f6848451b00 of size 3072 next 572\n",
            "2024-04-12 16:24:06.743466: I external/local_tsl/tsl/framework/bfc_allocator.cc:1095] InUse at 7f6848452700 of size 12288 next 575\n",
            "2024-04-12 16:24:06.743473: I external/local_tsl/tsl/framework/bfc_allocator.cc:1095] InUse at 7f6848455700 of size 12288 next 576\n",
            "2024-04-12 16:24:06.743479: I external/local_tsl/tsl/framework/bfc_allocator.cc:1095] InUse at 7f6848458700 of size 3072 next 579\n",
            "2024-04-12 16:24:06.743486: I external/local_tsl/tsl/framework/bfc_allocator.cc:1095] InUse at 7f6848459300 of size 3072 next 580\n",
            "2024-04-12 16:24:06.743493: I external/local_tsl/tsl/framework/bfc_allocator.cc:1095] InUse at 7f6848459f00 of size 3072 next 581\n",
            "2024-04-12 16:24:06.743500: I external/local_tsl/tsl/framework/bfc_allocator.cc:1095] InUse at 7f684845ab00 of size 3072 next 582\n",
            "2024-04-12 16:24:06.743507: I external/local_tsl/tsl/framework/bfc_allocator.cc:1095] InUse at 7f684845b700 of size 3072 next 583\n",
            "2024-04-12 16:24:06.743514: I external/local_tsl/tsl/framework/bfc_allocator.cc:1095] InUse at 7f684845c300 of size 3072 next 584\n",
            "2024-04-12 16:24:06.743521: I external/local_tsl/tsl/framework/bfc_allocator.cc:1095] InUse at 7f684845cf00 of size 3072 next 587\n",
            "2024-04-12 16:24:06.743527: I external/local_tsl/tsl/framework/bfc_allocator.cc:1095] InUse at 7f684845db00 of size 3072 next 588\n",
            "2024-04-12 16:24:06.743534: I external/local_tsl/tsl/framework/bfc_allocator.cc:1095] InUse at 7f684845e700 of size 3072 next 591\n",
            "2024-04-12 16:24:06.743541: I external/local_tsl/tsl/framework/bfc_allocator.cc:1095] InUse at 7f684845f300 of size 3072 next 592\n",
            "2024-04-12 16:24:06.743548: I external/local_tsl/tsl/framework/bfc_allocator.cc:1095] InUse at 7f684845ff00 of size 3072 next 595\n",
            "2024-04-12 16:24:06.743555: I external/local_tsl/tsl/framework/bfc_allocator.cc:1095] InUse at 7f6848460b00 of size 3072 next 596\n",
            "2024-04-12 16:24:06.743562: I external/local_tsl/tsl/framework/bfc_allocator.cc:1095] InUse at 7f6848461700 of size 3072 next 599\n",
            "2024-04-12 16:24:06.743569: I external/local_tsl/tsl/framework/bfc_allocator.cc:1095] InUse at 7f6848462300 of size 3072 next 600\n",
            "2024-04-12 16:24:06.743575: I external/local_tsl/tsl/framework/bfc_allocator.cc:1095] InUse at 7f6848462f00 of size 3072 next 601\n",
            "2024-04-12 16:24:06.743582: I external/local_tsl/tsl/framework/bfc_allocator.cc:1095] InUse at 7f6848463b00 of size 3072 next 602\n",
            "2024-04-12 16:24:06.743589: I external/local_tsl/tsl/framework/bfc_allocator.cc:1095] InUse at 7f6848464700 of size 3072 next 603\n",
            "2024-04-12 16:24:06.743596: I external/local_tsl/tsl/framework/bfc_allocator.cc:1095] InUse at 7f6848465300 of size 3072 next 604\n",
            "2024-04-12 16:24:06.743603: I external/local_tsl/tsl/framework/bfc_allocator.cc:1095] InUse at 7f6848465f00 of size 12288 next 607\n",
            "2024-04-12 16:24:06.743610: I external/local_tsl/tsl/framework/bfc_allocator.cc:1095] InUse at 7f6848468f00 of size 12288 next 608\n",
            "2024-04-12 16:24:06.743617: I external/local_tsl/tsl/framework/bfc_allocator.cc:1095] InUse at 7f684846bf00 of size 3072 next 611\n",
            "2024-04-12 16:24:06.743625: I external/local_tsl/tsl/framework/bfc_allocator.cc:1095] InUse at 7f684846cb00 of size 3072 next 612\n",
            "2024-04-12 16:24:06.743632: I external/local_tsl/tsl/framework/bfc_allocator.cc:1095] InUse at 7f684846d700 of size 3072 next 613\n",
            "2024-04-12 16:24:06.743639: I external/local_tsl/tsl/framework/bfc_allocator.cc:1095] InUse at 7f684846e300 of size 3072 next 614\n",
            "2024-04-12 16:24:06.743646: I external/local_tsl/tsl/framework/bfc_allocator.cc:1095] InUse at 7f684846ef00 of size 3072 next 615\n",
            "2024-04-12 16:24:06.743653: I external/local_tsl/tsl/framework/bfc_allocator.cc:1095] InUse at 7f684846fb00 of size 3072 next 616\n",
            "2024-04-12 16:24:06.743659: I external/local_tsl/tsl/framework/bfc_allocator.cc:1095] InUse at 7f6848470700 of size 3072 next 619\n",
            "2024-04-12 16:24:06.743666: I external/local_tsl/tsl/framework/bfc_allocator.cc:1095] InUse at 7f6848471300 of size 3072 next 620\n",
            "2024-04-12 16:24:06.743673: I external/local_tsl/tsl/framework/bfc_allocator.cc:1095] InUse at 7f6848471f00 of size 30720 next 621\n",
            "2024-04-12 16:24:06.743680: I external/local_tsl/tsl/framework/bfc_allocator.cc:1095] InUse at 7f6848479700 of size 30720 next 622\n",
            "2024-04-12 16:24:06.743687: I external/local_tsl/tsl/framework/bfc_allocator.cc:1095] InUse at 7f6848480f00 of size 256 next 623\n",
            "2024-04-12 16:24:06.743694: I external/local_tsl/tsl/framework/bfc_allocator.cc:1095] InUse at 7f6848481000 of size 256 next 624\n",
            "2024-04-12 16:24:06.743701: I external/local_tsl/tsl/framework/bfc_allocator.cc:1095] InUse at 7f6848481100 of size 256 next 625\n",
            "2024-04-12 16:24:06.743708: I external/local_tsl/tsl/framework/bfc_allocator.cc:1095] InUse at 7f6848481200 of size 256 next 626\n",
            "2024-04-12 16:24:06.743715: I external/local_tsl/tsl/framework/bfc_allocator.cc:1095] InUse at 7f6848481300 of size 256 next 627\n",
            "2024-04-12 16:24:06.743721: I external/local_tsl/tsl/framework/bfc_allocator.cc:1095] InUse at 7f6848481400 of size 256 next 628\n",
            "2024-04-12 16:24:06.743728: I external/local_tsl/tsl/framework/bfc_allocator.cc:1095] InUse at 7f6848481500 of size 256 next 629\n",
            "2024-04-12 16:24:06.743735: I external/local_tsl/tsl/framework/bfc_allocator.cc:1095] InUse at 7f6848481600 of size 256 next 630\n",
            "2024-04-12 16:24:06.743742: I external/local_tsl/tsl/framework/bfc_allocator.cc:1095] InUse at 7f6848481700 of size 256 next 631\n",
            "2024-04-12 16:24:06.743749: I external/local_tsl/tsl/framework/bfc_allocator.cc:1095] InUse at 7f6848481800 of size 256 next 632\n",
            "2024-04-12 16:24:06.743756: I external/local_tsl/tsl/framework/bfc_allocator.cc:1095] InUse at 7f6848481900 of size 256 next 633\n",
            "2024-04-12 16:24:06.743763: I external/local_tsl/tsl/framework/bfc_allocator.cc:1095] InUse at 7f6848481a00 of size 256 next 634\n",
            "2024-04-12 16:24:06.743769: I external/local_tsl/tsl/framework/bfc_allocator.cc:1095] InUse at 7f6848481b00 of size 256 next 635\n",
            "2024-04-12 16:24:06.743776: I external/local_tsl/tsl/framework/bfc_allocator.cc:1095] InUse at 7f6848481c00 of size 256 next 636\n",
            "2024-04-12 16:24:06.743783: I external/local_tsl/tsl/framework/bfc_allocator.cc:1095] InUse at 7f6848481d00 of size 256 next 637\n",
            "2024-04-12 16:24:06.743790: I external/local_tsl/tsl/framework/bfc_allocator.cc:1095] InUse at 7f6848481e00 of size 256 next 638\n",
            "2024-04-12 16:24:06.743797: I external/local_tsl/tsl/framework/bfc_allocator.cc:1095] InUse at 7f6848481f00 of size 256 next 639\n",
            "2024-04-12 16:24:06.743804: I external/local_tsl/tsl/framework/bfc_allocator.cc:1095] InUse at 7f6848482000 of size 256 next 640\n",
            "2024-04-12 16:24:06.743811: I external/local_tsl/tsl/framework/bfc_allocator.cc:1095] InUse at 7f6848482100 of size 256 next 641\n",
            "2024-04-12 16:24:06.743817: I external/local_tsl/tsl/framework/bfc_allocator.cc:1095] InUse at 7f6848482200 of size 256 next 642\n",
            "2024-04-12 16:24:06.743824: I external/local_tsl/tsl/framework/bfc_allocator.cc:1095] InUse at 7f6848482300 of size 256 next 643\n",
            "2024-04-12 16:24:06.743831: I external/local_tsl/tsl/framework/bfc_allocator.cc:1095] InUse at 7f6848482400 of size 256 next 644\n",
            "2024-04-12 16:24:06.743839: I external/local_tsl/tsl/framework/bfc_allocator.cc:1095] InUse at 7f6848482500 of size 256 next 645\n",
            "2024-04-12 16:24:06.743846: I external/local_tsl/tsl/framework/bfc_allocator.cc:1095] InUse at 7f6848482600 of size 256 next 646\n",
            "2024-04-12 16:24:06.743853: I external/local_tsl/tsl/framework/bfc_allocator.cc:1095] InUse at 7f6848482700 of size 256 next 647\n",
            "2024-04-12 16:24:06.743860: I external/local_tsl/tsl/framework/bfc_allocator.cc:1095] InUse at 7f6848482800 of size 256 next 648\n",
            "2024-04-12 16:24:06.743867: I external/local_tsl/tsl/framework/bfc_allocator.cc:1095] InUse at 7f6848482900 of size 256 next 649\n",
            "2024-04-12 16:24:06.743874: I external/local_tsl/tsl/framework/bfc_allocator.cc:1095] InUse at 7f6848482a00 of size 256 next 650\n",
            "2024-04-12 16:24:06.743881: I external/local_tsl/tsl/framework/bfc_allocator.cc:1095] InUse at 7f6848482b00 of size 256 next 651\n",
            "2024-04-12 16:24:06.743888: I external/local_tsl/tsl/framework/bfc_allocator.cc:1095] InUse at 7f6848482c00 of size 256 next 652\n",
            "2024-04-12 16:24:06.743895: I external/local_tsl/tsl/framework/bfc_allocator.cc:1095] InUse at 7f6848482d00 of size 256 next 653\n",
            "2024-04-12 16:24:06.743902: I external/local_tsl/tsl/framework/bfc_allocator.cc:1095] InUse at 7f6848482e00 of size 256 next 654\n",
            "2024-04-12 16:24:06.743908: I external/local_tsl/tsl/framework/bfc_allocator.cc:1095] InUse at 7f6848482f00 of size 256 next 655\n",
            "2024-04-12 16:24:06.743915: I external/local_tsl/tsl/framework/bfc_allocator.cc:1095] InUse at 7f6848483000 of size 256 next 656\n",
            "2024-04-12 16:24:06.743922: I external/local_tsl/tsl/framework/bfc_allocator.cc:1095] InUse at 7f6848483100 of size 256 next 657\n",
            "2024-04-12 16:24:06.743929: I external/local_tsl/tsl/framework/bfc_allocator.cc:1095] InUse at 7f6848483200 of size 256 next 658\n",
            "2024-04-12 16:24:06.743936: I external/local_tsl/tsl/framework/bfc_allocator.cc:1095] InUse at 7f6848483300 of size 256 next 659\n",
            "2024-04-12 16:24:06.743943: I external/local_tsl/tsl/framework/bfc_allocator.cc:1095] InUse at 7f6848483400 of size 256 next 660\n",
            "2024-04-12 16:24:06.743950: I external/local_tsl/tsl/framework/bfc_allocator.cc:1095] InUse at 7f6848483500 of size 256 next 661\n",
            "2024-04-12 16:24:06.743957: I external/local_tsl/tsl/framework/bfc_allocator.cc:1095] InUse at 7f6848483600 of size 256 next 662\n",
            "2024-04-12 16:24:06.743963: I external/local_tsl/tsl/framework/bfc_allocator.cc:1095] InUse at 7f6848483700 of size 256 next 663\n",
            "2024-04-12 16:24:06.743970: I external/local_tsl/tsl/framework/bfc_allocator.cc:1095] InUse at 7f6848483800 of size 256 next 664\n",
            "2024-04-12 16:24:06.743977: I external/local_tsl/tsl/framework/bfc_allocator.cc:1095] InUse at 7f6848483900 of size 115456 next 670\n",
            "2024-04-12 16:24:06.743984: I external/local_tsl/tsl/framework/bfc_allocator.cc:1095] InUse at 7f684849fc00 of size 256 next 671\n",
            "2024-04-12 16:24:06.743991: I external/local_tsl/tsl/framework/bfc_allocator.cc:1095] InUse at 7f684849fd00 of size 115456 next 665\n",
            "2024-04-12 16:24:06.743998: I external/local_tsl/tsl/framework/bfc_allocator.cc:1095] InUse at 7f68484bc000 of size 115456 next 680\n",
            "2024-04-12 16:24:06.744006: I external/local_tsl/tsl/framework/bfc_allocator.cc:1095] InUse at 7f68484d8300 of size 135936 next 209\n",
            "2024-04-12 16:24:06.744026: I external/local_tsl/tsl/framework/bfc_allocator.cc:1095] InUse at 7f68484f9600 of size 6144 next 8\n",
            "2024-04-12 16:24:06.744034: I external/local_tsl/tsl/framework/bfc_allocator.cc:1095] InUse at 7f68484fae00 of size 1876992 next 17\n",
            "2024-04-12 16:24:06.744041: I external/local_tsl/tsl/framework/bfc_allocator.cc:1095] InUse at 7f68486c5200 of size 2359296 next 18\n",
            "2024-04-12 16:24:06.744048: I external/local_tsl/tsl/framework/bfc_allocator.cc:1095] InUse at 7f6848905200 of size 2359296 next 20\n",
            "2024-04-12 16:24:06.744055: I external/local_tsl/tsl/framework/bfc_allocator.cc:1095] InUse at 7f6848b45200 of size 2359296 next 21\n",
            "2024-04-12 16:24:06.744062: I external/local_tsl/tsl/framework/bfc_allocator.cc:1095] InUse at 7f6848d85200 of size 2359296 next 22\n",
            "2024-04-12 16:24:06.744070: I external/local_tsl/tsl/framework/bfc_allocator.cc:1095] InUse at 7f6848fc5200 of size 2359296 next 24\n",
            "2024-04-12 16:24:06.744077: I external/local_tsl/tsl/framework/bfc_allocator.cc:1095] InUse at 7f6849205200 of size 2359296 next 35\n",
            "2024-04-12 16:24:06.744084: I external/local_tsl/tsl/framework/bfc_allocator.cc:1095] InUse at 7f6849445200 of size 2359296 next 37\n",
            "2024-04-12 16:24:06.744091: I external/local_tsl/tsl/framework/bfc_allocator.cc:1095] InUse at 7f6849685200 of size 2359296 next 39\n",
            "2024-04-12 16:24:06.744098: I external/local_tsl/tsl/framework/bfc_allocator.cc:1095] InUse at 7f68498c5200 of size 2359296 next 41\n",
            "2024-04-12 16:24:06.744105: I external/local_tsl/tsl/framework/bfc_allocator.cc:1095] InUse at 7f6849b05200 of size 2359296 next 52\n",
            "2024-04-12 16:24:06.744112: I external/local_tsl/tsl/framework/bfc_allocator.cc:1095] InUse at 7f6849d45200 of size 2359296 next 54\n",
            "2024-04-12 16:24:06.744119: I external/local_tsl/tsl/framework/bfc_allocator.cc:1095] InUse at 7f6849f85200 of size 2359296 next 56\n",
            "2024-04-12 16:24:06.744126: I external/local_tsl/tsl/framework/bfc_allocator.cc:1095] InUse at 7f684a1c5200 of size 2359296 next 29\n",
            "2024-04-12 16:24:06.744133: I external/local_tsl/tsl/framework/bfc_allocator.cc:1095] InUse at 7f684a405200 of size 2359296 next 142\n",
            "2024-04-12 16:24:06.744140: I external/local_tsl/tsl/framework/bfc_allocator.cc:1095] InUse at 7f684a645200 of size 2359296 next 160\n",
            "2024-04-12 16:24:06.744147: I external/local_tsl/tsl/framework/bfc_allocator.cc:1095] InUse at 7f684a885200 of size 2359296 next 161\n",
            "2024-04-12 16:24:06.744154: I external/local_tsl/tsl/framework/bfc_allocator.cc:1095] InUse at 7f684aac5200 of size 2359296 next 40\n",
            "2024-04-12 16:24:06.744161: I external/local_tsl/tsl/framework/bfc_allocator.cc:1095] InUse at 7f684ad05200 of size 9437184 next 32\n",
            "2024-04-12 16:24:06.744168: I external/local_tsl/tsl/framework/bfc_allocator.cc:1095] InUse at 7f684b605200 of size 2359296 next 68\n",
            "2024-04-12 16:24:06.744174: I external/local_tsl/tsl/framework/bfc_allocator.cc:1095] InUse at 7f684b845200 of size 2359296 next 70\n",
            "2024-04-12 16:24:06.744181: I external/local_tsl/tsl/framework/bfc_allocator.cc:1095] InUse at 7f684ba85200 of size 2359296 next 72\n",
            "2024-04-12 16:24:06.744188: I external/local_tsl/tsl/framework/bfc_allocator.cc:1095] InUse at 7f684bcc5200 of size 2359296 next 45\n",
            "2024-04-12 16:24:06.744195: I external/local_tsl/tsl/framework/bfc_allocator.cc:1095] InUse at 7f684bf05200 of size 9437184 next 46\n",
            "2024-04-12 16:24:06.744202: I external/local_tsl/tsl/framework/bfc_allocator.cc:1095] InUse at 7f684c805200 of size 9437184 next 48\n",
            "2024-04-12 16:24:06.744209: I external/local_tsl/tsl/framework/bfc_allocator.cc:1095] InUse at 7f684d105200 of size 2359296 next 84\n",
            "2024-04-12 16:24:06.744216: I external/local_tsl/tsl/framework/bfc_allocator.cc:1095] InUse at 7f684d345200 of size 2359296 next 86\n",
            "2024-04-12 16:24:06.744223: I external/local_tsl/tsl/framework/bfc_allocator.cc:1095] InUse at 7f684d585200 of size 2359296 next 88\n",
            "2024-04-12 16:24:06.744230: I external/local_tsl/tsl/framework/bfc_allocator.cc:1095] InUse at 7f684d7c5200 of size 2359296 next 61\n",
            "2024-04-12 16:24:06.744237: I external/local_tsl/tsl/framework/bfc_allocator.cc:1095] InUse at 7f684da05200 of size 9437184 next 62\n",
            "2024-04-12 16:24:06.744244: I external/local_tsl/tsl/framework/bfc_allocator.cc:1095] InUse at 7f684e305200 of size 9437184 next 64\n",
            "2024-04-12 16:24:06.744250: I external/local_tsl/tsl/framework/bfc_allocator.cc:1095] InUse at 7f684ec05200 of size 2359296 next 100\n"
          ]
        },
        {
          "name": "stderr",
          "output_type": "stream",
          "text": [
            "2024-04-12 16:24:06.744257: I external/local_tsl/tsl/framework/bfc_allocator.cc:1095] InUse at 7f684ee45200 of size 2359296 next 102\n",
            "2024-04-12 16:24:06.744264: I external/local_tsl/tsl/framework/bfc_allocator.cc:1095] InUse at 7f684f085200 of size 2359296 next 104\n",
            "2024-04-12 16:24:06.744271: I external/local_tsl/tsl/framework/bfc_allocator.cc:1095] InUse at 7f684f2c5200 of size 2359296 next 77\n",
            "2024-04-12 16:24:06.744287: I external/local_tsl/tsl/framework/bfc_allocator.cc:1095] InUse at 7f684f505200 of size 9437184 next 78\n",
            "2024-04-12 16:24:06.744294: I external/local_tsl/tsl/framework/bfc_allocator.cc:1095] InUse at 7f684fe05200 of size 9437184 next 80\n",
            "2024-04-12 16:24:06.744301: I external/local_tsl/tsl/framework/bfc_allocator.cc:1095] InUse at 7f6850705200 of size 2359296 next 115\n",
            "2024-04-12 16:24:06.744308: I external/local_tsl/tsl/framework/bfc_allocator.cc:1095] InUse at 7f6850945200 of size 2359296 next 117\n",
            "2024-04-12 16:24:06.744315: I external/local_tsl/tsl/framework/bfc_allocator.cc:1095] InUse at 7f6850b85200 of size 2359296 next 119\n",
            "2024-04-12 16:24:06.744322: I external/local_tsl/tsl/framework/bfc_allocator.cc:1095] InUse at 7f6850dc5200 of size 2359296 next 93\n",
            "2024-04-12 16:24:06.744329: I external/local_tsl/tsl/framework/bfc_allocator.cc:1095] InUse at 7f6851005200 of size 9437184 next 94\n",
            "2024-04-12 16:24:06.744336: I external/local_tsl/tsl/framework/bfc_allocator.cc:1095] InUse at 7f6851905200 of size 9437184 next 96\n",
            "2024-04-12 16:24:06.744343: I external/local_tsl/tsl/framework/bfc_allocator.cc:1095] InUse at 7f6852205200 of size 9437184 next 23\n",
            "2024-04-12 16:24:06.744350: I external/local_tsl/tsl/framework/bfc_allocator.cc:1095] InUse at 7f6852b05200 of size 9437184 next 13\n",
            "2024-04-12 16:24:06.744357: I external/local_tsl/tsl/framework/bfc_allocator.cc:1095] InUse at 7f6853405200 of size 9437184 next 106\n",
            "2024-04-12 16:24:06.744363: I external/local_tsl/tsl/framework/bfc_allocator.cc:1095] InUse at 7f6853d05200 of size 9437184 next 120\n",
            "2024-04-12 16:24:06.744370: I external/local_tsl/tsl/framework/bfc_allocator.cc:1095] InUse at 7f6854605200 of size 9437184 next 152\n",
            "2024-04-12 16:24:06.744378: I external/local_tsl/tsl/framework/bfc_allocator.cc:1095] InUse at 7f6854f05200 of size 18105088 next 224\n",
            "2024-04-12 16:24:06.744385: I external/local_tsl/tsl/framework/bfc_allocator.cc:1095] InUse at 7f6856049500 of size 18105088 next 225\n",
            "2024-04-12 16:24:06.744391: I external/local_tsl/tsl/framework/bfc_allocator.cc:1095] InUse at 7f685718d800 of size 9437184 next 255\n",
            "2024-04-12 16:24:06.744398: I external/local_tsl/tsl/framework/bfc_allocator.cc:1095] InUse at 7f6857a8d800 of size 9437184 next 256\n",
            "2024-04-12 16:24:06.744405: I external/local_tsl/tsl/framework/bfc_allocator.cc:1095] InUse at 7f685838d800 of size 9437184 next 259\n",
            "2024-04-12 16:24:06.744412: I external/local_tsl/tsl/framework/bfc_allocator.cc:1095] InUse at 7f6858c8d800 of size 9437184 next 260\n",
            "2024-04-12 16:24:06.744419: I external/local_tsl/tsl/framework/bfc_allocator.cc:1095] InUse at 7f685958d800 of size 2359296 next 270\n",
            "2024-04-12 16:24:06.744426: I external/local_tsl/tsl/framework/bfc_allocator.cc:1095] InUse at 7f68597cd800 of size 2359296 next 271\n",
            "2024-04-12 16:24:06.744433: I external/local_tsl/tsl/framework/bfc_allocator.cc:1095] InUse at 7f6859a0d800 of size 2359296 next 274\n",
            "2024-04-12 16:24:06.744440: I external/local_tsl/tsl/framework/bfc_allocator.cc:1095] InUse at 7f6859c4d800 of size 2359296 next 275\n",
            "2024-04-12 16:24:06.744447: I external/local_tsl/tsl/framework/bfc_allocator.cc:1095] InUse at 7f6859e8d800 of size 2359296 next 278\n",
            "2024-04-12 16:24:06.744454: I external/local_tsl/tsl/framework/bfc_allocator.cc:1095] InUse at 7f685a0cd800 of size 2359296 next 279\n",
            "2024-04-12 16:24:06.744461: I external/local_tsl/tsl/framework/bfc_allocator.cc:1095] InUse at 7f685a30d800 of size 4413952 next 124\n",
            "2024-04-12 16:24:06.744468: I external/local_tsl/tsl/framework/bfc_allocator.cc:1095] InUse at 7f685a743200 of size 9437184 next 125\n",
            "2024-04-12 16:24:06.744474: I external/local_tsl/tsl/framework/bfc_allocator.cc:1095] InUse at 7f685b043200 of size 9437184 next 127\n",
            "2024-04-12 16:24:06.744481: I external/local_tsl/tsl/framework/bfc_allocator.cc:1095] InUse at 7f685b943200 of size 2359296 next 147\n",
            "2024-04-12 16:24:06.744488: I external/local_tsl/tsl/framework/bfc_allocator.cc:1095] InUse at 7f685bb83200 of size 2359296 next 149\n",
            "2024-04-12 16:24:06.744497: I external/local_tsl/tsl/framework/bfc_allocator.cc:1095] InUse at 7f685bdc3200 of size 2359296 next 151\n",
            "2024-04-12 16:24:06.744504: I external/local_tsl/tsl/framework/bfc_allocator.cc:1095] InUse at 7f685c003200 of size 2359296 next 140\n",
            "2024-04-12 16:24:06.744511: I external/local_tsl/tsl/framework/bfc_allocator.cc:1095] InUse at 7f685c243200 of size 9437184 next 141\n",
            "2024-04-12 16:24:06.744518: I external/local_tsl/tsl/framework/bfc_allocator.cc:1095] InUse at 7f685cb43200 of size 9437184 next 168\n",
            "2024-04-12 16:24:06.744525: I external/local_tsl/tsl/framework/bfc_allocator.cc:1095] InUse at 7f685d443200 of size 2359296 next 174\n",
            "2024-04-12 16:24:06.744532: I external/local_tsl/tsl/framework/bfc_allocator.cc:1095] InUse at 7f685d683200 of size 2359296 next 190\n",
            "2024-04-12 16:24:06.744538: I external/local_tsl/tsl/framework/bfc_allocator.cc:1095] InUse at 7f685d8c3200 of size 2359296 next 238\n",
            "2024-04-12 16:24:06.744545: I external/local_tsl/tsl/framework/bfc_allocator.cc:1095] InUse at 7f685db03200 of size 2359296 next 156\n",
            "2024-04-12 16:24:06.744552: I external/local_tsl/tsl/framework/bfc_allocator.cc:1095] InUse at 7f685dd43200 of size 9437184 next 157\n",
            "2024-04-12 16:24:06.744559: I external/local_tsl/tsl/framework/bfc_allocator.cc:1095] InUse at 7f685e643200 of size 9437184 next 159\n",
            "2024-04-12 16:24:06.744566: I external/local_tsl/tsl/framework/bfc_allocator.cc:1095] InUse at 7f685ef43200 of size 2359296 next 179\n",
            "2024-04-12 16:24:06.744573: I external/local_tsl/tsl/framework/bfc_allocator.cc:1095] InUse at 7f685f183200 of size 2359296 next 181\n",
            "2024-04-12 16:24:06.744580: I external/local_tsl/tsl/framework/bfc_allocator.cc:1095] InUse at 7f685f3c3200 of size 2359296 next 183\n",
            "2024-04-12 16:24:06.744587: I external/local_tsl/tsl/framework/bfc_allocator.cc:1095] InUse at 7f685f603200 of size 2359296 next 241\n",
            "2024-04-12 16:24:06.744594: I external/local_tsl/tsl/framework/bfc_allocator.cc:1095] InUse at 7f685f843200 of size 2359296 next 242\n",
            "2024-04-12 16:24:06.744601: I external/local_tsl/tsl/framework/bfc_allocator.cc:1095] InUse at 7f685fa83200 of size 2359296 next 245\n",
            "2024-04-12 16:24:06.744608: I external/local_tsl/tsl/framework/bfc_allocator.cc:1095] InUse at 7f685fcc3200 of size 2359296 next 184\n",
            "2024-04-12 16:24:06.744615: I external/local_tsl/tsl/framework/bfc_allocator.cc:1095] InUse at 7f685ff03200 of size 11796480 next 175\n",
            "2024-04-12 16:24:06.744622: I external/local_tsl/tsl/framework/bfc_allocator.cc:1095] InUse at 7f6860a43200 of size 2359296 next 195\n",
            "2024-04-12 16:24:06.744629: I external/local_tsl/tsl/framework/bfc_allocator.cc:1095] InUse at 7f6860c83200 of size 2359296 next 197\n",
            "2024-04-12 16:24:06.744635: I external/local_tsl/tsl/framework/bfc_allocator.cc:1095] InUse at 7f6860ec3200 of size 2359296 next 199\n",
            "2024-04-12 16:24:06.744642: I external/local_tsl/tsl/framework/bfc_allocator.cc:1095] InUse at 7f6861103200 of size 2359296 next 188\n",
            "2024-04-12 16:24:06.744649: I external/local_tsl/tsl/framework/bfc_allocator.cc:1095] InUse at 7f6861343200 of size 9437184 next 189\n",
            "2024-04-12 16:24:06.744656: I external/local_tsl/tsl/framework/bfc_allocator.cc:1095] InUse at 7f6861c43200 of size 9437184 next 191\n",
            "2024-04-12 16:24:06.744663: I external/local_tsl/tsl/framework/bfc_allocator.cc:1095] InUse at 7f6862543200 of size 2359296 next 211\n",
            "2024-04-12 16:24:06.744670: I external/local_tsl/tsl/framework/bfc_allocator.cc:1095] InUse at 7f6862783200 of size 2359296 next 128\n",
            "2024-04-12 16:24:06.744677: I external/local_tsl/tsl/framework/bfc_allocator.cc:1095] InUse at 7f68629c3200 of size 2359296 next 129\n",
            "2024-04-12 16:24:06.744684: I external/local_tsl/tsl/framework/bfc_allocator.cc:1095] InUse at 7f6862c03200 of size 2359296 next 204\n",
            "2024-04-12 16:24:06.744691: I external/local_tsl/tsl/framework/bfc_allocator.cc:1095] InUse at 7f6862e43200 of size 9437184 next 205\n",
            "2024-04-12 16:24:06.744698: I external/local_tsl/tsl/framework/bfc_allocator.cc:1095] InUse at 7f6863743200 of size 2359296 next 248\n",
            "2024-04-12 16:24:06.744706: I external/local_tsl/tsl/framework/bfc_allocator.cc:1095] InUse at 7f6863983200 of size 2359296 next 249\n",
            "2024-04-12 16:24:06.744713: I external/local_tsl/tsl/framework/bfc_allocator.cc:1095] InUse at 7f6863bc3200 of size 2359296 next 267\n",
            "2024-04-12 16:24:06.744720: I external/local_tsl/tsl/framework/bfc_allocator.cc:1095] InUse at 7f6863e03200 of size 2359296 next 207\n",
            "2024-04-12 16:24:06.744727: I external/local_tsl/tsl/framework/bfc_allocator.cc:1095] InUse at 7f6864043200 of size 93763584 next 210\n",
            "2024-04-12 16:24:06.744734: I external/local_tsl/tsl/framework/bfc_allocator.cc:1095] InUse at 7f68699aea00 of size 90524928 next 226\n",
            "2024-04-12 16:24:06.744741: I external/local_tsl/tsl/framework/bfc_allocator.cc:1095] InUse at 7f686f003700 of size 93763584 next 230\n",
            "2024-04-12 16:24:06.744748: I external/local_tsl/tsl/framework/bfc_allocator.cc:1095] InUse at 7f687496ef00 of size 93763584 next 231\n",
            "2024-04-12 16:24:06.744755: I external/local_tsl/tsl/framework/bfc_allocator.cc:1095] InUse at 7f687a2da700 of size 9437184 next 286\n",
            "2024-04-12 16:24:06.744762: I external/local_tsl/tsl/framework/bfc_allocator.cc:1095] InUse at 7f687abda700 of size 9437184 next 287\n",
            "2024-04-12 16:24:06.744769: I external/local_tsl/tsl/framework/bfc_allocator.cc:1095] InUse at 7f687b4da700 of size 9437184 next 290\n",
            "2024-04-12 16:24:06.744776: I external/local_tsl/tsl/framework/bfc_allocator.cc:1095] InUse at 7f687bdda700 of size 9437184 next 291\n",
            "2024-04-12 16:24:06.744782: I external/local_tsl/tsl/framework/bfc_allocator.cc:1095] InUse at 7f687c6da700 of size 2359296 next 298\n",
            "2024-04-12 16:24:06.744789: I external/local_tsl/tsl/framework/bfc_allocator.cc:1095] InUse at 7f687c91a700 of size 2359296 next 301\n",
            "2024-04-12 16:24:06.744796: I external/local_tsl/tsl/framework/bfc_allocator.cc:1095] InUse at 7f687cb5a700 of size 2359296 next 302\n",
            "2024-04-12 16:24:06.744803: I external/local_tsl/tsl/framework/bfc_allocator.cc:1095] InUse at 7f687cd9a700 of size 2359296 next 305\n",
            "2024-04-12 16:24:06.744810: I external/local_tsl/tsl/framework/bfc_allocator.cc:1095] InUse at 7f687cfda700 of size 2359296 next 306\n",
            "2024-04-12 16:24:06.744817: I external/local_tsl/tsl/framework/bfc_allocator.cc:1095] InUse at 7f687d21a700 of size 2359296 next 309\n",
            "2024-04-12 16:24:06.744824: I external/local_tsl/tsl/framework/bfc_allocator.cc:1095] InUse at 7f687d45a700 of size 2359296 next 310\n",
            "2024-04-12 16:24:06.744831: I external/local_tsl/tsl/framework/bfc_allocator.cc:1095] InUse at 7f687d69a700 of size 9437184 next 317\n",
            "2024-04-12 16:24:06.744837: I external/local_tsl/tsl/framework/bfc_allocator.cc:1095] InUse at 7f687df9a700 of size 9437184 next 318\n",
            "2024-04-12 16:24:06.744844: I external/local_tsl/tsl/framework/bfc_allocator.cc:1095] InUse at 7f687e89a700 of size 9437184 next 321\n",
            "2024-04-12 16:24:06.744851: I external/local_tsl/tsl/framework/bfc_allocator.cc:1095] InUse at 7f687f19a700 of size 9437184 next 322\n",
            "2024-04-12 16:24:06.744858: I external/local_tsl/tsl/framework/bfc_allocator.cc:1095] InUse at 7f687fa9a700 of size 2359296 next 329\n",
            "2024-04-12 16:24:06.744865: I external/local_tsl/tsl/framework/bfc_allocator.cc:1095] InUse at 7f687fcda700 of size 2359296 next 330\n",
            "2024-04-12 16:24:06.744872: I external/local_tsl/tsl/framework/bfc_allocator.cc:1095] InUse at 7f687ff1a700 of size 2359296 next 333\n",
            "2024-04-12 16:24:06.744879: I external/local_tsl/tsl/framework/bfc_allocator.cc:1095] InUse at 7f688015a700 of size 2359296 next 334\n",
            "2024-04-12 16:24:06.744886: I external/local_tsl/tsl/framework/bfc_allocator.cc:1095] InUse at 7f688039a700 of size 2359296 next 337\n",
            "2024-04-12 16:24:06.744893: I external/local_tsl/tsl/framework/bfc_allocator.cc:1095] InUse at 7f68805da700 of size 2359296 next 338\n",
            "2024-04-12 16:24:06.744899: I external/local_tsl/tsl/framework/bfc_allocator.cc:1095] InUse at 7f688081a700 of size 2359296 next 341\n",
            "2024-04-12 16:24:06.744906: I external/local_tsl/tsl/framework/bfc_allocator.cc:1095] InUse at 7f6880a5a700 of size 2359296 next 342\n",
            "2024-04-12 16:24:06.744915: I external/local_tsl/tsl/framework/bfc_allocator.cc:1095] InUse at 7f6880c9a700 of size 9437184 next 349\n",
            "2024-04-12 16:24:06.744922: I external/local_tsl/tsl/framework/bfc_allocator.cc:1095] InUse at 7f688159a700 of size 9437184 next 350\n",
            "2024-04-12 16:24:06.744929: I external/local_tsl/tsl/framework/bfc_allocator.cc:1095] InUse at 7f6881e9a700 of size 9437184 next 353\n",
            "2024-04-12 16:24:06.744936: I external/local_tsl/tsl/framework/bfc_allocator.cc:1095] InUse at 7f688279a700 of size 9437184 next 354\n",
            "2024-04-12 16:24:06.744942: I external/local_tsl/tsl/framework/bfc_allocator.cc:1095] InUse at 7f688309a700 of size 2359296 next 361\n",
            "2024-04-12 16:24:06.744949: I external/local_tsl/tsl/framework/bfc_allocator.cc:1095] InUse at 7f68832da700 of size 2359296 next 362\n",
            "2024-04-12 16:24:06.744956: I external/local_tsl/tsl/framework/bfc_allocator.cc:1095] InUse at 7f688351a700 of size 2359296 next 365\n",
            "2024-04-12 16:24:06.744963: I external/local_tsl/tsl/framework/bfc_allocator.cc:1095] InUse at 7f688375a700 of size 2359296 next 366\n",
            "2024-04-12 16:24:06.744970: I external/local_tsl/tsl/framework/bfc_allocator.cc:1095] InUse at 7f688399a700 of size 2359296 next 369\n",
            "2024-04-12 16:24:06.744977: I external/local_tsl/tsl/framework/bfc_allocator.cc:1095] InUse at 7f6883bda700 of size 2359296 next 370\n",
            "2024-04-12 16:24:06.744984: I external/local_tsl/tsl/framework/bfc_allocator.cc:1095] InUse at 7f6883e1a700 of size 2359296 next 373\n",
            "2024-04-12 16:24:06.744991: I external/local_tsl/tsl/framework/bfc_allocator.cc:1095] InUse at 7f688405a700 of size 2359296 next 374\n",
            "2024-04-12 16:24:06.744998: I external/local_tsl/tsl/framework/bfc_allocator.cc:1095] InUse at 7f688429a700 of size 9437184 next 381\n",
            "2024-04-12 16:24:06.745004: I external/local_tsl/tsl/framework/bfc_allocator.cc:1095] InUse at 7f6884b9a700 of size 9437184 next 382\n",
            "2024-04-12 16:24:06.745011: I external/local_tsl/tsl/framework/bfc_allocator.cc:1095] InUse at 7f688549a700 of size 9437184 next 385\n",
            "2024-04-12 16:24:06.745018: I external/local_tsl/tsl/framework/bfc_allocator.cc:1095] InUse at 7f6885d9a700 of size 9437184 next 386\n",
            "2024-04-12 16:24:06.745025: I external/local_tsl/tsl/framework/bfc_allocator.cc:1095] InUse at 7f688669a700 of size 2359296 next 393\n",
            "2024-04-12 16:24:06.745032: I external/local_tsl/tsl/framework/bfc_allocator.cc:1095] InUse at 7f68868da700 of size 2359296 next 394\n",
            "2024-04-12 16:24:06.745039: I external/local_tsl/tsl/framework/bfc_allocator.cc:1095] InUse at 7f6886b1a700 of size 2359296 next 397\n",
            "2024-04-12 16:24:06.745046: I external/local_tsl/tsl/framework/bfc_allocator.cc:1095] InUse at 7f6886d5a700 of size 2359296 next 398\n",
            "2024-04-12 16:24:06.745053: I external/local_tsl/tsl/framework/bfc_allocator.cc:1095] InUse at 7f6886f9a700 of size 2359296 next 401\n",
            "2024-04-12 16:24:06.745061: I external/local_tsl/tsl/framework/bfc_allocator.cc:1095] InUse at 7f68871da700 of size 2359296 next 402\n",
            "2024-04-12 16:24:06.745068: I external/local_tsl/tsl/framework/bfc_allocator.cc:1095] InUse at 7f688741a700 of size 2359296 next 405\n",
            "2024-04-12 16:24:06.745076: I external/local_tsl/tsl/framework/bfc_allocator.cc:1095] InUse at 7f688765a700 of size 2359296 next 406\n",
            "2024-04-12 16:24:06.745084: I external/local_tsl/tsl/framework/bfc_allocator.cc:1095] InUse at 7f688789a700 of size 9437184 next 413\n",
            "2024-04-12 16:24:06.745092: I external/local_tsl/tsl/framework/bfc_allocator.cc:1095] InUse at 7f688819a700 of size 9437184 next 414\n",
            "2024-04-12 16:24:06.745099: I external/local_tsl/tsl/framework/bfc_allocator.cc:1095] InUse at 7f6888a9a700 of size 9437184 next 417\n",
            "2024-04-12 16:24:06.745107: I external/local_tsl/tsl/framework/bfc_allocator.cc:1095] InUse at 7f688939a700 of size 9437184 next 418\n",
            "2024-04-12 16:24:06.745115: I external/local_tsl/tsl/framework/bfc_allocator.cc:1095] InUse at 7f6889c9a700 of size 2359296 next 425\n",
            "2024-04-12 16:24:06.745122: I external/local_tsl/tsl/framework/bfc_allocator.cc:1095] InUse at 7f6889eda700 of size 2359296 next 426\n",
            "2024-04-12 16:24:06.745132: I external/local_tsl/tsl/framework/bfc_allocator.cc:1095] InUse at 7f688a11a700 of size 2359296 next 429\n",
            "2024-04-12 16:24:06.745140: I external/local_tsl/tsl/framework/bfc_allocator.cc:1095] InUse at 7f688a35a700 of size 2359296 next 430\n",
            "2024-04-12 16:24:06.745147: I external/local_tsl/tsl/framework/bfc_allocator.cc:1095] InUse at 7f688a59a700 of size 2359296 next 433\n",
            "2024-04-12 16:24:06.745155: I external/local_tsl/tsl/framework/bfc_allocator.cc:1095] InUse at 7f688a7da700 of size 2359296 next 434\n",
            "2024-04-12 16:24:06.745163: I external/local_tsl/tsl/framework/bfc_allocator.cc:1095] InUse at 7f688aa1a700 of size 2359296 next 437\n",
            "2024-04-12 16:24:06.745170: I external/local_tsl/tsl/framework/bfc_allocator.cc:1095] InUse at 7f688ac5a700 of size 2359296 next 438\n",
            "2024-04-12 16:24:06.745178: I external/local_tsl/tsl/framework/bfc_allocator.cc:1095] InUse at 7f688ae9a700 of size 9437184 next 445\n",
            "2024-04-12 16:24:06.745186: I external/local_tsl/tsl/framework/bfc_allocator.cc:1095] InUse at 7f688b79a700 of size 9437184 next 446\n",
            "2024-04-12 16:24:06.745194: I external/local_tsl/tsl/framework/bfc_allocator.cc:1095] InUse at 7f688c09a700 of size 9437184 next 449\n",
            "2024-04-12 16:24:06.745210: I external/local_tsl/tsl/framework/bfc_allocator.cc:1095] InUse at 7f688c99a700 of size 9437184 next 450\n",
            "2024-04-12 16:24:06.745219: I external/local_tsl/tsl/framework/bfc_allocator.cc:1095] InUse at 7f688d29a700 of size 2359296 next 457\n",
            "2024-04-12 16:24:06.745227: I external/local_tsl/tsl/framework/bfc_allocator.cc:1095] InUse at 7f688d4da700 of size 2359296 next 458\n",
            "2024-04-12 16:24:06.745234: I external/local_tsl/tsl/framework/bfc_allocator.cc:1095] InUse at 7f688d71a700 of size 2359296 next 461\n",
            "2024-04-12 16:24:06.745241: I external/local_tsl/tsl/framework/bfc_allocator.cc:1095] InUse at 7f688d95a700 of size 2359296 next 462\n",
            "2024-04-12 16:24:06.745247: I external/local_tsl/tsl/framework/bfc_allocator.cc:1095] InUse at 7f688db9a700 of size 2359296 next 465\n",
            "2024-04-12 16:24:06.745253: I external/local_tsl/tsl/framework/bfc_allocator.cc:1095] InUse at 7f688ddda700 of size 2359296 next 466\n",
            "2024-04-12 16:24:06.745259: I external/local_tsl/tsl/framework/bfc_allocator.cc:1095] InUse at 7f688e01a700 of size 2359296 next 469\n",
            "2024-04-12 16:24:06.745265: I external/local_tsl/tsl/framework/bfc_allocator.cc:1095] InUse at 7f688e25a700 of size 2359296 next 470\n",
            "2024-04-12 16:24:06.745271: I external/local_tsl/tsl/framework/bfc_allocator.cc:1095] InUse at 7f688e49a700 of size 9437184 next 477\n",
            "2024-04-12 16:24:06.745278: I external/local_tsl/tsl/framework/bfc_allocator.cc:1095] InUse at 7f688ed9a700 of size 9437184 next 478\n",
            "2024-04-12 16:24:06.745284: I external/local_tsl/tsl/framework/bfc_allocator.cc:1095] InUse at 7f688f69a700 of size 9437184 next 481\n",
            "2024-04-12 16:24:06.745290: I external/local_tsl/tsl/framework/bfc_allocator.cc:1095] InUse at 7f688ff9a700 of size 9437184 next 482\n",
            "2024-04-12 16:24:06.745296: I external/local_tsl/tsl/framework/bfc_allocator.cc:1095] InUse at 7f689089a700 of size 2359296 next 489\n",
            "2024-04-12 16:24:06.745302: I external/local_tsl/tsl/framework/bfc_allocator.cc:1095] InUse at 7f6890ada700 of size 2359296 next 490\n",
            "2024-04-12 16:24:06.745308: I external/local_tsl/tsl/framework/bfc_allocator.cc:1095] InUse at 7f6890d1a700 of size 2359296 next 493\n",
            "2024-04-12 16:24:06.745315: I external/local_tsl/tsl/framework/bfc_allocator.cc:1095] InUse at 7f6890f5a700 of size 2359296 next 494\n",
            "2024-04-12 16:24:06.745321: I external/local_tsl/tsl/framework/bfc_allocator.cc:1095] InUse at 7f689119a700 of size 2359296 next 497\n",
            "2024-04-12 16:24:06.745327: I external/local_tsl/tsl/framework/bfc_allocator.cc:1095] InUse at 7f68913da700 of size 2359296 next 498\n",
            "2024-04-12 16:24:06.745333: I external/local_tsl/tsl/framework/bfc_allocator.cc:1095] InUse at 7f689161a700 of size 2359296 next 501\n",
            "2024-04-12 16:24:06.745339: I external/local_tsl/tsl/framework/bfc_allocator.cc:1095] InUse at 7f689185a700 of size 2359296 next 502\n",
            "2024-04-12 16:24:06.745347: I external/local_tsl/tsl/framework/bfc_allocator.cc:1095] InUse at 7f6891a9a700 of size 9437184 next 509\n",
            "2024-04-12 16:24:06.745353: I external/local_tsl/tsl/framework/bfc_allocator.cc:1095] InUse at 7f689239a700 of size 9437184 next 510\n",
            "2024-04-12 16:24:06.745359: I external/local_tsl/tsl/framework/bfc_allocator.cc:1095] InUse at 7f6892c9a700 of size 9437184 next 513\n",
            "2024-04-12 16:24:06.745365: I external/local_tsl/tsl/framework/bfc_allocator.cc:1095] InUse at 7f689359a700 of size 9437184 next 514\n",
            "2024-04-12 16:24:06.745372: I external/local_tsl/tsl/framework/bfc_allocator.cc:1095] InUse at 7f6893e9a700 of size 2359296 next 521\n",
            "2024-04-12 16:24:06.745378: I external/local_tsl/tsl/framework/bfc_allocator.cc:1095] InUse at 7f68940da700 of size 2359296 next 522\n",
            "2024-04-12 16:24:06.745384: I external/local_tsl/tsl/framework/bfc_allocator.cc:1095] InUse at 7f689431a700 of size 2359296 next 525\n",
            "2024-04-12 16:24:06.745390: I external/local_tsl/tsl/framework/bfc_allocator.cc:1095] InUse at 7f689455a700 of size 2359296 next 526\n",
            "2024-04-12 16:24:06.745396: I external/local_tsl/tsl/framework/bfc_allocator.cc:1095] InUse at 7f689479a700 of size 2359296 next 529\n",
            "2024-04-12 16:24:06.745402: I external/local_tsl/tsl/framework/bfc_allocator.cc:1095] InUse at 7f68949da700 of size 2359296 next 530\n",
            "2024-04-12 16:24:06.745408: I external/local_tsl/tsl/framework/bfc_allocator.cc:1095] InUse at 7f6894c1a700 of size 2359296 next 533\n",
            "2024-04-12 16:24:06.745415: I external/local_tsl/tsl/framework/bfc_allocator.cc:1095] InUse at 7f6894e5a700 of size 2359296 next 534\n",
            "2024-04-12 16:24:06.745421: I external/local_tsl/tsl/framework/bfc_allocator.cc:1095] InUse at 7f689509a700 of size 9437184 next 541\n",
            "2024-04-12 16:24:06.745427: I external/local_tsl/tsl/framework/bfc_allocator.cc:1095] InUse at 7f689599a700 of size 9437184 next 542\n",
            "2024-04-12 16:24:06.745433: I external/local_tsl/tsl/framework/bfc_allocator.cc:1095] InUse at 7f689629a700 of size 9437184 next 545\n",
            "2024-04-12 16:24:06.745439: I external/local_tsl/tsl/framework/bfc_allocator.cc:1095] InUse at 7f6896b9a700 of size 9437184 next 546\n",
            "2024-04-12 16:24:06.745445: I external/local_tsl/tsl/framework/bfc_allocator.cc:1095] InUse at 7f689749a700 of size 2359296 next 553\n",
            "2024-04-12 16:24:06.745452: I external/local_tsl/tsl/framework/bfc_allocator.cc:1095] InUse at 7f68976da700 of size 2359296 next 554\n",
            "2024-04-12 16:24:06.745458: I external/local_tsl/tsl/framework/bfc_allocator.cc:1095] InUse at 7f689791a700 of size 2359296 next 557\n",
            "2024-04-12 16:24:06.745464: I external/local_tsl/tsl/framework/bfc_allocator.cc:1095] InUse at 7f6897b5a700 of size 2359296 next 558\n",
            "2024-04-12 16:24:06.745470: I external/local_tsl/tsl/framework/bfc_allocator.cc:1095] InUse at 7f6897d9a700 of size 2359296 next 561\n",
            "2024-04-12 16:24:06.745476: I external/local_tsl/tsl/framework/bfc_allocator.cc:1095] InUse at 7f6897fda700 of size 2359296 next 562\n",
            "2024-04-12 16:24:06.745482: I external/local_tsl/tsl/framework/bfc_allocator.cc:1095] InUse at 7f689821a700 of size 2359296 next 565\n",
            "2024-04-12 16:24:06.745489: I external/local_tsl/tsl/framework/bfc_allocator.cc:1095] InUse at 7f689845a700 of size 2359296 next 566\n",
            "2024-04-12 16:24:06.745495: I external/local_tsl/tsl/framework/bfc_allocator.cc:1095] InUse at 7f689869a700 of size 9437184 next 573\n",
            "2024-04-12 16:24:06.745501: I external/local_tsl/tsl/framework/bfc_allocator.cc:1095] InUse at 7f6898f9a700 of size 9437184 next 574\n",
            "2024-04-12 16:24:06.745507: I external/local_tsl/tsl/framework/bfc_allocator.cc:1095] InUse at 7f689989a700 of size 9437184 next 577\n",
            "2024-04-12 16:24:06.745513: I external/local_tsl/tsl/framework/bfc_allocator.cc:1095] InUse at 7f689a19a700 of size 9437184 next 578\n",
            "2024-04-12 16:24:06.745520: I external/local_tsl/tsl/framework/bfc_allocator.cc:1095] InUse at 7f689aa9a700 of size 2359296 next 585\n",
            "2024-04-12 16:24:06.745526: I external/local_tsl/tsl/framework/bfc_allocator.cc:1095] InUse at 7f689acda700 of size 2359296 next 586\n",
            "2024-04-12 16:24:06.756650: I external/local_tsl/tsl/framework/bfc_allocator.cc:1095] InUse at 7f689af1a700 of size 2359296 next 589\n",
            "2024-04-12 16:24:06.756709: I external/local_tsl/tsl/framework/bfc_allocator.cc:1095] InUse at 7f689b15a700 of size 2359296 next 590\n",
            "2024-04-12 16:24:06.756730: I external/local_tsl/tsl/framework/bfc_allocator.cc:1095] InUse at 7f689b39a700 of size 2359296 next 593\n",
            "2024-04-12 16:24:06.756747: I external/local_tsl/tsl/framework/bfc_allocator.cc:1095] InUse at 7f689b5da700 of size 2359296 next 594\n",
            "2024-04-12 16:24:06.756767: I external/local_tsl/tsl/framework/bfc_allocator.cc:1095] InUse at 7f689b81a700 of size 2359296 next 597\n",
            "2024-04-12 16:24:06.756785: I external/local_tsl/tsl/framework/bfc_allocator.cc:1095] InUse at 7f689ba5a700 of size 2359296 next 598\n",
            "2024-04-12 16:24:06.756804: I external/local_tsl/tsl/framework/bfc_allocator.cc:1095] InUse at 7f689bc9a700 of size 9437184 next 605\n",
            "2024-04-12 16:24:06.756824: I external/local_tsl/tsl/framework/bfc_allocator.cc:1095] InUse at 7f689c59a700 of size 9437184 next 606\n",
            "2024-04-12 16:24:06.756842: I external/local_tsl/tsl/framework/bfc_allocator.cc:1095] InUse at 7f689ce9a700 of size 9437184 next 609\n",
            "2024-04-12 16:24:06.756860: I external/local_tsl/tsl/framework/bfc_allocator.cc:1095] InUse at 7f689d79a700 of size 9437184 next 610\n",
            "2024-04-12 16:24:06.756877: I external/local_tsl/tsl/framework/bfc_allocator.cc:1095] InUse at 7f689e09a700 of size 2359296 next 617\n",
            "2024-04-12 16:24:06.756896: I external/local_tsl/tsl/framework/bfc_allocator.cc:1095] InUse at 7f689e2da700 of size 2359296 next 618\n",
            "2024-04-12 16:24:06.756915: I external/local_tsl/tsl/framework/bfc_allocator.cc:1095] InUse at 7f689e51a700 of size 1154560 next 666\n",
            "2024-04-12 16:24:06.756934: I external/local_tsl/tsl/framework/bfc_allocator.cc:1095] InUse at 7f689e634500 of size 256 next 667\n",
            "2024-04-12 16:24:06.756954: I external/local_tsl/tsl/framework/bfc_allocator.cc:1095] InUse at 7f689e634600 of size 256 next 672\n",
            "2024-04-12 16:24:06.756971: I external/local_tsl/tsl/framework/bfc_allocator.cc:1095] InUse at 7f689e634700 of size 256 next 673\n",
            "2024-04-12 16:24:06.756989: I external/local_tsl/tsl/framework/bfc_allocator.cc:1095] InUse at 7f689e634800 of size 3840 next 674\n",
            "2024-04-12 16:24:06.757008: I external/local_tsl/tsl/framework/bfc_allocator.cc:1095] InUse at 7f689e635700 of size 256 next 688\n",
            "2024-04-12 16:24:06.757027: I external/local_tsl/tsl/framework/bfc_allocator.cc:1095] InUse at 7f689e635800 of size 1024 next 685\n",
            "2024-04-12 16:24:06.757045: I external/local_tsl/tsl/framework/bfc_allocator.cc:1095] InUse at 7f689e635c00 of size 256 next 683\n",
            "2024-04-12 16:24:06.757062: I external/local_tsl/tsl/framework/bfc_allocator.cc:1095] Free  at 7f689e635d00 of size 256 next 687\n",
            "2024-04-12 16:24:06.757081: I external/local_tsl/tsl/framework/bfc_allocator.cc:1095] InUse at 7f689e635e00 of size 256 next 686\n",
            "2024-04-12 16:24:06.757100: I external/local_tsl/tsl/framework/bfc_allocator.cc:1095] Free  at 7f689e635f00 of size 1792 next 675\n",
            "2024-04-12 16:24:06.757124: I external/local_tsl/tsl/framework/bfc_allocator.cc:1095] InUse at 7f689e636600 of size 256 next 676\n",
            "2024-04-12 16:24:06.757149: I external/local_tsl/tsl/framework/bfc_allocator.cc:1095] InUse at 7f689e636700 of size 256 next 679\n",
            "2024-04-12 16:24:06.757169: I external/local_tsl/tsl/framework/bfc_allocator.cc:1095] Free  at 7f689e636800 of size 106752 next 668\n",
            "2024-04-12 16:24:06.757191: I external/local_tsl/tsl/framework/bfc_allocator.cc:1095] InUse at 7f689e650900 of size 2309120 next 669\n",
            "2024-04-12 16:24:06.757233: I external/local_tsl/tsl/framework/bfc_allocator.cc:1095] Free  at 7f689e884500 of size 115456 next 681\n",
            "2024-04-12 16:24:06.757255: I external/local_tsl/tsl/framework/bfc_allocator.cc:1095] InUse at 7f689e8a0800 of size 115456 next 682\n",
            "2024-04-12 16:24:06.757278: I external/local_tsl/tsl/framework/bfc_allocator.cc:1095] InUse at 7f689e8bcb00 of size 91210240 next 678\n",
            "2024-04-12 16:24:06.757299: I external/local_tsl/tsl/framework/bfc_allocator.cc:1095] InUse at 7f68a3fb8d00 of size 88670208 next 684\n",
            "2024-04-12 16:24:06.757321: I external/local_tsl/tsl/framework/bfc_allocator.cc:1095] InUse at 7f68a9448d00 of size 88670208 next 689\n",
            "2024-04-12 16:24:06.757343: I external/local_tsl/tsl/framework/bfc_allocator.cc:1095] InUse at 7f68ae8d8d00 of size 88670208 next 677\n",
            "2024-04-12 16:24:06.757363: I external/local_tsl/tsl/framework/bfc_allocator.cc:1095] InUse at 7f68b3d68d00 of size 22167552 next 690\n",
            "2024-04-12 16:24:06.757384: I external/local_tsl/tsl/framework/bfc_allocator.cc:1095] InUse at 7f68b528cd00 of size 88670208 next 691\n",
            "2024-04-12 16:24:06.757405: I external/local_tsl/tsl/framework/bfc_allocator.cc:1095] Free  at 7f68ba71cd00 of size 88670208 next 692\n",
            "2024-04-12 16:24:06.757425: I external/local_tsl/tsl/framework/bfc_allocator.cc:1095] InUse at 7f68bfbacd00 of size 88670208 next 693\n",
            "2024-04-12 16:24:06.757446: I external/local_tsl/tsl/framework/bfc_allocator.cc:1095] Free  at 7f68c503cd00 of size 837235456 next 18446744073709551615\n",
            "2024-04-12 16:24:06.757467: I external/local_tsl/tsl/framework/bfc_allocator.cc:1100]      Summary of in-use Chunks by size: \n",
            "2024-04-12 16:24:06.757501: I external/local_tsl/tsl/framework/bfc_allocator.cc:1103] 68 Chunks of size 256 totalling 17.0KiB\n",
            "2024-04-12 16:24:06.757524: I external/local_tsl/tsl/framework/bfc_allocator.cc:1103] 1 Chunks of size 1024 totalling 1.0KiB\n",
            "2024-04-12 16:24:06.757548: I external/local_tsl/tsl/framework/bfc_allocator.cc:1103] 1 Chunks of size 1280 totalling 1.2KiB\n",
            "2024-04-12 16:24:06.757573: I external/local_tsl/tsl/framework/bfc_allocator.cc:1103] 332 Chunks of size 3072 totalling 996.0KiB\n",
            "2024-04-12 16:24:06.757596: I external/local_tsl/tsl/framework/bfc_allocator.cc:1103] 1 Chunks of size 3840 totalling 3.8KiB\n",
            "2024-04-12 16:24:06.757621: I external/local_tsl/tsl/framework/bfc_allocator.cc:1103] 1 Chunks of size 4352 totalling 4.2KiB\n",
            "2024-04-12 16:24:06.757644: I external/local_tsl/tsl/framework/bfc_allocator.cc:1103] 3 Chunks of size 6144 totalling 18.0KiB\n",
            "2024-04-12 16:24:06.757668: I external/local_tsl/tsl/framework/bfc_allocator.cc:1103] 36 Chunks of size 12288 totalling 432.0KiB\n",
            "2024-04-12 16:24:06.757693: I external/local_tsl/tsl/framework/bfc_allocator.cc:1103] 3 Chunks of size 30720 totalling 90.0KiB\n",
            "2024-04-12 16:24:06.757717: I external/local_tsl/tsl/framework/bfc_allocator.cc:1103] 4 Chunks of size 115456 totalling 451.0KiB\n",
            "2024-04-12 16:24:06.757741: I external/local_tsl/tsl/framework/bfc_allocator.cc:1103] 1 Chunks of size 135936 totalling 132.8KiB\n",
            "2024-04-12 16:24:06.757765: I external/local_tsl/tsl/framework/bfc_allocator.cc:1103] 1 Chunks of size 1154560 totalling 1.10MiB\n",
            "2024-04-12 16:24:06.757787: I external/local_tsl/tsl/framework/bfc_allocator.cc:1103] 1 Chunks of size 1876992 totalling 1.79MiB\n",
            "2024-04-12 16:24:06.757810: I external/local_tsl/tsl/framework/bfc_allocator.cc:1103] 1 Chunks of size 2309120 totalling 2.20MiB\n",
            "2024-04-12 16:24:06.757835: I external/local_tsl/tsl/framework/bfc_allocator.cc:1103] 147 Chunks of size 2359296 totalling 330.75MiB\n",
            "2024-04-12 16:24:06.757857: I external/local_tsl/tsl/framework/bfc_allocator.cc:1103] 1 Chunks of size 3145728 totalling 3.00MiB\n",
            "2024-04-12 16:24:06.757879: I external/local_tsl/tsl/framework/bfc_allocator.cc:1103] 1 Chunks of size 4413952 totalling 4.21MiB\n",
            "2024-04-12 16:24:06.757905: I external/local_tsl/tsl/framework/bfc_allocator.cc:1103] 71 Chunks of size 9437184 totalling 639.00MiB\n",
            "2024-04-12 16:24:06.757929: I external/local_tsl/tsl/framework/bfc_allocator.cc:1103] 1 Chunks of size 11796480 totalling 11.25MiB\n",
            "2024-04-12 16:24:06.757952: I external/local_tsl/tsl/framework/bfc_allocator.cc:1103] 2 Chunks of size 18105088 totalling 34.53MiB\n",
            "2024-04-12 16:24:06.757978: I external/local_tsl/tsl/framework/bfc_allocator.cc:1103] 1 Chunks of size 22167552 totalling 21.14MiB\n",
            "2024-04-12 16:24:06.758003: I external/local_tsl/tsl/framework/bfc_allocator.cc:1103] 5 Chunks of size 88670208 totalling 422.81MiB\n",
            "2024-04-12 16:24:06.758026: I external/local_tsl/tsl/framework/bfc_allocator.cc:1103] 1 Chunks of size 90524928 totalling 86.33MiB\n",
            "2024-04-12 16:24:06.758052: I external/local_tsl/tsl/framework/bfc_allocator.cc:1103] 1 Chunks of size 91210240 totalling 86.98MiB\n",
            "2024-04-12 16:24:06.758075: I external/local_tsl/tsl/framework/bfc_allocator.cc:1103] 3 Chunks of size 93763584 totalling 268.26MiB\n",
            "2024-04-12 16:24:06.758098: I external/local_tsl/tsl/framework/bfc_allocator.cc:1107] Sum Total of in-use chunks: 1.87GiB\n",
            "2024-04-12 16:24:06.758122: I external/local_tsl/tsl/framework/bfc_allocator.cc:1109] Total bytes in pool: 2934636544 memory_limit_: 2934636544 available bytes: 0 curr_region_allocation_bytes_: 5869273088\n",
            "2024-04-12 16:24:06.758153: I external/local_tsl/tsl/framework/bfc_allocator.cc:1114] Stats: \n",
            "Limit:                      2934636544\n",
            "InUse:                      2008506624\n",
            "MaxInUse:                   2097176832\n",
            "NumAllocs:                        1322\n",
            "MaxAllocSize:                 93763584\n",
            "Reserved:                            0\n",
            "PeakReserved:                        0\n",
            "LargestFreeBlock:                    0\n",
            "\n",
            "2024-04-12 16:24:06.758211: W external/local_tsl/tsl/framework/bfc_allocator.cc:497] ******************************************************************__****____________________________\n",
            "2024-04-12 16:24:06.758260: W tensorflow/core/framework/op_kernel.cc:1839] OP_REQUIRES failed at matmul_op_impl.h:921 : RESOURCE_EXHAUSTED: OOM when allocating tensor with shape[32,12,902,902] and type float on /job:localhost/replica:0/task:0/device:GPU:0 by allocator GPU_0_bfc\n"
          ]
        },
        {
          "ename": "ResourceExhaustedError",
          "evalue": "Graph execution error:\n\nDetected at node model/tf_bert_model/bert/encoder/layer_._0/attention/self/MatMul defined at (most recent call last):\n  File \"/home/alex_braun/anaconda3/lib/python3.9/runpy.py\", line 197, in _run_module_as_main\n\n  File \"/home/alex_braun/anaconda3/lib/python3.9/runpy.py\", line 87, in _run_code\n\n  File \"/home/alex_braun/anaconda3/lib/python3.9/site-packages/ipykernel_launcher.py\", line 17, in <module>\n\n  File \"/home/alex_braun/anaconda3/lib/python3.9/site-packages/traitlets/config/application.py\", line 846, in launch_instance\n\n  File \"/home/alex_braun/anaconda3/lib/python3.9/site-packages/ipykernel/kernelapp.py\", line 712, in start\n\n  File \"/home/alex_braun/anaconda3/lib/python3.9/site-packages/tornado/platform/asyncio.py\", line 199, in start\n\n  File \"/home/alex_braun/anaconda3/lib/python3.9/asyncio/base_events.py\", line 601, in run_forever\n\n  File \"/home/alex_braun/anaconda3/lib/python3.9/asyncio/base_events.py\", line 1905, in _run_once\n\n  File \"/home/alex_braun/anaconda3/lib/python3.9/asyncio/events.py\", line 80, in _run\n\n  File \"/home/alex_braun/anaconda3/lib/python3.9/site-packages/ipykernel/kernelbase.py\", line 510, in dispatch_queue\n\n  File \"/home/alex_braun/anaconda3/lib/python3.9/site-packages/ipykernel/kernelbase.py\", line 499, in process_one\n\n  File \"/home/alex_braun/anaconda3/lib/python3.9/site-packages/ipykernel/kernelbase.py\", line 406, in dispatch_shell\n\n  File \"/home/alex_braun/anaconda3/lib/python3.9/site-packages/ipykernel/kernelbase.py\", line 730, in execute_request\n\n  File \"/home/alex_braun/anaconda3/lib/python3.9/site-packages/ipykernel/ipkernel.py\", line 390, in do_execute\n\n  File \"/home/alex_braun/anaconda3/lib/python3.9/site-packages/ipykernel/zmqshell.py\", line 528, in run_cell\n\n  File \"/home/alex_braun/anaconda3/lib/python3.9/site-packages/IPython/core/interactiveshell.py\", line 2914, in run_cell\n\n  File \"/home/alex_braun/anaconda3/lib/python3.9/site-packages/IPython/core/interactiveshell.py\", line 2960, in _run_cell\n\n  File \"/home/alex_braun/anaconda3/lib/python3.9/site-packages/IPython/core/async_helpers.py\", line 78, in _pseudo_sync_runner\n\n  File \"/home/alex_braun/anaconda3/lib/python3.9/site-packages/IPython/core/interactiveshell.py\", line 3185, in run_cell_async\n\n  File \"/home/alex_braun/anaconda3/lib/python3.9/site-packages/IPython/core/interactiveshell.py\", line 3377, in run_ast_nodes\n\n  File \"/home/alex_braun/anaconda3/lib/python3.9/site-packages/IPython/core/interactiveshell.py\", line 3457, in run_code\n\n  File \"/tmp/ipykernel_8515/3556622529.py\", line 6, in <module>\n\n  File \"/home/alex_braun/anaconda3/lib/python3.9/site-packages/keras/src/utils/traceback_utils.py\", line 65, in error_handler\n\n  File \"/home/alex_braun/anaconda3/lib/python3.9/site-packages/keras/src/engine/training.py\", line 1807, in fit\n\n  File \"/home/alex_braun/anaconda3/lib/python3.9/site-packages/keras/src/engine/training.py\", line 1401, in train_function\n\n  File \"/home/alex_braun/anaconda3/lib/python3.9/site-packages/keras/src/engine/training.py\", line 1384, in step_function\n\n  File \"/home/alex_braun/anaconda3/lib/python3.9/site-packages/keras/src/engine/training.py\", line 1373, in run_step\n\n  File \"/home/alex_braun/anaconda3/lib/python3.9/site-packages/keras/src/engine/training.py\", line 1150, in train_step\n\n  File \"/home/alex_braun/anaconda3/lib/python3.9/site-packages/keras/src/utils/traceback_utils.py\", line 65, in error_handler\n\n  File \"/home/alex_braun/anaconda3/lib/python3.9/site-packages/keras/src/engine/training.py\", line 590, in __call__\n\n  File \"/home/alex_braun/anaconda3/lib/python3.9/site-packages/keras/src/utils/traceback_utils.py\", line 65, in error_handler\n\n  File \"/home/alex_braun/anaconda3/lib/python3.9/site-packages/keras/src/engine/base_layer.py\", line 1149, in __call__\n\n  File \"/home/alex_braun/anaconda3/lib/python3.9/site-packages/keras/src/utils/traceback_utils.py\", line 96, in error_handler\n\n  File \"/home/alex_braun/anaconda3/lib/python3.9/site-packages/keras/src/engine/functional.py\", line 515, in call\n\n  File \"/home/alex_braun/anaconda3/lib/python3.9/site-packages/keras/src/engine/functional.py\", line 672, in _run_internal_graph\n\n  File \"/home/alex_braun/anaconda3/lib/python3.9/site-packages/keras/src/utils/traceback_utils.py\", line 65, in error_handler\n\n  File \"/home/alex_braun/anaconda3/lib/python3.9/site-packages/keras/src/engine/training.py\", line 590, in __call__\n\n  File \"/home/alex_braun/anaconda3/lib/python3.9/site-packages/keras/src/utils/traceback_utils.py\", line 65, in error_handler\n\n  File \"/home/alex_braun/anaconda3/lib/python3.9/site-packages/keras/src/engine/base_layer.py\", line 1149, in __call__\n\n  File \"/home/alex_braun/anaconda3/lib/python3.9/site-packages/keras/src/utils/traceback_utils.py\", line 96, in error_handler\n\n  File \"/home/alex_braun/anaconda3/lib/python3.9/site-packages/transformers/modeling_tf_utils.py\", line 1207, in run_call_with_unpacked_inputs\n\n  File \"/home/alex_braun/anaconda3/lib/python3.9/site-packages/transformers/models/bert/modeling_tf_bert.py\", line 1234, in call\n\n  File \"/home/alex_braun/anaconda3/lib/python3.9/site-packages/keras/src/utils/traceback_utils.py\", line 65, in error_handler\n\n  File \"/home/alex_braun/anaconda3/lib/python3.9/site-packages/keras/src/engine/base_layer.py\", line 1149, in __call__\n\n  File \"/home/alex_braun/anaconda3/lib/python3.9/site-packages/keras/src/utils/traceback_utils.py\", line 96, in error_handler\n\n  File \"/home/alex_braun/anaconda3/lib/python3.9/site-packages/transformers/modeling_tf_utils.py\", line 1207, in run_call_with_unpacked_inputs\n\n  File \"/home/alex_braun/anaconda3/lib/python3.9/site-packages/transformers/models/bert/modeling_tf_bert.py\", line 994, in call\n\n  File \"/home/alex_braun/anaconda3/lib/python3.9/site-packages/keras/src/utils/traceback_utils.py\", line 65, in error_handler\n\n  File \"/home/alex_braun/anaconda3/lib/python3.9/site-packages/keras/src/engine/base_layer.py\", line 1149, in __call__\n\n  File \"/home/alex_braun/anaconda3/lib/python3.9/site-packages/keras/src/utils/traceback_utils.py\", line 96, in error_handler\n\n  File \"/home/alex_braun/anaconda3/lib/python3.9/site-packages/transformers/models/bert/modeling_tf_bert.py\", line 628, in call\n\n  File \"/home/alex_braun/anaconda3/lib/python3.9/site-packages/transformers/models/bert/modeling_tf_bert.py\", line 634, in call\n\n  File \"/home/alex_braun/anaconda3/lib/python3.9/site-packages/keras/src/utils/traceback_utils.py\", line 65, in error_handler\n\n  File \"/home/alex_braun/anaconda3/lib/python3.9/site-packages/keras/src/engine/base_layer.py\", line 1149, in __call__\n\n  File \"/home/alex_braun/anaconda3/lib/python3.9/site-packages/keras/src/utils/traceback_utils.py\", line 96, in error_handler\n\n  File \"/home/alex_braun/anaconda3/lib/python3.9/site-packages/transformers/models/bert/modeling_tf_bert.py\", line 527, in call\n\n  File \"/home/alex_braun/anaconda3/lib/python3.9/site-packages/keras/src/utils/traceback_utils.py\", line 65, in error_handler\n\n  File \"/home/alex_braun/anaconda3/lib/python3.9/site-packages/keras/src/engine/base_layer.py\", line 1149, in __call__\n\n  File \"/home/alex_braun/anaconda3/lib/python3.9/site-packages/keras/src/utils/traceback_utils.py\", line 96, in error_handler\n\n  File \"/home/alex_braun/anaconda3/lib/python3.9/site-packages/transformers/models/bert/modeling_tf_bert.py\", line 411, in call\n\n  File \"/home/alex_braun/anaconda3/lib/python3.9/site-packages/keras/src/utils/traceback_utils.py\", line 65, in error_handler\n\n  File \"/home/alex_braun/anaconda3/lib/python3.9/site-packages/keras/src/engine/base_layer.py\", line 1149, in __call__\n\n  File \"/home/alex_braun/anaconda3/lib/python3.9/site-packages/keras/src/utils/traceback_utils.py\", line 96, in error_handler\n\n  File \"/home/alex_braun/anaconda3/lib/python3.9/site-packages/transformers/models/bert/modeling_tf_bert.py\", line 315, in call\n\nOOM when allocating tensor with shape[32,12,902,902] and type float on /job:localhost/replica:0/task:0/device:GPU:0 by allocator GPU_0_bfc\n\t [[{{node model/tf_bert_model/bert/encoder/layer_._0/attention/self/MatMul}}]]\nHint: If you want to see a list of allocated tensors when OOM happens, add report_tensor_allocations_upon_oom to RunOptions for current allocation info. This isn't available when running in Eager mode.\n [Op:__inference_train_function_34705]",
          "output_type": "error",
          "traceback": [
            "\u001b[0;31m---------------------------------------------------------------------------\u001b[0m",
            "\u001b[0;31mResourceExhaustedError\u001b[0m                    Traceback (most recent call last)",
            "\u001b[0;32m/tmp/ipykernel_8515/3556622529.py\u001b[0m in \u001b[0;36m<module>\u001b[0;34m\u001b[0m\n\u001b[1;32m      4\u001b[0m \u001b[0mearly_stopping_callback\u001b[0m \u001b[0;34m=\u001b[0m \u001b[0mEarlyStopping\u001b[0m\u001b[0;34m(\u001b[0m\u001b[0mmode\u001b[0m\u001b[0;34m=\u001b[0m\u001b[0;34m\"min\"\u001b[0m\u001b[0;34m,\u001b[0m \u001b[0mpatience\u001b[0m\u001b[0;34m=\u001b[0m\u001b[0;36m5\u001b[0m\u001b[0;34m)\u001b[0m\u001b[0;34m\u001b[0m\u001b[0;34m\u001b[0m\u001b[0m\n\u001b[1;32m      5\u001b[0m \u001b[0;34m\u001b[0m\u001b[0m\n\u001b[0;32m----> 6\u001b[0;31m bert_history = model.fit([input_ids, attention_mask], np.array(train_labels),\n\u001b[0m\u001b[1;32m      7\u001b[0m                         \u001b[0mvalidation_data\u001b[0m\u001b[0;34m=\u001b[0m\u001b[0;34m(\u001b[0m\u001b[0;34m[\u001b[0m\u001b[0mval_input_ids\u001b[0m\u001b[0;34m,\u001b[0m \u001b[0mval_attention_mask\u001b[0m\u001b[0;34m]\u001b[0m\u001b[0;34m,\u001b[0m \u001b[0mnp\u001b[0m\u001b[0;34m.\u001b[0m\u001b[0marray\u001b[0m\u001b[0;34m(\u001b[0m\u001b[0mtest_labels\u001b[0m\u001b[0;34m)\u001b[0m\u001b[0;34m)\u001b[0m\u001b[0;34m,\u001b[0m\u001b[0;34m\u001b[0m\u001b[0;34m\u001b[0m\u001b[0m\n\u001b[1;32m      8\u001b[0m                         \u001b[0mepochs\u001b[0m\u001b[0;34m=\u001b[0m\u001b[0;36m25\u001b[0m\u001b[0;34m,\u001b[0m \u001b[0mbatch_size\u001b[0m\u001b[0;34m=\u001b[0m\u001b[0;36m32\u001b[0m\u001b[0;34m,\u001b[0m\u001b[0;34m\u001b[0m\u001b[0;34m\u001b[0m\u001b[0m\n",
            "\u001b[0;32m~/anaconda3/lib/python3.9/site-packages/keras/src/utils/traceback_utils.py\u001b[0m in \u001b[0;36merror_handler\u001b[0;34m(*args, **kwargs)\u001b[0m\n\u001b[1;32m     68\u001b[0m             \u001b[0;31m# To get the full stack trace, call:\u001b[0m\u001b[0;34m\u001b[0m\u001b[0;34m\u001b[0m\u001b[0m\n\u001b[1;32m     69\u001b[0m             \u001b[0;31m# `tf.debugging.disable_traceback_filtering()`\u001b[0m\u001b[0;34m\u001b[0m\u001b[0;34m\u001b[0m\u001b[0m\n\u001b[0;32m---> 70\u001b[0;31m             \u001b[0;32mraise\u001b[0m \u001b[0me\u001b[0m\u001b[0;34m.\u001b[0m\u001b[0mwith_traceback\u001b[0m\u001b[0;34m(\u001b[0m\u001b[0mfiltered_tb\u001b[0m\u001b[0;34m)\u001b[0m \u001b[0;32mfrom\u001b[0m \u001b[0;32mNone\u001b[0m\u001b[0;34m\u001b[0m\u001b[0;34m\u001b[0m\u001b[0m\n\u001b[0m\u001b[1;32m     71\u001b[0m         \u001b[0;32mfinally\u001b[0m\u001b[0;34m:\u001b[0m\u001b[0;34m\u001b[0m\u001b[0;34m\u001b[0m\u001b[0m\n\u001b[1;32m     72\u001b[0m             \u001b[0;32mdel\u001b[0m \u001b[0mfiltered_tb\u001b[0m\u001b[0;34m\u001b[0m\u001b[0;34m\u001b[0m\u001b[0m\n",
            "\u001b[0;32m~/anaconda3/lib/python3.9/site-packages/tensorflow/python/eager/execute.py\u001b[0m in \u001b[0;36mquick_execute\u001b[0;34m(op_name, num_outputs, inputs, attrs, ctx, name)\u001b[0m\n\u001b[1;32m     51\u001b[0m   \u001b[0;32mtry\u001b[0m\u001b[0;34m:\u001b[0m\u001b[0;34m\u001b[0m\u001b[0;34m\u001b[0m\u001b[0m\n\u001b[1;32m     52\u001b[0m     \u001b[0mctx\u001b[0m\u001b[0;34m.\u001b[0m\u001b[0mensure_initialized\u001b[0m\u001b[0;34m(\u001b[0m\u001b[0;34m)\u001b[0m\u001b[0;34m\u001b[0m\u001b[0;34m\u001b[0m\u001b[0m\n\u001b[0;32m---> 53\u001b[0;31m     tensors = pywrap_tfe.TFE_Py_Execute(ctx._handle, device_name, op_name,\n\u001b[0m\u001b[1;32m     54\u001b[0m                                         inputs, attrs, num_outputs)\n\u001b[1;32m     55\u001b[0m   \u001b[0;32mexcept\u001b[0m \u001b[0mcore\u001b[0m\u001b[0;34m.\u001b[0m\u001b[0m_NotOkStatusException\u001b[0m \u001b[0;32mas\u001b[0m \u001b[0me\u001b[0m\u001b[0;34m:\u001b[0m\u001b[0;34m\u001b[0m\u001b[0;34m\u001b[0m\u001b[0m\n",
            "\u001b[0;31mResourceExhaustedError\u001b[0m: Graph execution error:\n\nDetected at node model/tf_bert_model/bert/encoder/layer_._0/attention/self/MatMul defined at (most recent call last):\n  File \"/home/alex_braun/anaconda3/lib/python3.9/runpy.py\", line 197, in _run_module_as_main\n\n  File \"/home/alex_braun/anaconda3/lib/python3.9/runpy.py\", line 87, in _run_code\n\n  File \"/home/alex_braun/anaconda3/lib/python3.9/site-packages/ipykernel_launcher.py\", line 17, in <module>\n\n  File \"/home/alex_braun/anaconda3/lib/python3.9/site-packages/traitlets/config/application.py\", line 846, in launch_instance\n\n  File \"/home/alex_braun/anaconda3/lib/python3.9/site-packages/ipykernel/kernelapp.py\", line 712, in start\n\n  File \"/home/alex_braun/anaconda3/lib/python3.9/site-packages/tornado/platform/asyncio.py\", line 199, in start\n\n  File \"/home/alex_braun/anaconda3/lib/python3.9/asyncio/base_events.py\", line 601, in run_forever\n\n  File \"/home/alex_braun/anaconda3/lib/python3.9/asyncio/base_events.py\", line 1905, in _run_once\n\n  File \"/home/alex_braun/anaconda3/lib/python3.9/asyncio/events.py\", line 80, in _run\n\n  File \"/home/alex_braun/anaconda3/lib/python3.9/site-packages/ipykernel/kernelbase.py\", line 510, in dispatch_queue\n\n  File \"/home/alex_braun/anaconda3/lib/python3.9/site-packages/ipykernel/kernelbase.py\", line 499, in process_one\n\n  File \"/home/alex_braun/anaconda3/lib/python3.9/site-packages/ipykernel/kernelbase.py\", line 406, in dispatch_shell\n\n  File \"/home/alex_braun/anaconda3/lib/python3.9/site-packages/ipykernel/kernelbase.py\", line 730, in execute_request\n\n  File \"/home/alex_braun/anaconda3/lib/python3.9/site-packages/ipykernel/ipkernel.py\", line 390, in do_execute\n\n  File \"/home/alex_braun/anaconda3/lib/python3.9/site-packages/ipykernel/zmqshell.py\", line 528, in run_cell\n\n  File \"/home/alex_braun/anaconda3/lib/python3.9/site-packages/IPython/core/interactiveshell.py\", line 2914, in run_cell\n\n  File \"/home/alex_braun/anaconda3/lib/python3.9/site-packages/IPython/core/interactiveshell.py\", line 2960, in _run_cell\n\n  File \"/home/alex_braun/anaconda3/lib/python3.9/site-packages/IPython/core/async_helpers.py\", line 78, in _pseudo_sync_runner\n\n  File \"/home/alex_braun/anaconda3/lib/python3.9/site-packages/IPython/core/interactiveshell.py\", line 3185, in run_cell_async\n\n  File \"/home/alex_braun/anaconda3/lib/python3.9/site-packages/IPython/core/interactiveshell.py\", line 3377, in run_ast_nodes\n\n  File \"/home/alex_braun/anaconda3/lib/python3.9/site-packages/IPython/core/interactiveshell.py\", line 3457, in run_code\n\n  File \"/tmp/ipykernel_8515/3556622529.py\", line 6, in <module>\n\n  File \"/home/alex_braun/anaconda3/lib/python3.9/site-packages/keras/src/utils/traceback_utils.py\", line 65, in error_handler\n\n  File \"/home/alex_braun/anaconda3/lib/python3.9/site-packages/keras/src/engine/training.py\", line 1807, in fit\n\n  File \"/home/alex_braun/anaconda3/lib/python3.9/site-packages/keras/src/engine/training.py\", line 1401, in train_function\n\n  File \"/home/alex_braun/anaconda3/lib/python3.9/site-packages/keras/src/engine/training.py\", line 1384, in step_function\n\n  File \"/home/alex_braun/anaconda3/lib/python3.9/site-packages/keras/src/engine/training.py\", line 1373, in run_step\n\n  File \"/home/alex_braun/anaconda3/lib/python3.9/site-packages/keras/src/engine/training.py\", line 1150, in train_step\n\n  File \"/home/alex_braun/anaconda3/lib/python3.9/site-packages/keras/src/utils/traceback_utils.py\", line 65, in error_handler\n\n  File \"/home/alex_braun/anaconda3/lib/python3.9/site-packages/keras/src/engine/training.py\", line 590, in __call__\n\n  File \"/home/alex_braun/anaconda3/lib/python3.9/site-packages/keras/src/utils/traceback_utils.py\", line 65, in error_handler\n\n  File \"/home/alex_braun/anaconda3/lib/python3.9/site-packages/keras/src/engine/base_layer.py\", line 1149, in __call__\n\n  File \"/home/alex_braun/anaconda3/lib/python3.9/site-packages/keras/src/utils/traceback_utils.py\", line 96, in error_handler\n\n  File \"/home/alex_braun/anaconda3/lib/python3.9/site-packages/keras/src/engine/functional.py\", line 515, in call\n\n  File \"/home/alex_braun/anaconda3/lib/python3.9/site-packages/keras/src/engine/functional.py\", line 672, in _run_internal_graph\n\n  File \"/home/alex_braun/anaconda3/lib/python3.9/site-packages/keras/src/utils/traceback_utils.py\", line 65, in error_handler\n\n  File \"/home/alex_braun/anaconda3/lib/python3.9/site-packages/keras/src/engine/training.py\", line 590, in __call__\n\n  File \"/home/alex_braun/anaconda3/lib/python3.9/site-packages/keras/src/utils/traceback_utils.py\", line 65, in error_handler\n\n  File \"/home/alex_braun/anaconda3/lib/python3.9/site-packages/keras/src/engine/base_layer.py\", line 1149, in __call__\n\n  File \"/home/alex_braun/anaconda3/lib/python3.9/site-packages/keras/src/utils/traceback_utils.py\", line 96, in error_handler\n\n  File \"/home/alex_braun/anaconda3/lib/python3.9/site-packages/transformers/modeling_tf_utils.py\", line 1207, in run_call_with_unpacked_inputs\n\n  File \"/home/alex_braun/anaconda3/lib/python3.9/site-packages/transformers/models/bert/modeling_tf_bert.py\", line 1234, in call\n\n  File \"/home/alex_braun/anaconda3/lib/python3.9/site-packages/keras/src/utils/traceback_utils.py\", line 65, in error_handler\n\n  File \"/home/alex_braun/anaconda3/lib/python3.9/site-packages/keras/src/engine/base_layer.py\", line 1149, in __call__\n\n  File \"/home/alex_braun/anaconda3/lib/python3.9/site-packages/keras/src/utils/traceback_utils.py\", line 96, in error_handler\n\n  File \"/home/alex_braun/anaconda3/lib/python3.9/site-packages/transformers/modeling_tf_utils.py\", line 1207, in run_call_with_unpacked_inputs\n\n  File \"/home/alex_braun/anaconda3/lib/python3.9/site-packages/transformers/models/bert/modeling_tf_bert.py\", line 994, in call\n\n  File \"/home/alex_braun/anaconda3/lib/python3.9/site-packages/keras/src/utils/traceback_utils.py\", line 65, in error_handler\n\n  File \"/home/alex_braun/anaconda3/lib/python3.9/site-packages/keras/src/engine/base_layer.py\", line 1149, in __call__\n\n  File \"/home/alex_braun/anaconda3/lib/python3.9/site-packages/keras/src/utils/traceback_utils.py\", line 96, in error_handler\n\n  File \"/home/alex_braun/anaconda3/lib/python3.9/site-packages/transformers/models/bert/modeling_tf_bert.py\", line 628, in call\n\n  File \"/home/alex_braun/anaconda3/lib/python3.9/site-packages/transformers/models/bert/modeling_tf_bert.py\", line 634, in call\n\n  File \"/home/alex_braun/anaconda3/lib/python3.9/site-packages/keras/src/utils/traceback_utils.py\", line 65, in error_handler\n\n  File \"/home/alex_braun/anaconda3/lib/python3.9/site-packages/keras/src/engine/base_layer.py\", line 1149, in __call__\n\n  File \"/home/alex_braun/anaconda3/lib/python3.9/site-packages/keras/src/utils/traceback_utils.py\", line 96, in error_handler\n\n  File \"/home/alex_braun/anaconda3/lib/python3.9/site-packages/transformers/models/bert/modeling_tf_bert.py\", line 527, in call\n\n  File \"/home/alex_braun/anaconda3/lib/python3.9/site-packages/keras/src/utils/traceback_utils.py\", line 65, in error_handler\n\n  File \"/home/alex_braun/anaconda3/lib/python3.9/site-packages/keras/src/engine/base_layer.py\", line 1149, in __call__\n\n  File \"/home/alex_braun/anaconda3/lib/python3.9/site-packages/keras/src/utils/traceback_utils.py\", line 96, in error_handler\n\n  File \"/home/alex_braun/anaconda3/lib/python3.9/site-packages/transformers/models/bert/modeling_tf_bert.py\", line 411, in call\n\n  File \"/home/alex_braun/anaconda3/lib/python3.9/site-packages/keras/src/utils/traceback_utils.py\", line 65, in error_handler\n\n  File \"/home/alex_braun/anaconda3/lib/python3.9/site-packages/keras/src/engine/base_layer.py\", line 1149, in __call__\n\n  File \"/home/alex_braun/anaconda3/lib/python3.9/site-packages/keras/src/utils/traceback_utils.py\", line 96, in error_handler\n\n  File \"/home/alex_braun/anaconda3/lib/python3.9/site-packages/transformers/models/bert/modeling_tf_bert.py\", line 315, in call\n\nOOM when allocating tensor with shape[32,12,902,902] and type float on /job:localhost/replica:0/task:0/device:GPU:0 by allocator GPU_0_bfc\n\t [[{{node model/tf_bert_model/bert/encoder/layer_._0/attention/self/MatMul}}]]\nHint: If you want to see a list of allocated tensors when OOM happens, add report_tensor_allocations_upon_oom to RunOptions for current allocation info. This isn't available when running in Eager mode.\n [Op:__inference_train_function_34705]"
          ]
        }
      ],
      "source": [
        "import tensorflow as tf\n",
        "from tensorflow.keras.callbacks import EarlyStopping\n",
        "\n",
        "early_stopping_callback = EarlyStopping(mode=\"min\", patience=5)\n",
        "\n",
        "bert_history = model.fit([input_ids, attention_mask], np.array(train_labels),\n",
        "                        validation_data=([val_input_ids, val_attention_mask], np.array(test_labels)),\n",
        "                        epochs=25, batch_size=32,\n",
        "                        callbacks=early_stopping_callback)"
      ]
    },
    {
      "cell_type": "code",
      "execution_count": null,
      "id": "c1a8ea3b",
      "metadata": {
        "id": "c1a8ea3b"
      },
      "outputs": [],
      "source": []
    }
  ],
  "metadata": {
    "kernelspec": {
      "display_name": "Python 3",
      "name": "python3"
    },
    "language_info": {
      "codemirror_mode": {
        "name": "ipython",
        "version": 3
      },
      "file_extension": ".py",
      "mimetype": "text/x-python",
      "name": "python",
      "nbconvert_exporter": "python",
      "pygments_lexer": "ipython3",
      "version": "3.9.13"
    },
    "colab": {
      "provenance": [],
      "machine_shape": "hm"
    }
  },
  "nbformat": 4,
  "nbformat_minor": 5
}