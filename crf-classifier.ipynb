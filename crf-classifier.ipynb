{
 "cells": [
  {
   "cell_type": "code",
   "execution_count": 4,
   "id": "e098413c9ab458ba",
   "metadata": {
    "is_executing": true
   },
   "outputs": [
    {
     "name": "stdout",
     "output_type": "stream",
     "text": [
      "Requirement already satisfied: scikit-learn in /home/alex_braun/anaconda3/lib/python3.9/site-packages (1.0.2)\n",
      "Requirement already satisfied: sklearn_crfsuite in /home/alex_braun/anaconda3/lib/python3.9/site-packages (0.3.6)\n",
      "Requirement already satisfied: scipy>=1.1.0 in /home/alex_braun/anaconda3/lib/python3.9/site-packages (from scikit-learn) (1.11.3)\n",
      "Requirement already satisfied: numpy>=1.14.6 in /home/alex_braun/anaconda3/lib/python3.9/site-packages (from scikit-learn) (1.26.4)\n",
      "Requirement already satisfied: joblib>=0.11 in /home/alex_braun/anaconda3/lib/python3.9/site-packages (from scikit-learn) (1.3.2)\n",
      "Requirement already satisfied: threadpoolctl>=2.0.0 in /home/alex_braun/anaconda3/lib/python3.9/site-packages (from scikit-learn) (2.2.0)\n",
      "Requirement already satisfied: python-crfsuite>=0.8.3 in /home/alex_braun/anaconda3/lib/python3.9/site-packages (from sklearn_crfsuite) (0.9.10)\n",
      "Requirement already satisfied: tabulate in /home/alex_braun/anaconda3/lib/python3.9/site-packages (from sklearn_crfsuite) (0.8.10)\n",
      "Requirement already satisfied: tqdm>=2.0 in /home/alex_braun/anaconda3/lib/python3.9/site-packages (from sklearn_crfsuite) (4.64.1)\n",
      "Requirement already satisfied: six in /home/alex_braun/anaconda3/lib/python3.9/site-packages (from sklearn_crfsuite) (1.16.0)\n"
     ]
    }
   ],
   "source": [
    "!pip install scikit-learn sklearn_crfsuite"
   ]
  },
  {
   "cell_type": "code",
   "execution_count": 5,
   "id": "3f8da834512781a",
   "metadata": {
    "ExecuteTime": {
     "end_time": "2024-03-21T18:23:23.480252Z",
     "start_time": "2024-03-21T18:23:23.472952Z"
    }
   },
   "outputs": [],
   "source": [
    "def transform_dataset(page_dataset, for_inference):\n",
    "    labeled_text_dataset = []\n",
    "    for page in page_dataset:\n",
    "        task_id = page[\"taskId\"]\n",
    "        page_words = page[\"representativeData\"][\"page_data_words\"]\n",
    "        \n",
    "        geo_dictionary = {}\n",
    "        if not for_inference:\n",
    "            page_answers = page.get(\"answers\")\n",
    "            for page_answer in page_answers[0][\"answer\"]:\n",
    "                geo_label = page_answer[\"id\"]\n",
    "                for geo_part in page_answer[\"data\"]:\n",
    "                    for index in range(geo_part[\"start\"], geo_part[\"end\"]):\n",
    "                        geo_dictionary[index] = geo_label\n",
    "        \n",
    "        labeled_text = []\n",
    "        for word_index, word in enumerate(page_words):\n",
    "            word_label = \"0\" if for_inference else geo_dictionary.get(word_index, \"O\")\n",
    "            labeled_text.append((word, word_label))\n",
    "            \n",
    "        labeled_text_dataset.append((task_id, labeled_text))\n",
    "    \n",
    "    return labeled_text_dataset"
   ]
  },
  {
   "cell_type": "code",
   "execution_count": 6,
   "id": "6e790d71857b5686",
   "metadata": {
    "ExecuteTime": {
     "end_time": "2024-03-21T18:23:23.489442Z",
     "start_time": "2024-03-21T18:23:23.482152Z"
    }
   },
   "outputs": [],
   "source": [
    "import json\n",
    "\n",
    "def get_labeled_dataset(dataset_path, for_inference=False):\n",
    "    with open(dataset_path) as dataset:\n",
    "        train_dataset = json.load(dataset)\n",
    "        \n",
    "    labeled_dataset = transform_dataset(train_dataset[\"data\"][\"results\"], for_inference)\n",
    "    return labeled_dataset"
   ]
  },
  {
   "cell_type": "code",
   "execution_count": 7,
   "id": "8d1eea18c02ae465",
   "metadata": {
    "ExecuteTime": {
     "end_time": "2024-03-21T18:23:23.499428Z",
     "start_time": "2024-03-21T18:23:23.492046Z"
    }
   },
   "outputs": [],
   "source": [
    "def word2features(text, i):\n",
    "    word = text[i][0]\n",
    "    \n",
    "    features = {\n",
    "        \"word.lower()\": word.lower(),\n",
    "        \"word[-2:]\": word[-2:],\n",
    "        \"word[-3:]\": word[-3:],\n",
    "        \"word[:2]\": word[:2],\n",
    "        \"word[:3]\": word[:3],\n",
    "        \"word.isupper()\": word.isupper(),\n",
    "        \"word.istitle()\": word.istitle(),\n",
    "        \"word.isdigit()\": word.isdigit()\n",
    "    }\n",
    "    \n",
    "    for offset in [-3, -2, -1, 1, 2, 3]:\n",
    "        if 0 <= i + offset < len(text):\n",
    "            neighbor_word = text[i + offset][0]\n",
    "            features.update({\n",
    "                f\"{offset}:word.lower()\": neighbor_word.lower(),\n",
    "                f\"{offset}:word.istitle()\": neighbor_word.istitle(),\n",
    "                f\"{offset}:word.isupper()\": neighbor_word.isupper()\n",
    "            })\n",
    "        else:\n",
    "            features[f\"offset_{offset}_limit\"] = True\n",
    "        \n",
    "    return features"
   ]
  },
  {
   "cell_type": "code",
   "execution_count": 8,
   "id": "5ff429aa50eeeaeb",
   "metadata": {
    "ExecuteTime": {
     "end_time": "2024-03-21T18:23:23.509365Z",
     "start_time": "2024-03-21T18:23:23.500903Z"
    }
   },
   "outputs": [],
   "source": [
    "def text2features(text):\n",
    "    return [word2features(text, index) for index in range(len(text))]\n",
    "\n",
    "def text2labels(text):\n",
    "    return [label for _, label in text]"
   ]
  },
  {
   "cell_type": "code",
   "execution_count": 9,
   "id": "50d63d29",
   "metadata": {},
   "outputs": [],
   "source": [
    "def get_validation_result(X_validation, y_pred):\n",
    "    validation_result = []\n",
    "    \n",
    "    for ((task_id, labeled_text), predictions) in zip(X_validation, y_pred):\n",
    "        answers = {}\n",
    "        current_label = None\n",
    "        start_index = None\n",
    "        \n",
    "        for current_index, label in enumerate(predictions):\n",
    "            if label == current_label:\n",
    "                continue\n",
    "            else:\n",
    "                if current_label is not None and current_label != \"O\":\n",
    "                    if current_label not in answers:\n",
    "                        answers[current_label] = []\n",
    "                    answers[current_label].append({\"start\": start_index, \"end\": current_index})\n",
    "                \n",
    "                if label != \"0\":\n",
    "                    current_label = label\n",
    "                    start_index = current_index\n",
    "                else:\n",
    "                    current_label = None\n",
    "    \n",
    "        if current_label is not None and current_label != \"O\":\n",
    "            if current_label not in answers:\n",
    "                answers[current_label] = []\n",
    "            answers[current_label].append({\"start\": start_index, \"end\": len(predictions)})\n",
    "        \n",
    "        validation_answers = []\n",
    "        for label, segments in answers.items():\n",
    "            validation_answers.append({\"id\": label, \"data\": segments})\n",
    "        \n",
    "        validation_result.append({\n",
    "            \"taskId\": task_id,\n",
    "            \"answer\": validation_answers\n",
    "        })\n",
    "        \n",
    "    return validation_result"
   ]
  },
  {
   "cell_type": "code",
   "execution_count": 10,
   "id": "14f25440dc7c22ad",
   "metadata": {
    "ExecuteTime": {
     "end_time": "2024-03-21T18:23:24.634739Z",
     "start_time": "2024-03-21T18:23:23.511075Z"
    }
   },
   "outputs": [],
   "source": [
    "train_dataset = get_labeled_dataset(\"datasets/train_geo_extractor.json\")\n",
    "\n",
    "X_train = [text2features(text) for _, text in train_dataset]\n",
    "y_train = [text2labels(text) for _, text in train_dataset]"
   ]
  },
  {
   "cell_type": "code",
   "execution_count": 11,
   "id": "73a3766c5aeb1fc6",
   "metadata": {
    "ExecuteTime": {
     "end_time": "2024-03-21T18:23:53.208689Z",
     "start_time": "2024-03-21T18:23:24.636245Z"
    }
   },
   "outputs": [],
   "source": [
    "import sklearn_crfsuite\n",
    "\n",
    "crf_model = sklearn_crfsuite.CRF(\n",
    "    algorithm='lbfgs',\n",
    "    c1=0.1,\n",
    "    c2=0.1,\n",
    "    max_iterations=100,\n",
    "    all_possible_transitions=True\n",
    ")\n",
    "\n",
    "try:\n",
    "    crf_model.fit(X_train, y_train)\n",
    "except AttributeError:\n",
    "    pass"
   ]
  },
  {
   "cell_type": "code",
   "execution_count": 12,
   "id": "7076bb8edeacf502",
   "metadata": {
    "ExecuteTime": {
     "end_time": "2024-03-21T18:23:53.511363Z",
     "start_time": "2024-03-21T18:23:53.211534Z"
    }
   },
   "outputs": [],
   "source": [
    "test_dataset = get_labeled_dataset(\"datasets/test_geo_extractor.json\")\n",
    "\n",
    "X_test = [text2features(text) for _, text in test_dataset]\n",
    "y_test = [text2labels(text) for _, text in test_dataset]"
   ]
  },
  {
   "cell_type": "code",
   "execution_count": 13,
   "id": "ad83f81a209701d3",
   "metadata": {
    "ExecuteTime": {
     "end_time": "2024-03-21T18:23:54.186254Z",
     "start_time": "2024-03-21T18:23:53.513891Z"
    }
   },
   "outputs": [
    {
     "name": "stdout",
     "output_type": "stream",
     "text": [
      "                   precision    recall  f1-score   support\n",
      "\n",
      "                O       0.99      0.99      0.99     62822\n",
      "     central_city       0.45      0.29      0.35       184\n",
      "      geo_address       0.89      0.76      0.82      1040\n",
      "     geo_building       0.82      0.73      0.77       453\n",
      "         geo_city       0.85      0.83      0.84      1433\n",
      "     geo_district       0.88      0.79      0.83       387\n",
      "geo_microdistrict       0.65      0.52      0.58       382\n",
      "       geo_region       0.99      0.99      0.99      1733\n",
      "geo_region_oblast       0.88      0.88      0.88       297\n",
      "       geo_street       0.83      0.79      0.81      1059\n",
      "\n",
      "         accuracy                           0.98     69790\n",
      "        macro avg       0.82      0.76      0.79     69790\n",
      "     weighted avg       0.98      0.98      0.98     69790\n",
      "\n",
      "Matthews Correlation Coefficient: 0.8743889175550185\n"
     ]
    }
   ],
   "source": [
    "from sklearn.metrics import classification_report, matthews_corrcoef\n",
    "\n",
    "y_pred = crf_model.predict(X_test)\n",
    "y_test_flat = [label for text in y_test for label in text]\n",
    "y_pred_flat = [label for text in y_pred for label in text]\n",
    "\n",
    "report = classification_report(y_test_flat, y_pred_flat)\n",
    "matthews_correlation_coefficient = matthews_corrcoef(y_test_flat, y_pred_flat)\n",
    "\n",
    "print(report)\n",
    "print(f\"Matthews Correlation Coefficient: {matthews_correlation_coefficient}\")"
   ]
  },
  {
   "cell_type": "code",
   "execution_count": 14,
   "id": "7b558eb5",
   "metadata": {},
   "outputs": [],
   "source": [
    "validation_dataset = get_labeled_dataset(\"datasets/val_no_answer_geo_extractor.json\", for_inference=True)\n",
    "\n",
    "X_validation = [(task_id, text2features(text)) for task_id, text in validation_dataset]\n",
    "\n",
    "X_validation_features = [text_features for _, text_features in X_validation]\n",
    "\n",
    "y_pred = crf_model.predict(X_validation_features)"
   ]
  },
  {
   "cell_type": "code",
   "execution_count": 15,
   "id": "0b5b2011",
   "metadata": {},
   "outputs": [
    {
     "name": "stdout",
     "output_type": "stream",
     "text": [
      "Validation result has been saved!\n"
     ]
    }
   ],
   "source": [
    "validation_result = get_validation_result(X_validation, y_pred)\n",
    "\n",
    "with open(\"validation_result.json\", \"w\", encoding=\"utf-8\") as file:\n",
    "    json.dump(validation_result, file, ensure_ascii=False, indent=4)\n",
    "\n",
    "print(\"Validation result has been saved!\")"
   ]
  },
  {
   "cell_type": "code",
   "execution_count": null,
   "id": "366bef82",
   "metadata": {},
   "outputs": [],
   "source": []
  }
 ],
 "metadata": {
  "kernelspec": {
   "display_name": "Python 3 (ipykernel)",
   "language": "python",
   "name": "python3"
  },
  "language_info": {
   "codemirror_mode": {
    "name": "ipython",
    "version": 3
   },
   "file_extension": ".py",
   "mimetype": "text/x-python",
   "name": "python",
   "nbconvert_exporter": "python",
   "pygments_lexer": "ipython3",
   "version": "3.9.13"
  }
 },
 "nbformat": 4,
 "nbformat_minor": 5
}
